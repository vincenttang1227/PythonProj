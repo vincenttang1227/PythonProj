{
 "cells": [
  {
   "cell_type": "code",
   "execution_count": 1,
   "metadata": {
    "scrolled": true
   },
   "outputs": [
    {
     "name": "stdout",
     "output_type": "stream",
     "text": [
      "Sandwich\n",
      "Index of 'S': 0\n",
      "Index of 'a': 1\n",
      "Index of 'n': 2\n",
      "Index of 'd': 3\n",
      "Index of 'w': 4\n",
      "Index of 'i': 5\n",
      "Index of 'c': 6\n",
      "Index of 'h': 7\n"
     ]
    }
   ],
   "source": [
    "# 801 字串索引 -- 錯誤\n",
    "# 尋找索引 find\n",
    "str1 = input()\n",
    "for i in range(len(str1)): print('Index of \\'{}\\': {}'.format(str1[i],str1.find(str1[i])))"
   ]
  },
  {
   "cell_type": "code",
   "execution_count": null,
   "metadata": {},
   "outputs": [],
   "source": [
    "# 802 字元對應\n",
    "# ord(n)->字元 n的 ASCII碼 , chr(n)->ASCII n的字元\n",
    "str1,asc_sum = input(),0\n",
    "for i in range(len(str1)):\n",
    "    print('ASCII code for \\'{}\\' is {}'.format(str1[i],ord(str1[i])))\n",
    "    asc_sum += ord(str1[i])\n",
    "print(asc_sum)"
   ]
  },
  {
   "cell_type": "code",
   "execution_count": null,
   "metadata": {},
   "outputs": [],
   "source": [
    "# 803 倒數三個詞\n",
    "str1 = input()\n",
    "str_list = str1.split(' ')\n",
    "print('{}'.format(str_list[-3]),end=' ')\n",
    "print('{}'.format(str_list[-2]),end=' ')\n",
    "print('{}'.format(str_list[-1]))"
   ]
  },
  {
   "cell_type": "code",
   "execution_count": null,
   "metadata": {},
   "outputs": [],
   "source": [
    "# 804 大寫轉換\n",
    "# .upper()-全部大寫 , .title()-每個單字的字首\n",
    "str1 = input()\n",
    "print(str1.upper())\n",
    "print(str1.title())"
   ]
  },
  {
   "cell_type": "code",
   "execution_count": null,
   "metadata": {},
   "outputs": [],
   "source": [
    "# 805 字串輸出\n",
    "str1 = input()\n",
    "print('|{:10}|'.format(str1))\n",
    "print('|{:^10}|'.format(str1))\n",
    "print('|{:>10}|'.format(str1))"
   ]
  },
  {
   "cell_type": "code",
   "execution_count": 61,
   "metadata": {},
   "outputs": [
    {
     "name": "stdout",
     "output_type": "stream",
     "text": [
      "Our country is beautiful\n"
     ]
    },
    {
     "ename": "NameError",
     "evalue": "name 'char' is not defined",
     "output_type": "error",
     "traceback": [
      "\u001b[1;31m---------------------------------------------------------------------------\u001b[0m",
      "\u001b[1;31mNameError\u001b[0m                                 Traceback (most recent call last)",
      "\u001b[1;32m<ipython-input-61-1c5510c5890b>\u001b[0m in \u001b[0;36m<module>\u001b[1;34m()\u001b[0m\n\u001b[0;32m      2\u001b[0m \u001b[1;32mdef\u001b[0m \u001b[0mcompute\u001b[0m\u001b[1;33m(\u001b[0m\u001b[0mx\u001b[0m\u001b[1;33m,\u001b[0m\u001b[0my\u001b[0m\u001b[1;33m)\u001b[0m\u001b[1;33m:\u001b[0m\u001b[1;33m\u001b[0m\u001b[0m\n\u001b[0;32m      3\u001b[0m     \u001b[1;32mreturn\u001b[0m \u001b[0mx\u001b[0m\u001b[1;33m.\u001b[0m\u001b[0mcount\u001b[0m\u001b[1;33m(\u001b[0m\u001b[0my\u001b[0m\u001b[1;33m)\u001b[0m\u001b[1;33m\u001b[0m\u001b[0m\n\u001b[1;32m----> 4\u001b[1;33m \u001b[0mstr1\u001b[0m\u001b[1;33m,\u001b[0m\u001b[0mcha\u001b[0m \u001b[1;33m=\u001b[0m \u001b[0minput\u001b[0m\u001b[1;33m(\u001b[0m\u001b[1;33m)\u001b[0m\u001b[1;33m,\u001b[0m\u001b[0mchar\u001b[0m\u001b[1;33m(\u001b[0m\u001b[0minput\u001b[0m\u001b[1;33m(\u001b[0m\u001b[1;33m)\u001b[0m\u001b[1;33m)\u001b[0m\u001b[1;33m\u001b[0m\u001b[0m\n\u001b[0m\u001b[0;32m      5\u001b[0m \u001b[0mprint\u001b[0m\u001b[1;33m(\u001b[0m\u001b[1;34m'u occurs'\u001b[0m\u001b[1;33m,\u001b[0m\u001b[0mcompute\u001b[0m\u001b[1;33m(\u001b[0m\u001b[0mstr1\u001b[0m\u001b[1;33m,\u001b[0m\u001b[0mcha\u001b[0m\u001b[1;33m)\u001b[0m\u001b[1;33m,\u001b[0m\u001b[1;34m'time(s)'\u001b[0m\u001b[1;33m)\u001b[0m\u001b[1;33m\u001b[0m\u001b[0m\n",
      "\u001b[1;31mNameError\u001b[0m: name 'char' is not defined"
     ]
    }
   ],
   "source": [
    "# 806 字元次數計算 -- 錯誤\n",
    "def compute(x,y): \n",
    "    return x.count(y)\n",
    "str1,cha1 = input(),input()\n",
    "print('u occurs',compute(str1,cha1),'time(s)')"
   ]
  },
  {
   "cell_type": "code",
   "execution_count": 2,
   "metadata": {},
   "outputs": [
    {
     "name": "stdout",
     "output_type": "stream",
     "text": [
      "-2 0 38\n",
      "Total = 36\n",
      "Average = 12.0\n"
     ]
    }
   ],
   "source": [
    "# 807 字串加總\n",
    "num_str = input()\n",
    "num_list,num_sum = num_str.split(' '),0\n",
    "\n",
    "for i in num_list: num_sum += int(i)\n",
    "print ('Total =',num_sum)\n",
    "print ('Average =',num_sum/len(num_list))"
   ]
  },
  {
   "cell_type": "code",
   "execution_count": null,
   "metadata": {},
   "outputs": [],
   "source": [
    "# 808 社會安全碼\n",
    "ssn_num = input()\n",
    "num = ssn_num.replace('-','0')\n",
    "print('Valid SSN') if num.isdigit()==True else print('Invalid SSN')"
   ]
  },
  {
   "cell_type": "code",
   "execution_count": null,
   "metadata": {},
   "outputs": [],
   "source": [
    "# 809 密碼規則\n",
    "password,list1 = input(),[]\n",
    "for i in range(len(password)): list1.append(password[i].isupper())\n",
    "if len(password) < 8 or password.isalnum() == False or True not in list1: print('Invalid password')\n",
    "else: print('Valid password')"
   ]
  },
  {
   "cell_type": "code",
   "execution_count": 58,
   "metadata": {
    "scrolled": true
   },
   "outputs": [
    {
     "name": "stdout",
     "output_type": "stream",
     "text": [
      "4\n",
      "94 52.9 3.14 77 46\n",
      "90.86\n",
      "-2 0 1000.34 -14.4 89 50\n",
      "1014.74\n",
      "87.78 33333 29.3\n",
      "33303.70\n",
      "9998 9996 9999\n",
      "3.00\n"
     ]
    }
   ],
   "source": [
    "# 810 最大值與最小值之差\n",
    "k = int(input())\n",
    "\n",
    "for i in range(k):\n",
    "    num = input()\n",
    "    num_list = num.split(' ')\n",
    "    list(map(eval, num_list))\n",
    "    print('{:.2f}'.format(max(num_list)-min(num_list)))"
   ]
  },
  {
   "cell_type": "code",
   "execution_count": 55,
   "metadata": {},
   "outputs": [
    {
     "data": {
      "text/plain": [
       "'89'"
      ]
     },
     "execution_count": 55,
     "metadata": {},
     "output_type": "execute_result"
    }
   ],
   "source": [
    "max(np_list)"
   ]
  },
  {
   "cell_type": "code",
   "execution_count": 24,
   "metadata": {},
   "outputs": [
    {
     "ename": "AttributeError",
     "evalue": "'list' object has no attribute 'max'",
     "output_type": "error",
     "traceback": [
      "\u001b[1;31m---------------------------------------------------------------------------\u001b[0m",
      "\u001b[1;31mAttributeError\u001b[0m                            Traceback (most recent call last)",
      "\u001b[1;32m<ipython-input-24-da488859fe97>\u001b[0m in \u001b[0;36m<module>\u001b[1;34m()\u001b[0m\n\u001b[1;32m----> 1\u001b[1;33m \u001b[0mmax_num\u001b[0m \u001b[1;33m=\u001b[0m \u001b[0mnum_list\u001b[0m\u001b[1;33m.\u001b[0m\u001b[0mmax\u001b[0m\u001b[1;33m(\u001b[0m\u001b[1;33m)\u001b[0m\u001b[1;33m\u001b[0m\u001b[0m\n\u001b[0m\u001b[0;32m      2\u001b[0m \u001b[0mmax_num\u001b[0m\u001b[1;33m\u001b[0m\u001b[0m\n",
      "\u001b[1;31mAttributeError\u001b[0m: 'list' object has no attribute 'max'"
     ]
    }
   ],
   "source": [
    "max_num = num_list.max()\n",
    "max_num"
   ]
  }
 ],
 "metadata": {
  "kernelspec": {
   "display_name": "Python 3",
   "language": "python",
   "name": "python3"
  },
  "language_info": {
   "codemirror_mode": {
    "name": "ipython",
    "version": 3
   },
   "file_extension": ".py",
   "mimetype": "text/x-python",
   "name": "python",
   "nbconvert_exporter": "python",
   "pygments_lexer": "ipython3",
   "version": "3.6.5"
  }
 },
 "nbformat": 4,
 "nbformat_minor": 2
}
