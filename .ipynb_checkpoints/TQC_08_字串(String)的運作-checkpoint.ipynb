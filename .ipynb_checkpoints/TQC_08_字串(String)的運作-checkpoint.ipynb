{
 "cells": [
  {
   "cell_type": "code",
   "execution_count": 3,
   "metadata": {
    "scrolled": true
   },
   "outputs": [
    {
     "ename": "SyntaxError",
     "evalue": "invalid syntax (<ipython-input-3-054ed07aba84>, line 4)",
     "output_type": "error",
     "traceback": [
      "\u001b[1;36m  File \u001b[1;32m\"<ipython-input-3-054ed07aba84>\"\u001b[1;36m, line \u001b[1;32m4\u001b[0m\n\u001b[1;33m    print(r\"Index of '{}': {}\".format(str1[i],i)) for i in range(len(str1))\u001b[0m\n\u001b[1;37m                                                    ^\u001b[0m\n\u001b[1;31mSyntaxError\u001b[0m\u001b[1;31m:\u001b[0m invalid syntax\n"
     ]
    }
   ],
   "source": [
    "# 801 字串索引\n",
    "str1 = input()\n",
    "\n",
    "for i in range(len(str1)): print(r\"Index of '{}': {}\".format(str1[i],i))"
   ]
  },
  {
   "cell_type": "code",
   "execution_count": null,
   "metadata": {},
   "outputs": [],
   "source": [
    "# 802 字元對應\n",
    "# ord(n)->字元 n的 ASCII碼 , chr(n)->ASCII n的字元\n",
    "str1,ascSum = input(),0\n",
    "\n",
    "for i in range(len(str1)):\n",
    "    print(\"ASCII code for \\'\",str1[i],\"\\' is \",ord(str1[i]),sep='')\n",
    "    ascSum += ord(str1[i])\n",
    "    \n",
    "print(ascSum)"
   ]
  },
  {
   "cell_type": "code",
   "execution_count": null,
   "metadata": {},
   "outputs": [],
   "source": [
    "# 803 倒數三個詞\n",
    "str1 = input()\n",
    "strList = str1.split(' ')\n",
    "\n",
    "print((strList[-3]),(strList[-2]),(strList[-1]))"
   ]
  },
  {
   "cell_type": "code",
   "execution_count": null,
   "metadata": {},
   "outputs": [],
   "source": [
    "# 804 大寫轉換\n",
    "# .upper()-全部大寫 , .title()-每個單字的字首\n",
    "str1 = input()\n",
    "\n",
    "print(str1.upper(),\"\\n\",str1.title(),sep='')"
   ]
  },
  {
   "cell_type": "code",
   "execution_count": null,
   "metadata": {},
   "outputs": [],
   "source": [
    "# 805 字串輸出\n",
    "str1 = input()\n",
    "\n",
    "print('|{:10}|\\n|{:^10}|\\n|{:>10}|'.format(str1,str1,str1))"
   ]
  },
  {
   "cell_type": "code",
   "execution_count": 3,
   "metadata": {},
   "outputs": [
    {
     "name": "stdout",
     "output_type": "stream",
     "text": [
      "Our country is beautiful\n",
      "o\n",
      "o occurs 1 time(s)\n"
     ]
    }
   ],
   "source": [
    "# 806 字元次數計算\n",
    "# def compute(x,y): \n",
    "#     return x.count(y)\n",
    "compute = lambda x,y : x.count(y)\n",
    "\n",
    "str1,cha1 = input(),input()\n",
    "print(cha1,'occurs',compute(str1,cha1),'time(s)')"
   ]
  },
  {
   "cell_type": "code",
   "execution_count": 7,
   "metadata": {},
   "outputs": [
    {
     "name": "stdout",
     "output_type": "stream",
     "text": [
      "-2 34 18 29 -56\n",
      "Total = 23\n",
      "Average = 4.6\n"
     ]
    }
   ],
   "source": [
    "# 807 字串加總\n",
    "numStr,numSum = input(),0\n",
    "numList = numStr.split(' ')\n",
    "\n",
    "for i in numList: numSum += int(i)\n",
    "    \n",
    "print ('Total = ',numSum,'\\nAverage = ',numSum/len(numList),sep='')"
   ]
  },
  {
   "cell_type": "code",
   "execution_count": null,
   "metadata": {},
   "outputs": [],
   "source": [
    "# 808 社會安全碼\n",
    "ssnNum = input()\n",
    "num = ssnNum.replace('-','0')\n",
    "\n",
    "print('Valid SSN') if num.isdigit()==True else print('Invalid SSN')"
   ]
  },
  {
   "cell_type": "code",
   "execution_count": 12,
   "metadata": {},
   "outputs": [
    {
     "name": "stdout",
     "output_type": "stream",
     "text": [
      "39dk8fh\n",
      "Invalid password\n"
     ]
    }
   ],
   "source": [
    "# 809 密碼規則\n",
    "password,list1 = input(),[]\n",
    "for i in range(len(password)): list1.append(password[i].isupper())\n",
    "    \n",
    "if len(password) >= 8 and password.isalnum() == True and True in list1: print('Valid password')\n",
    "else: print('Invalid password')"
   ]
  },
  {
   "cell_type": "code",
   "execution_count": null,
   "metadata": {
    "scrolled": true
   },
   "outputs": [],
   "source": [
    "# 810 最大值與最小值之差\n",
    "k = int(input())\n",
    "\n",
    "for i in range(k):\n",
    "    num = input()\n",
    "    numList = num.split(' ')\n",
    "    list(map(eval, numList))\n",
    "    print('{:.2f}'.format(max(numList)-min(numList)))"
   ]
  }
 ],
 "metadata": {
  "kernelspec": {
   "display_name": "Python 3",
   "language": "python",
   "name": "python3"
  },
  "language_info": {
   "codemirror_mode": {
    "name": "ipython",
    "version": 3
   },
   "file_extension": ".py",
   "mimetype": "text/x-python",
   "name": "python",
   "nbconvert_exporter": "python",
   "pygments_lexer": "ipython3",
   "version": "3.6.5"
  }
 },
 "nbformat": 4,
 "nbformat_minor": 2
}
