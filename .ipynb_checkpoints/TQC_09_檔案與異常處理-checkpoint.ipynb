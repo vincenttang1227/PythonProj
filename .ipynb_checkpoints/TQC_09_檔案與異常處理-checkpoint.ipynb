{
 "cells": [
  {
   "cell_type": "code",
   "execution_count": null,
   "metadata": {},
   "outputs": [],
   "source": [
    "# 901 成績資料 -- open(file,'w') -- 建立新檔案，若已有檔案則清除檔案內容(可寫入)\n",
    "with open('write.txt','w') as f:\n",
    "    for i in range(5):\n",
    "        grade = input()\n",
    "        f.write('{}'.format(grade)+'\\n')"
   ]
  },
  {
   "cell_type": "code",
   "execution_count": null,
   "metadata": {},
   "outputs": [],
   "source": [
    "# 902 資料加總 -- open(file,'r') -- 開啟已存在的檔案(不可寫入)\n",
    "with open('read.txt','r',encoding = 'UTF-8') as f:\n",
    "    num_list,sum1 = (f.readline()).split(),0\n",
    "    for i in num_list: sum1 += int(i)\n",
    "    print(sum1)"
   ]
  },
  {
   "cell_type": "code",
   "execution_count": null,
   "metadata": {},
   "outputs": [],
   "source": [
    "# 903 成績資料 -- open(file,'a') -- 開啟已存在檔案(可寫入)\n",
    "with open('data.txt','a',encoding = 'UTF-8') as f:\n",
    "# 檔案最後一筆資料沒換行時，寫入資料如果想換行，'\\n'要加在前面\n",
    "    for i in range(5): f.write('\\n'+input())\n",
    "print('Append completed!')\n",
    "print('Content of \"data.txt\":')\n",
    "with open('data.txt','r',encoding = 'UTF-8') as f:\n",
    "    for i in f: print(i,end='')"
   ]
  },
  {
   "cell_type": "code",
   "execution_count": null,
   "metadata": {},
   "outputs": [],
   "source": [
    "# 904 資料計算\n",
    "height_list,weight_list,max_height,max_weight = [],[],0,0\n",
    "with open('read.txt','r',encoding = 'UTF-8') as fp:\n",
    "# 逐行讀取檔案轉成字串，會執行空字符(空格、换行(\\n)、制表符(\\t))換行符號\n",
    "# 若不想有空行，可用print(i,end='')\n",
    "    for i in fp: print(i)\n",
    "# list = string.split() -- 將string以空字符(空格、换行(\\n)、制表符(\\t))為分隔，轉成list\n",
    "        lt = i.split()\n",
    "        if eval(lt[1]) > max_height:\n",
    "            max_height = eval(lt[1])\n",
    "            height_name = lt[0]\n",
    "        if eval(lt[2]) > max_weight:\n",
    "            max_weight = eval(lt[2])\n",
    "            weight_name = lt[0]\n",
    "        height_list.append(eval(lt[1]))\n",
    "        weight_list.append(eval(lt[2]))\n",
    "print('Average height: {:.2f}'.format(sum(height_list)/len(height_list)))\n",
    "print('Average weight: {:.2f}'.format(sum(weight_list)/len(weight_list)))\n",
    "print('The tallest is {} with {:.2f}cm'.format(height_name,max_height))\n",
    "print('The heaviest is {} with {:.2f}kg'.format(weight_name,max_weight))"
   ]
  },
  {
   "cell_type": "code",
   "execution_count": null,
   "metadata": {},
   "outputs": [],
   "source": [
    "# 905 字串資料刪除\n",
    "fn,str1 = input(),input()\n",
    "with open(fn,'r',encoding = 'UTF-8') as fp:\n",
    "    print('=== Before the deletion')\n",
    "# fp.read() -- 讀取檔案所有內容，去除空字符形成字串型態\n",
    "    fp_str = fp.read()\n",
    "    print(fp_str)\n",
    "    print('=== After the deletion')\n",
    "    fp_str1 = fp_str.replace(str1,'')\n",
    "    print(fp_str1)\n",
    "# 將新內容寫入檔案\n",
    "with open(fn,'w',encoding = 'UTF-8') as fp:\n",
    "    fp.write(fp_str1)"
   ]
  },
  {
   "cell_type": "code",
   "execution_count": 5,
   "metadata": {},
   "outputs": [
    {
     "name": "stdout",
     "output_type": "stream",
     "text": [
      "data.txt\n",
      "pen\n",
      "sneakers\n",
      "=== Before the replacement\n",
      "watch shoes skirt\n",
      "pen trunks pants\n",
      "=== After the replacement\n",
      "watch shoes skirt\n",
      "sneakers trunks pants\n"
     ]
    }
   ],
   "source": [
    "# 906 字串資料取代\n",
    "fn,str1,str2 = input(),input(),input()\n",
    "with open(fn,'r',encoding='UTF-8') as fp:\n",
    "    fp_str = fp.read()\n",
    "    print('=== Before the replacement')\n",
    "    print(fp_str)\n",
    "    fp_str1 = fp_str.replace(str1,str2)\n",
    "    print('=== After the replacement')\n",
    "    print(fp_str1)"
   ]
  },
  {
   "cell_type": "code",
   "execution_count": null,
   "metadata": {},
   "outputs": [],
   "source": [
    "# 907 詳細資料顯示\n",
    "fn,fp_word,word_num,char_num = input(),[],0,0\n",
    "with open(fn,'r',encoding = 'UTF-8') as fp:\n",
    "    fp_line = fp.readlines()\n",
    "    for i in range(len(fp_line)):\n",
    "        fp_word.append(fp_line[i].split())\n",
    "        word_num += len(fp_word[i])\n",
    "        for j in range(len(fp_word[i])): char_num += len(fp_word[i][j])\n",
    "    print(len(fp_line),'line(s)')\n",
    "    print(word_num,'word(s)')\n",
    "    print(char_num,'character(s)')"
   ]
  },
  {
   "cell_type": "code",
   "execution_count": null,
   "metadata": {},
   "outputs": [],
   "source": [
    "# 908 單字次數計算\n",
    "fn,nums,word_list = input(),int(input()),[]\n",
    "with open(fn,'r',encoding='UTF-8') as fp:\n",
    "    lt = sorted(fp.read().split())\n",
    "    for i in lt:\n",
    "        if i not in word_list:\n",
    "            if lt.count(i) == nums:\n",
    "                word_list.append(i)\n",
    "                print(word_list[-1],end='\\n')"
   ]
  },
  {
   "cell_type": "code",
   "execution_count": null,
   "metadata": {},
   "outputs": [],
   "source": [
    "# 909 聯絡人資料\n",
    "with open('data.dat','a',encoding='UTF-8') as fp:\n",
    "    for i in range(5):\n",
    "        data = input()\n",
    "        fp.write(data+'\\n')\n",
    "with open('data.dat','r',encoding='UTF-8') as fp:\n",
    "    print('The content of \"data.dat\":')\n",
    "    for i in fp: print(i)"
   ]
  },
  {
   "cell_type": "code",
   "execution_count": 4,
   "metadata": {},
   "outputs": [
    {
     "name": "stdout",
     "output_type": "stream",
     "text": [
      "學號 姓名 性別 科系\n",
      "\n",
      "101 陳小華 0 餐旅管理\n",
      "\n",
      "202 李小安 1 廣告\n",
      "\n",
      "303 張小威 1 英文\n",
      "\n",
      "404 羅小美 0 法文\n",
      "\n",
      "505 陳小凱 1 日文\n",
      "Number of males: 3\n",
      "Number of females: 2\n"
     ]
    }
   ],
   "source": [
    "# 910 學生基本資料\n",
    "with open('read.dat','r',encoding='UTF-8') as fp:\n",
    "    for i in fp: print(i)\n",
    "with open('read.dat','r',encoding='UTF-8') as fp:\n",
    "    fp_list = fp.read().split()\n",
    "    print('Number of males: {}\\nNumber of females: {}'.format(fp_list.count('1'),fp_list.count('0')))"
   ]
  }
 ],
 "metadata": {
  "kernelspec": {
   "display_name": "Python 3",
   "language": "python",
   "name": "python3"
  },
  "language_info": {
   "codemirror_mode": {
    "name": "ipython",
    "version": 3
   },
   "file_extension": ".py",
   "mimetype": "text/x-python",
   "name": "python",
   "nbconvert_exporter": "python",
   "pygments_lexer": "ipython3",
   "version": "3.6.5"
  }
 },
 "nbformat": 4,
 "nbformat_minor": 2
}
