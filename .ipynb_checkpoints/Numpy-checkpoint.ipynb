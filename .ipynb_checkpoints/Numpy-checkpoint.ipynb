{
 "cells": [
  {
   "cell_type": "code",
   "execution_count": 34,
   "metadata": {},
   "outputs": [
    {
     "name": "stdout",
     "output_type": "stream",
     "text": [
      "[ 2 23  4]\n",
      "\n",
      " float64\n",
      "\n",
      " [[ 2 23  4]\n",
      " [ 2 32  4]]\n",
      "\n",
      " [[0. 0. 0. 0.]\n",
      " [0. 0. 0. 0.]\n",
      " [0. 0. 0. 0.]]\n",
      "\n",
      " [[1 1 1 1]\n",
      " [1 1 1 1]\n",
      " [1 1 1 1]]\n",
      "\n",
      " [[0. 0. 0. 0.]\n",
      " [0. 0. 0. 0.]\n",
      " [0. 0. 0. 0.]]\n",
      "\n",
      " [10 12 14 16 18]\n",
      "\n",
      " [ 1  2  3  4  5  6  7  8  9 10 11 12]\n",
      "[[ 1  2  3  4]\n",
      " [ 5  6  7  8]\n",
      " [ 9 10 11 12]]\n",
      "\n",
      " [ 1.          1.47368421  1.94736842  2.42105263  2.89473684  3.36842105\n",
      "  3.84210526  4.31578947  4.78947368  5.26315789  5.73684211  6.21052632\n",
      "  6.68421053  7.15789474  7.63157895  8.10526316  8.57894737  9.05263158\n",
      "  9.52631579 10.        ]\n",
      "[[ 1.          1.47368421  1.94736842  2.42105263]\n",
      " [ 2.89473684  3.36842105  3.84210526  4.31578947]\n",
      " [ 4.78947368  5.26315789  5.73684211  6.21052632]\n",
      " [ 6.68421053  7.15789474  7.63157895  8.10526316]\n",
      " [ 8.57894737  9.05263158  9.52631579 10.        ]]\n"
     ]
    }
   ],
   "source": [
    "# numpy陣列建立方式\n",
    "import numpy as np\n",
    "\n",
    "a = np.array([2, 23, 4])\n",
    "print(a)\n",
    "a = np.array([2, 23, 4], dtype=np.float)\n",
    "print(\"\\n\", a.dtype)\n",
    "a = np.array([[2, 23, 4], [2, 32, 4]])\n",
    "print(\"\\n\", a)\n",
    "a = np.zeros((3, 4))\n",
    "print(\"\\n\", a)\n",
    "a = np.ones((3, 4), dtype=np.int)\n",
    "print(\"\\n\", a)\n",
    "a = np.empty((3, 4))\n",
    "print(\"\\n\", a)\n",
    "a = np.arange(10, 20, 2)\n",
    "print(\"\\n\", a)\n",
    "a = np.arange(1, 13)\n",
    "print(\"\\n\", a)\n",
    "print(a.reshape((3, 4)))\n",
    "a = np.linspace(1, 10, 20)\n",
    "print(\"\\n\", a)\n",
    "print(a.reshape((5, 4)))"
   ]
  },
  {
   "cell_type": "code",
   "execution_count": 39,
   "metadata": {},
   "outputs": [
    {
     "name": "stdout",
     "output_type": "stream",
     "text": [
      "[11 22 33 44] \n",
      "\n",
      "[ 9 18 27 36] \n",
      "\n",
      "[ 10  40  90 160] \n",
      "\n",
      "[10. 10. 10. 10.] \n",
      "\n",
      "[ 1  4  9 16] \n",
      "\n",
      "[-5.44021111  9.12945251 -9.88031624  7.4511316 ] \n",
      "\n",
      "[ True  True False False]\n"
     ]
    }
   ],
   "source": [
    "# numpy陣列基本運算\n",
    "import numpy as np\n",
    "a = np.array([10, 20, 30, 40])\n",
    "b = np.arange(1, 5)\n",
    "\n",
    "c = a + b\n",
    "print(c, \"\\n\")\n",
    "c = a - b\n",
    "print(c, \"\\n\")\n",
    "c = a * b\n",
    "print(c, \"\\n\")\n",
    "c = a / b\n",
    "print(c, \"\\n\")\n",
    "c = b**2\n",
    "print(c, \"\\n\")\n",
    "c = 10 * np.sin(a)\n",
    "print(c, \"\\n\")\n",
    "print(b < 3)"
   ]
  },
  {
   "cell_type": "code",
   "execution_count": 71,
   "metadata": {},
   "outputs": [
    {
     "name": "stdout",
     "output_type": "stream",
     "text": [
      "[[1 1]\n",
      " [0 1]]\n",
      "[[0 1]\n",
      " [2 3]]\n",
      "[[0 1]\n",
      " [0 3]]\n",
      "\n",
      "[[2 4]\n",
      " [2 3]]\n",
      "\n",
      "[[2 4]\n",
      " [2 3]]\n"
     ]
    }
   ],
   "source": [
    "# numppy二維矩陣的dot乘法 -- 不理解\n",
    "a = np.array([[1, 1], [0, 1]])\n",
    "b = np.arange(4).reshape((2, 2))\n",
    "print(a, \"\\n\", b, sep=\"\")\n",
    "\n",
    "c_dot = np.dot(a, b)\n",
    "print(\"\\n\", c_dot, sep=\"\")\n",
    "\n",
    "c_dot = a.dot(b)\n",
    "print(\"\\n\", c_dot, sep=\"\")"
   ]
  },
  {
   "cell_type": "code",
   "execution_count": 20,
   "metadata": {},
   "outputs": [
    {
     "name": "stdout",
     "output_type": "stream",
     "text": [
      "[[0.05613943 0.96936372 0.08039218 0.45547299]\n",
      " [0.53537943 0.99132747 0.61392986 0.8152305 ]] \n",
      "\n",
      "[[ 1.81752418 -0.2893354  -0.00699556  1.15583106]\n",
      " [ 0.52711979  0.12050688 -0.71228987  1.25772345]] \n",
      "\n",
      "4.5172355787346925 \n",
      "\n",
      "0.05613943465643012 \n",
      "\n",
      "0.9913274666359883 \n",
      "\n",
      "a= [[0.05613943 0.96936372 0.08039218 0.45547299]\n",
      " [0.53537943 0.99132747 0.61392986 0.8152305 ]]\n",
      "sum= [1.56136833 2.95586725]\n",
      "min= [0.05613943 0.96936372 0.08039218 0.45547299]\n",
      "max= [0.96936372 0.99132747]\n"
     ]
    }
   ],
   "source": [
    "import numpy as np\n",
    "\n",
    "a = np.random.random((2, 4))\n",
    "b = np.random.randn(2, 4)\n",
    "print(a, \"\\n\")\n",
    "print(b, \"\\n\")\n",
    "print(a.sum(), \"\\n\")\n",
    "print(a.min(), \"\\n\")\n",
    "print(a.max(), \"\\n\")\n",
    "\n",
    "# axis=0，以列为查找单元，axis=1，以行为查找单元\n",
    "print(\"a=\", a)\n",
    "print(\"sum=\", a.sum(axis=1))\n",
    "print(\"min=\", a.min(axis=0))\n",
    "print(\"max=\", a.max(axis=1))"
   ]
  },
  {
   "cell_type": "code",
   "execution_count": 2,
   "metadata": {},
   "outputs": [
    {
     "name": "stdout",
     "output_type": "stream",
     "text": [
      "[[ 2  3  4  5  6]\n",
      " [ 7  8  9 10 11]\n",
      " [12 13 14 15 16]]\n",
      "0\n",
      "14\n",
      "9.0\n",
      "9.0\n",
      "9.0\n"
     ]
    }
   ],
   "source": [
    "import numpy as np\n",
    "A = np.arange(2, 17).reshape((3, 5))\n",
    "\n",
    "# array([[ 2, 3, 4, 5]\n",
    "#        [ 6, 7, 8, 9]\n",
    "#        [10,11,12,13]])\n",
    "print(A)\n",
    "print(A.argmin())  # 0\n",
    "print(A.argmax())  # 11\n",
    "print(A.mean())  #平均數(sum/個數)\n",
    "print(np.median(A))  #中位數\n",
    "print(np.average(A))  #加權平均數"
   ]
  },
  {
   "cell_type": "code",
   "execution_count": 5,
   "metadata": {},
   "outputs": [
    {
     "name": "stdout",
     "output_type": "stream",
     "text": [
      "[[11 12 13 14]\n",
      " [ 7  8  9 10]\n",
      " [ 3  4  5  6]]\n",
      "[[14 10  6]\n",
      " [13  9  5]\n",
      " [12  8  4]\n",
      " [11  7  3]]\n",
      "[[14 10  6]\n",
      " [13  9  5]\n",
      " [12  8  4]\n",
      " [11  7  3]]\n"
     ]
    }
   ],
   "source": [
    "# numpy矩陣的轉置\n",
    "import numpy as np\n",
    "A = np.arange(14, 2, -1).reshape((3, 4))\n",
    "\n",
    "# array([[14, 13, 12, 11],\n",
    "#       [10,  9,  8,  7],\n",
    "#       [ 6,  5,  4,  3]])\n",
    "\n",
    "print(np.sort(A))\n",
    "\n",
    "# array([[11,12,13,14]\n",
    "#        [ 7, 8, 9,10]\n",
    "#        [ 3, 4, 5, 6]])\n",
    "print(np.transpose(A))\n",
    "print(A.T)\n",
    "# array([[14,10, 6]\n",
    "#        [13, 9, 5]\n",
    "#        [12, 8, 4]\n",
    "#        [11, 7, 3]])\n",
    "# array([[14,10, 6]\n",
    "#        [13, 9, 5]\n",
    "#        [12, 8, 4]\n",
    "#        [11, 7, 3]])"
   ]
  },
  {
   "cell_type": "code",
   "execution_count": 13,
   "metadata": {},
   "outputs": [
    {
     "name": "stdout",
     "output_type": "stream",
     "text": [
      "[[1 1 1]\n",
      " [2 2 2]]\n",
      "[[1 2]\n",
      " [1 2]\n",
      " [1 2]]\n",
      "[1 1 1 2 2 2]\n"
     ]
    }
   ],
   "source": [
    "import numpy as np\n",
    "A = np.array([1, 1, 1])\n",
    "B = np.array([2, 2, 2])\n",
    "\n",
    "# vstack--vertical(垂直合併)\n",
    "print(np.vstack((A, B)))\n",
    "print(np.stack(np.vstack((A, B)), axis=1))\n",
    "# print(np.stack(np.vstack((A,B)),axis=0))\n",
    "\n",
    "# hstack--herizontal(水平合併)\n",
    "print(np.hstack((A, B)))"
   ]
  },
  {
   "cell_type": "code",
   "execution_count": 18,
   "metadata": {},
   "outputs": [
    {
     "name": "stdout",
     "output_type": "stream",
     "text": [
      "[11  1  2  3] [11  1  2  3] [11  1  2  3] [11  1  2  3]\n",
      "[11 22 33  3] [11 22 33  3] [11 22 33  3] \n",
      "\n",
      "[11 22 33  3] [11 22 33  3]\n",
      "[11 22 33 44] [11 22 33  3]\n"
     ]
    }
   ],
   "source": [
    "import numpy as np\n",
    "\n",
    "a = np.arange(4)\n",
    "b = a\n",
    "c = a\n",
    "d = b\n",
    "a[0] = 11\n",
    "print(a, b, c, d)\n",
    "d[1:3] = [22, 33]\n",
    "print(a, b, c, \"\\n\")\n",
    "\n",
    "# a.copy會複製一個全新而沒有關聯性的陣列\n",
    "b = a.copy()\n",
    "print(a, b)\n",
    "a[3] = 44\n",
    "print(a, b)"
   ]
  }
 ],
 "metadata": {
  "kernelspec": {
   "display_name": "Python 3",
   "language": "python",
   "name": "python3"
  },
  "language_info": {
   "codemirror_mode": {
    "name": "ipython",
    "version": 3
   },
   "file_extension": ".py",
   "mimetype": "text/x-python",
   "name": "python",
   "nbconvert_exporter": "python",
   "pygments_lexer": "ipython3",
   "version": "3.6.5"
  }
 },
 "nbformat": 4,
 "nbformat_minor": 2
}
