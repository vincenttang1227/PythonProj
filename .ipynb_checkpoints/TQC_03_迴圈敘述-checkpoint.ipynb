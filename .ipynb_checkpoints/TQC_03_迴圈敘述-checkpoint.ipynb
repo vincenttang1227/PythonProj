{
 "cells": [
  {
   "cell_type": "code",
   "execution_count": 6,
   "metadata": {},
   "outputs": [
    {
     "name": "stdout",
     "output_type": "stream",
     "text": [
      "666\n",
      "66\n",
      "0\n"
     ]
    }
   ],
   "source": [
    "# 301 迴圈整數連加\n",
    "num1,num2,result = int(input()),int(input()),0\n",
    "\n",
    "for i in range(num1,num2+1): result += i\n",
    "print(result)"
   ]
  },
  {
   "cell_type": "code",
   "execution_count": 12,
   "metadata": {},
   "outputs": [
    {
     "name": "stdout",
     "output_type": "stream",
     "text": [
      "666\n",
      "66\n",
      "219966\n"
     ]
    }
   ],
   "source": [
    "# 301 -- 程式自動判斷 (b-a)/abs(b-a)\n",
    "num1,num2,result = int(input()),int(input()),0\n",
    "\n",
    "for i in range(num1,num2+int((num2-num1)/abs(num2-num1)),int((num2-num1)/abs(num2-num1))): result += i\n",
    "print(result)"
   ]
  },
  {
   "cell_type": "code",
   "execution_count": 23,
   "metadata": {},
   "outputs": [
    {
     "ename": "SyntaxError",
     "evalue": "invalid syntax (<ipython-input-23-2fb7f8e78f1d>, line 4)",
     "output_type": "error",
     "traceback": [
      "\u001b[1;36m  File \u001b[1;32m\"<ipython-input-23-2fb7f8e78f1d>\"\u001b[1;36m, line \u001b[1;32m4\u001b[0m\n\u001b[1;33m    for i in range(num1,num2+1,2): if num1 %2 == 0: result += i\u001b[0m\n\u001b[1;37m                                    ^\u001b[0m\n\u001b[1;31mSyntaxError\u001b[0m\u001b[1;31m:\u001b[0m invalid syntax\n"
     ]
    }
   ],
   "source": [
    "# 302 迴圈偶數連加\n",
    "num1,num2,result = int(input()),int(input()),0\n",
    "\n",
    "for i in range(num1,num2+1,2): \n",
    "    if num1 %2 == 0: result += i\n",
    "\n",
    "print(result)"
   ]
  },
  {
   "cell_type": "code",
   "execution_count": 5,
   "metadata": {},
   "outputs": [
    {
     "name": "stdout",
     "output_type": "stream",
     "text": [
      "5\n",
      "5\n"
     ]
    }
   ],
   "source": [
    "# 304 迴圈倍數總和\n",
    "num1,result = int(input()),0\n",
    "\n",
    "for i in range(5 , num1+1 , 5):\n",
    "    result += i\n",
    "    print(result)"
   ]
  },
  {
   "cell_type": "code",
   "execution_count": 13,
   "metadata": {},
   "outputs": [
    {
     "name": "stdout",
     "output_type": "stream",
     "text": [
      "23456\n",
      "65432\n"
     ]
    }
   ],
   "source": [
    "# 305 數字反轉\n",
    "num1 = input()\n",
    "print(num1[::-1])"
   ]
  },
  {
   "cell_type": "code",
   "execution_count": 17,
   "metadata": {},
   "outputs": [
    {
     "name": "stdout",
     "output_type": "stream",
     "text": [
      "23456\n",
      "65432"
     ]
    }
   ],
   "source": [
    "# 305 -- 迴圈寫法\n",
    "num1 = input()\n",
    "for i in range(len(num1)-1,-1,-1): print (num1[i],end='')"
   ]
  },
  {
   "cell_type": "code",
   "execution_count": 52,
   "metadata": {},
   "outputs": [
    {
     "name": "stdout",
     "output_type": "stream",
     "text": [
      "15\n",
      "1307674368000\n"
     ]
    }
   ],
   "source": [
    "# 306 迴圈階乘計算\n",
    "num1,result = int(input()),1\n",
    "\n",
    "for i in range(1,num1+1): result *= i\n",
    "print(result)"
   ]
  },
  {
   "cell_type": "code",
   "execution_count": 9,
   "metadata": {},
   "outputs": [
    {
     "name": "stdout",
     "output_type": "stream",
     "text": [
      "3\n",
      "98773\n",
      "Sum of all digits of 98773 is 34\n",
      "0\n",
      "Sum of all digits of 0 is 0\n",
      "5\n",
      "Sum of all digits of 5 is 5\n"
     ]
    }
   ],
   "source": [
    "# 308 迴圈位數加總\n",
    "num1 = int(input())\n",
    "\n",
    "for i in range(1, num1+1 ):\n",
    "    num2 = input()\n",
    "    num_len,num_sum = len(num2),0\n",
    "    for i in range(0,num_len): num_sum += int(num2[i])\n",
    "    print('Sum of all digits of {} is {}'.format(num2,num_sum))"
   ]
  },
  {
   "cell_type": "code",
   "execution_count": 1,
   "metadata": {},
   "outputs": [
    {
     "name": "stdout",
     "output_type": "stream",
     "text": [
      "50000\n",
      "1.3\n",
      "5\n",
      "Month \t  Amount\n",
      "  1 \t 50054.17\n",
      "  2 \t 50108.39\n",
      "  3 \t 50162.68\n",
      "  4 \t 50217.02\n",
      "  5 \t 50271.42\n"
     ]
    }
   ],
   "source": [
    "# 309 存款總額\n",
    "amount,rate,month = eval(input()),abs(eval(input())),eval(input())\n",
    "\n",
    "print('%s \\t  %s' % ('Month', 'Amount'))\n",
    "for i in range(1, month+1):\n",
    "    total = amount+amount*rate/1200\n",
    "    amount = total\n",
    "    print('%3d \\t %.2f' % (i, total))"
   ]
  },
  {
   "cell_type": "code",
   "execution_count": 10,
   "metadata": {},
   "outputs": [
    {
     "name": "stdout",
     "output_type": "stream",
     "text": [
      "8\n",
      "1.8284\n"
     ]
    }
   ],
   "source": [
    "# 310 迴圈公式計算\n",
    "num,num_sum = int(input()),0\n",
    "\n",
    "for i in range(1,num): num_sum += 1/(i**0.5+(i+1)**0.5)\n",
    "print('{:.4f}'.format(num_sum))"
   ]
  },
  {
   "cell_type": "code",
   "execution_count": 24,
   "metadata": {},
   "outputs": [
    {
     "name": "stdout",
     "output_type": "stream",
     "text": [
      "12\n",
      "   1\n",
      "   2   4\n",
      "   3   6   9\n",
      "   4   8  12  16\n",
      "   5  10  15  20  25\n",
      "   6  12  18  24  30  36\n",
      "   7  14  21  28  35  42  49\n",
      "   8  16  24  32  40  48  56  64\n",
      "   9  18  27  36  45  54  63  72  81\n",
      "  10  20  30  40  50  60  70  80  90 100\n",
      "  11  22  33  44  55  66  77  88  99 110 121\n",
      "  12  24  36  48  60  72  84  96 108 120 132 144\n"
     ]
    }
   ],
   "source": [
    "# 303 迴圈數值相乘\n",
    "num = int(input())\n",
    "for i in range(1, num+1):\n",
    "    for j in range(1,i+1): print('{:4d}'.format(i*j),end='')\n",
    "    print()"
   ]
  },
  {
   "cell_type": "code",
   "execution_count": 14,
   "metadata": {},
   "outputs": [
    {
     "name": "stdout",
     "output_type": "stream",
     "text": [
      "5\n",
      "1 * 1 = 1   2 * 1 = 2   3 * 1 = 3   4 * 1 = 4   5 * 1 = 5   \n",
      "1 * 2 = 2   2 * 2 = 4   3 * 2 = 6   4 * 2 = 8   5 * 2 = 10  \n",
      "1 * 3 = 3   2 * 3 = 6   3 * 3 = 9   4 * 3 = 12  5 * 3 = 15  \n",
      "1 * 4 = 4   2 * 4 = 8   3 * 4 = 12  4 * 4 = 16  5 * 4 = 20  \n",
      "1 * 5 = 5   2 * 5 = 10  3 * 5 = 15  4 * 5 = 20  5 * 5 = 25  \n"
     ]
    }
   ],
   "source": [
    "# 307 乘法表   \n",
    "num = int(input())\n",
    "for i in range(1, num+1):\n",
    "    for j in range(1, num+1): print('{} * {} = {:<4}'.format(j,i,(j*i)),end='')\n",
    "    print()"
   ]
  }
 ],
 "metadata": {
  "kernelspec": {
   "display_name": "Python 3",
   "language": "python",
   "name": "python3"
  },
  "language_info": {
   "codemirror_mode": {
    "name": "ipython",
    "version": 3
   },
   "file_extension": ".py",
   "mimetype": "text/x-python",
   "name": "python",
   "nbconvert_exporter": "python",
   "pygments_lexer": "ipython3",
   "version": "3.6.5"
  }
 },
 "nbformat": 4,
 "nbformat_minor": 2
}
