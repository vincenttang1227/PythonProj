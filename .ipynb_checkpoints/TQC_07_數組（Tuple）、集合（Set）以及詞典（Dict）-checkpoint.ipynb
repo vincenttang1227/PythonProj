{
 "cells": [
  {
   "cell_type": "code",
   "execution_count": null,
   "metadata": {},
   "outputs": [],
   "source": [
    "# 701 串列數組轉換\n",
    "numList,num = [],eval(input())\n",
    "\n",
    "while num != -9999:\n",
    "    numList.append(num)\n",
    "    num = eval(input())\n",
    "    \n",
    "numTuple = tuple(numList)\n",
    "\n",
    "print(numTuple)\n",
    "print('Length:',len(num_tuple))\n",
    "print('Max:',max(num_tuple))\n",
    "print('Min:',min(num_tuple))\n",
    "print('Sum:',sum(num_tuple))"
   ]
  },
  {
   "cell_type": "code",
   "execution_count": null,
   "metadata": {},
   "outputs": [],
   "source": [
    "# 702 數組合併排序\n",
    "numList1,numList2 = [],[]\n",
    "\n",
    "print('Create tuple1:')\n",
    "num = eval(input())\n",
    "while num!=-9999:\n",
    "    numList1.append(num)\n",
    "    num = eval(input())\n",
    "    \n",
    "tuple1 = tuple(numList1)\n",
    "\n",
    "print('Create tuple2:')\n",
    "num = eval(input())\n",
    "while num!=-9999:\n",
    "    numList2.append(num)\n",
    "    num = eval(input())\n",
    "    \n",
    "tuple2 = tuple(numList2)\n",
    "sortList = sorted(tuple1+tuple2)\n",
    "\n",
    "print('Combined tuple before sorting:',tuple1+tuple2)\n",
    "print('Combined list after sorting:',sortList)"
   ]
  },
  {
   "cell_type": "code",
   "execution_count": null,
   "metadata": {},
   "outputs": [],
   "source": [
    "# 703 數組條件判斷\n",
    "strList,str1 = [],input()\n",
    "\n",
    "while str1!=\"end\":\n",
    "    strList.append(str1)\n",
    "    str1 = input()\n",
    "    \n",
    "strTuple = tuple(strList)\n",
    "\n",
    "print(strTuple)\n",
    "print(strTuple[0:3])\n",
    "print(strTuple[3:6])"
   ]
  },
  {
   "cell_type": "code",
   "execution_count": null,
   "metadata": {},
   "outputs": [],
   "source": [
    "# 704 集合條件判斷\n",
    "numSet,num = set(),eval(input())\n",
    "\n",
    "while num!=-9999:\n",
    "    numSet.add(num)\n",
    "    num = eval(input())\n",
    "\n",
    "print('Length: {}\\nMax: {}\\nMin: {}\\nSum: {}'.format(len(numSet),max(numSet),min(numSet),sum(numSet)))"
   ]
  },
  {
   "cell_type": "code",
   "execution_count": 7,
   "metadata": {},
   "outputs": [
    {
     "name": "stdout",
     "output_type": "stream",
     "text": [
      "Input to set1:\n",
      "3\n",
      "28\n",
      "-2\n",
      "7\n",
      "39\n",
      "Input to set2:\n",
      "2\n",
      "77\n",
      "0\n",
      "Input to set3:\n",
      "3\n",
      "28\n",
      "12\n",
      "99\n",
      "39\n",
      "7\n",
      "-1\n",
      "-2\n",
      "65\n",
      "set2 is subset of set1:False\n",
      "set3 is superset of set1:True\n"
     ]
    }
   ],
   "source": [
    "# 705 子集合(<=)與超集合(>=)\n",
    "# 真子集合(<)，真超集合(>)\n",
    "set1,set2,set3 = set(),set(),set()\n",
    "\n",
    "print('Input to set1:')\n",
    "for i in range(1,6):\n",
    "    num = eval(input())\n",
    "    set1.add(num)\n",
    "\n",
    "print('Input to set2:')\n",
    "for i in range(1,4):\n",
    "    num = eval(input())\n",
    "    set2.add(num)\n",
    "    \n",
    "print('Input to set3:')\n",
    "for i in range(1,10):\n",
    "    num = eval(input())\n",
    "    set3.add(num)\n",
    "\n",
    "print('set2 is subset of set1:',set2<=set1,'\\nset3 is superset of set1:',set3>=set1,sep='')"
   ]
  },
  {
   "cell_type": "code",
   "execution_count": null,
   "metadata": {},
   "outputs": [],
   "source": [
    "# 706 全字母句\n",
    "# [chr(i) for i in range(65,123)]--生成A~z的list，中間有6個符號元素\n",
    "# pan_set = set([chr(i) for i in range(65,123)])\n",
    "num = int(input())\n",
    "\n",
    "for i in range(num):\n",
    "    chr1 = str.lower(input())\n",
    "    chr_set = set(chr1)\n",
    "    print ('True') if len(chr_set) == 27 else print('False')"
   ]
  },
  {
   "cell_type": "code",
   "execution_count": 6,
   "metadata": {
    "scrolled": false
   },
   "outputs": [
    {
     "name": "stdout",
     "output_type": "stream",
     "text": [
      "Enter group X's subjects:\n",
      "Math\n",
      "Literature\n",
      "English\n",
      "History\n",
      "Geography\n",
      "end\n",
      "Enter group Y's subjects:\n",
      "Math\n",
      "Literature\n",
      "Chinese\n",
      "Physical\n",
      "Chemistry\n",
      "end\n",
      "['Chemistry', 'Chinese', 'English', 'Geography', 'History', 'Literature', 'Math', 'Physical']\n",
      "['Literature', 'Math']\n",
      "['Chemistry', 'Chinese', 'Physical']\n",
      "['Chemistry', 'Chinese', 'English', 'Geography', 'History', 'Physical']\n"
     ]
    }
   ],
   "source": [
    "# 707 共同科目\n",
    "# 聯集-(x|y) , 交集-(x&y) , 差集-(y-x) , 互斥-(x^y)-X和Y彼此沒有的元素\n",
    "x,y = {},set()\n",
    "\n",
    "print('Enter group X\\'s subjects:')\n",
    "sub = input()\n",
    "while sub!=\"end\":\n",
    "    x.add(sub)\n",
    "    sub = input()\n",
    "    \n",
    "print('Enter group Y\\'s subjects:')\n",
    "sub = input()\n",
    "while sub!=\"end\":\n",
    "    y.add(sub)\n",
    "    sub = input()\n",
    "    \n",
    "print (sorted(x|y),\"\\n\",sorted(x&y),\"\\n\",sorted(y-x),\"\\n\",sorted(x^y),sep=\"\")"
   ]
  },
  {
   "cell_type": "code",
   "execution_count": 4,
   "metadata": {},
   "outputs": [
    {
     "name": "stdout",
     "output_type": "stream",
     "text": [
      "Create dict1:\n",
      "Key: a\n",
      "Value: apple\n",
      "Key: b\n",
      "Value: banana\n",
      "Key: d\n",
      "Value: durian\n",
      "Key: end\n",
      "Create dict2:\n",
      "Key: c\n",
      "Value: cat\n",
      "Key: e\n",
      "Value: elephant\n",
      "Key: end\n",
      "a: apple\n",
      "b: banana\n",
      "c: cat\n",
      "d: durian\n",
      "e: elephant\n"
     ]
    }
   ],
   "source": [
    "# 708 詞典合併 -- dict1.update(dict2)\n",
    "# dict依照key值排序 -- dict_list = [(k,dict1[k]) for k in sorted(dict1.keys())]\n",
    "dict1,dict2 = {},{}\n",
    "\n",
    "print('Create dict1:')\n",
    "listKey = input('Key: ')\n",
    "while listKey!=\"end\":\n",
    "    listValue = input('Value: ')\n",
    "    dict1[listKey] = listValue\n",
    "    listKey = input('Key: ')\n",
    "    \n",
    "print('Create dict2:')\n",
    "listKey = input('Key: ')\n",
    "while listKey!=\"end\":\n",
    "    listValue = input('Value: ')\n",
    "    dict2[listKey] = listValue\n",
    "    listKey = input('Key: ')\n",
    "    \n",
    "dict1.update(dict2)\n",
    "dictList = [(k,dict1[k]) for k in sorted(dict1.keys())]\n",
    "\n",
    "for i in range(len(dictList)):   \n",
    "    print(dictList[i][0],\": \",dictList[i][1],sep='')"
   ]
  },
  {
   "cell_type": "code",
   "execution_count": 3,
   "metadata": {},
   "outputs": [
    {
     "name": "stdout",
     "output_type": "stream",
     "text": [
      "Key: Green Yellow\n",
      "Value: ADFF2F\n",
      "Key: Snow\n",
      "Value: FFFAFA\n",
      "Key: end\n",
      "Green Yellow: ADFF2F\n",
      "Snow: FFFAFA\n"
     ]
    }
   ],
   "source": [
    "# 709 詞典排序\n",
    "colorDict = {}\n",
    "\n",
    "dictKey = input('Key: ')\n",
    "while dictKey!=\"end\":\n",
    "    dictValue = input('Value: ')\n",
    "    colorDict[dictKey] = dictValue\n",
    "    dictKey = input('Key: ')\n",
    "    \n",
    "colorList = [(i,colorDict[i]) for i in sorted(colorDict.keys())]\n",
    "\n",
    "for i in range(len(colorList)):   \n",
    "    print(colorList[i][0],\": \",colorList[i][1],sep='')"
   ]
  },
  {
   "cell_type": "code",
   "execution_count": 3,
   "metadata": {},
   "outputs": [
    {
     "name": "stdout",
     "output_type": "stream",
     "text": [
      "Key: 123-4567-89\n",
      "Value: Jennifer\n",
      "Key: 987-6543-21\n",
      "Value: Tommy\n",
      "Key: 246-8246-82\n",
      "Value: Kay\n",
      "Key: end\n",
      "246-8246-82\n",
      "Search key: 246-8246-82\n"
     ]
    },
    {
     "data": {
      "text/plain": [
       "False"
      ]
     },
     "execution_count": 3,
     "metadata": {},
     "output_type": "execute_result"
    }
   ],
   "source": [
    "# 710 詞典搜尋\n",
    "# key in dict - 搜尋key是否在dict裡\n",
    "nameDict = {}\n",
    "\n",
    "dictKey = input('Key: ')\n",
    "while dictKey != 'end':\n",
    "    dictValue = input('Value: ')\n",
    "    nameDict[dictKey] = dictValue\n",
    "    dictKey = input('Key: ')\n",
    "    \n",
    "print (input('Search key: ') in nameDict)"
   ]
  }
 ],
 "metadata": {
  "kernelspec": {
   "display_name": "Python 3",
   "language": "python",
   "name": "python3"
  },
  "language_info": {
   "codemirror_mode": {
    "name": "ipython",
    "version": 3
   },
   "file_extension": ".py",
   "mimetype": "text/x-python",
   "name": "python",
   "nbconvert_exporter": "python",
   "pygments_lexer": "ipython3",
   "version": "3.6.5"
  }
 },
 "nbformat": 4,
 "nbformat_minor": 2
}
