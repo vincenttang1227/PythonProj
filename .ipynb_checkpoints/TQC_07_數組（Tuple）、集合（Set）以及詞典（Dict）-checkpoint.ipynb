{
 "cells": [
  {
   "cell_type": "code",
   "execution_count": null,
   "metadata": {},
   "outputs": [],
   "source": [
    "# 701 串列數組轉換\n",
    "numLi,num = [],eval(input())\n",
    "\n",
    "while num != -9999:\n",
    "    numLi.append(num)\n",
    "    num = eval(input())\n",
    "    \n",
    "numTup = tuple(numLi)\n",
    "\n",
    "print(numTup)\n",
    "print('Length:',len(numTup))\n",
    "print('Max:',max(numTup))\n",
    "print('Min:',min(numTup))\n",
    "print('Sum:',sum(numTup))"
   ]
  },
  {
   "cell_type": "code",
   "execution_count": null,
   "metadata": {},
   "outputs": [],
   "source": [
    "# 702 數組合併排序\n",
    "numLi1,numLi2 = [],[]\n",
    "\n",
    "print('Create tuple1:')\n",
    "num = eval(input())\n",
    "while num!=-9999:\n",
    "    numLi1.append(num)\n",
    "    num = eval(input())\n",
    "    \n",
    "tup1 = tuple(numLi1)\n",
    "\n",
    "print('Create tuple2:')\n",
    "num = eval(input())\n",
    "while num!=-9999:\n",
    "    numLi2.append(num)\n",
    "    num = eval(input())\n",
    "    \n",
    "tup2 = tuple(numLi2)\n",
    "\n",
    "print('Combined tuple before sorting:',tup1+tup2)\n",
    "print('Combined list after sorting:',sorted(tup1+tup2))"
   ]
  },
  {
   "cell_type": "code",
   "execution_count": null,
   "metadata": {},
   "outputs": [],
   "source": [
    "# 703 數組條件判斷\n",
    "strLi,str1 = [],input()\n",
    "\n",
    "while str1!=\"end\":\n",
    "    strLi.append(str1)\n",
    "    str1 = input()\n",
    "    \n",
    "strTup = tuple(strLi)\n",
    "\n",
    "print(strTup)\n",
    "print(strTup[:3])\n",
    "print(strTup[-3:])"
   ]
  },
  {
   "cell_type": "code",
   "execution_count": null,
   "metadata": {},
   "outputs": [],
   "source": [
    "# 704 集合條件判斷\n",
    "numSet,num = set(),eval(input())\n",
    "\n",
    "while num!=-9999:\n",
    "    numSet.add(num)\n",
    "    num = eval(input())\n",
    "\n",
    "print('Length:',len(num_set))\n",
    "print('Max:',max(num_set))\n",
    "print('Min:',min(num_set))\n",
    "print('Sum:',sum(num_set))"
   ]
  },
  {
   "cell_type": "code",
   "execution_count": null,
   "metadata": {},
   "outputs": [],
   "source": [
    "# 705 子集合(<=)與超集合(>=)\n",
    "# 真子集合(<)，真超集合(>)\n",
    "set1,set2,set3 = set(),set(),set()\n",
    "\n",
    "print('Input to set1:')\n",
    "for i in range(5): set1.add(eval(input()))\n",
    "\n",
    "print('Input to set2:')\n",
    "for i in range(3): set2.add(eval(input()))\n",
    "    \n",
    "print('Input to set3:')\n",
    "for i in range(9): set3.add(eval(input()))\n",
    "\n",
    "print(\"set2 is subset of set1:\",set2<=set1)\n",
    "print(\"set3 is superset of set1:\",set3>=set1)"
   ]
  },
  {
   "cell_type": "code",
   "execution_count": null,
   "metadata": {},
   "outputs": [],
   "source": [
    "def func(setNum,inputNum):\n",
    "    setTemp = set()\n",
    "    print(\"Input to set{}:\".format(setNum))\n",
    "    for i in range(inputNum): setTemp.add(int(input()))\n",
    "    return setTemp\n",
    "\n",
    "set1,set2,set3 = func(1,5),func(2,3),func(3,9)\n",
    "\n",
    "print(\"set2 is subset of set1:\",set2<=set1)\n",
    "print(\"set3 is superset of set1:\",set3>=set1)"
   ]
  },
  {
   "cell_type": "code",
   "execution_count": 5,
   "metadata": {},
   "outputs": [
    {
     "name": "stdout",
     "output_type": "stream",
     "text": [
      "2\n",
      "Learning Python is funny\n",
      "False\n",
      "Pack my box with five dozen liquor jugs\n",
      "True\n"
     ]
    }
   ],
   "source": [
    "# 706 全字母句\n",
    "# [chr(i) for i in range(65,90)]--生成 A~ Z的 list\n",
    "# pan_set = set(chr(i) for i in range(97,123))--生成 a~ z的 set\n",
    "\n",
    "for i in range(int(input())):\n",
    "    chrSet = set(str.lower(input()))\n",
    "    chrSet.remove(\" \")\n",
    "    print (len(chrSet) == 26)"
   ]
  },
  {
   "cell_type": "code",
   "execution_count": 20,
   "metadata": {},
   "outputs": [
    {
     "name": "stdout",
     "output_type": "stream",
     "text": [
      "1\n",
      "alsdfa80==-.,kjjnd\n",
      "False\n"
     ]
    }
   ],
   "source": [
    "for i in range(int(input())):\n",
    "    chrSet = set(str.lower(input()))\n",
    "    print (chrSet >= set(chr(i) for i in range(97,123)))"
   ]
  },
  {
   "cell_type": "code",
   "execution_count": 1,
   "metadata": {
    "scrolled": false
   },
   "outputs": [
    {
     "name": "stdout",
     "output_type": "stream",
     "text": [
      "Enter group X's subjects:\n",
      "a\n",
      "b\n",
      "c\n",
      "d\n",
      "e\n",
      "end\n",
      "Enter group Y's subjects:\n",
      "a\n",
      "b\n",
      "c\n",
      "f\n",
      "g\n",
      "end\n",
      "['a', 'b', 'c', 'd', 'e', 'f', 'g']\n",
      "['a', 'b', 'c']\n",
      "['f', 'g']\n",
      "['d', 'e', 'f', 'g']\n"
     ]
    }
   ],
   "source": [
    "# 707 共同科目\n",
    "# 聯集-(x|y) , 交集-(x&y) , 差集-(y-x) , 互斥-(x^y)-X和Y彼此沒有的元素\n",
    "x,y = set(),set()\n",
    "\n",
    "print(\"Enter group X's subjects:\")\n",
    "sub = input()\n",
    "while sub!=\"end\":\n",
    "    x.add(sub)\n",
    "    sub = input()\n",
    "    \n",
    "print(\"Enter group Y's subjects:\")\n",
    "sub = input()\n",
    "while sub!=\"end\":\n",
    "    y.add(sub)\n",
    "    sub = input()\n",
    "    \n",
    "print (sorted(x|y))\n",
    "print (sorted(x&y))\n",
    "print (sorted(y-x))\n",
    "print (sorted(x^y))"
   ]
  },
  {
   "cell_type": "code",
   "execution_count": 3,
   "metadata": {},
   "outputs": [
    {
     "name": "stdout",
     "output_type": "stream",
     "text": [
      "Create dict1:\n",
      "Key: a\n",
      "Value: apple\n",
      "Key: b\n",
      "Value: banana\n",
      "Key: d\n",
      "Value: durian\n",
      "Key: end\n",
      "Create dict2:\n",
      "Key: c\n",
      "Value: cat\n",
      "Key: e\n",
      "Value: elephant\n",
      "Key: end\n",
      "a: apple\n",
      "b: banana\n",
      "c: cat\n",
      "d: durian\n",
      "e: elephant\n"
     ]
    }
   ],
   "source": [
    "# 708 詞典合併 -- dict1.update(dict2)\n",
    "# dict依照key值排序 -- dict_list = [(k,dict1[k]) for k in sorted(dict1.keys())]\n",
    "dict1,dict2 = {},{}\n",
    "\n",
    "print('Create dict1:')\n",
    "liKey = input('Key: ')\n",
    "while liKey!=\"end\":\n",
    "    dict1[liKey] = input('Value: ')\n",
    "    liKey = input('Key: ')\n",
    "       \n",
    "print('Create dict2:')\n",
    "liKey = input('Key: ') \n",
    "while liKey!=\"end\":\n",
    "    dict2[liKey] = input('Value: ')\n",
    "    liKey = input('Key: ')\n",
    "    \n",
    "dict1.update(dict2)\n",
    "for i in sorted(dict1.keys()): print(i,\": \",dict1[i],sep='')"
   ]
  },
  {
   "cell_type": "code",
   "execution_count": 5,
   "metadata": {},
   "outputs": [
    {
     "name": "stdout",
     "output_type": "stream",
     "text": [
      "Key: a\n",
      "Value: a\n",
      "Key: end\n",
      "a: a\n"
     ]
    }
   ],
   "source": [
    "# 709 詞典排序\n",
    "colorDict = {}\n",
    "\n",
    "dictKey = input('Key: ')\n",
    "while dictKey!=\"end\":\n",
    "    colorDict[dictKey] = input('Value: ')\n",
    "    dictKey = input('Key: ')\n",
    "    \n",
    "for i in sorted(colorDict.keys()): print(i,\": \",colorDict[i],sep='')"
   ]
  },
  {
   "cell_type": "code",
   "execution_count": null,
   "metadata": {},
   "outputs": [],
   "source": [
    "# 710 詞典搜尋\n",
    "# key in dict - 搜尋key是否在dict裡\n",
    "nameDict = {}\n",
    "\n",
    "dictKey = input('Key: ')\n",
    "while dictKey != 'end':\n",
    "    nameDict[dictKey] = input('Value: ')\n",
    "    dictKey = input('Key: ')\n",
    "    \n",
    "print (input('Search key: ') in nameDict)"
   ]
  }
 ],
 "metadata": {
  "kernelspec": {
   "display_name": "Python 3",
   "language": "python",
   "name": "python3"
  },
  "language_info": {
   "codemirror_mode": {
    "name": "ipython",
    "version": 3
   },
   "file_extension": ".py",
   "mimetype": "text/x-python",
   "name": "python",
   "nbconvert_exporter": "python",
   "pygments_lexer": "ipython3",
   "version": "3.6.5"
  }
 },
 "nbformat": 4,
 "nbformat_minor": 2
}
