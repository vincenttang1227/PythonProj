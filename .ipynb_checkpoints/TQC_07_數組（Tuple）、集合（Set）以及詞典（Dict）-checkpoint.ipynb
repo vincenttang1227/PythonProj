{
 "cells": [
  {
   "cell_type": "code",
   "execution_count": null,
   "metadata": {},
   "outputs": [],
   "source": [
    "# 701 串列數組轉換\n",
    "num_list = []\n",
    "while True:\n",
    "    num = eval(input())\n",
    "    if num == -9999:\n",
    "        break\n",
    "    num_list.append(num)\n",
    "num_tuple = tuple(num_list)\n",
    "print(num_tuple)\n",
    "print('Length:',len(num_tuple))\n",
    "print('Max:',max(num_tuple))\n",
    "print('Min:',min(num_tuple))\n",
    "print('Sum:',sum(num_tuple))"
   ]
  },
  {
   "cell_type": "code",
   "execution_count": null,
   "metadata": {},
   "outputs": [],
   "source": [
    "# 702 數組合併排序\n",
    "num_list1 = []\n",
    "num_list2 = []\n",
    "print('Create tuple1:')\n",
    "while True:\n",
    "    num = eval(input())\n",
    "    if num == -9999:\n",
    "        break\n",
    "    num_list1.append(num)\n",
    "tuple1 = tuple(num_list1)\n",
    "print('Create tuple2:')\n",
    "while True:\n",
    "    num = eval(input())\n",
    "    if num == -9999:\n",
    "        break\n",
    "    num_list2.append(num)\n",
    "tuple2 = tuple(num_list2)\n",
    "sort_list = sorted(tuple1+tuple2)\n",
    "print('Combined tuple before sorting:',tuple1+tuple2)\n",
    "print('Combined list after sorting:',sort_list)"
   ]
  },
  {
   "cell_type": "code",
   "execution_count": null,
   "metadata": {},
   "outputs": [],
   "source": [
    "# 703 數組條件判斷\n",
    "str_list = []\n",
    "while True:\n",
    "    str1 = input()\n",
    "    if str1 == 'end':\n",
    "        break\n",
    "    str_list.append(str1)\n",
    "str_tuple = tuple(str_list)\n",
    "print(str_tuple)\n",
    "print(str_tuple[0:3])\n",
    "print(str_tuple[3:6])"
   ]
  },
  {
   "cell_type": "code",
   "execution_count": null,
   "metadata": {},
   "outputs": [],
   "source": [
    "# 704 集合條件判斷\n",
    "num_set = set()\n",
    "while True:\n",
    "    num = eval(input())\n",
    "    if num == -9999:\n",
    "        break\n",
    "    num_set.add(num)\n",
    "print('Length:',len(num_set))\n",
    "print('Max:',max(num_set))\n",
    "print('Min:',min(num_set))\n",
    "print('Sum:',sum(num_set))"
   ]
  },
  {
   "cell_type": "code",
   "execution_count": null,
   "metadata": {},
   "outputs": [],
   "source": [
    "# 705 子集合(<=)與超集合(>=)\n",
    "# 真子集合(<)，真超集合(>)\n",
    "set1,set2,set3 = set(),set(),set()\n",
    "print('Input to set1:')\n",
    "for i in range(1,6):\n",
    "    num = eval(input())\n",
    "    set1.add(num)\n",
    "print('Input to set2:')\n",
    "for i in range(1,4):\n",
    "    num = eval(input())\n",
    "    set2.add(num)\n",
    "print('Input to set3:')\n",
    "for i in range(1,10):\n",
    "    num = eval(input())\n",
    "    set3.add(num)\n",
    "print('set2 is subset of set1:',set2<=set1)\n",
    "print('set3 is superset of set1:',set3>=set1)"
   ]
  },
  {
   "cell_type": "code",
   "execution_count": null,
   "metadata": {},
   "outputs": [],
   "source": [
    "# 706 全字母句\n",
    "# [chr(i) for i in range(65,123)]--生成A~z的list，中間有6個符號元素\n",
    "# pan_set = set([chr(i) for i in range(65,123)])\n",
    "num = int(input())\n",
    "for i in range(num):\n",
    "    chr1 = str.lower(input())\n",
    "    chr_set = set(chr1)\n",
    "    print ('True') if len(chr_set) == 27 else print('False')"
   ]
  },
  {
   "cell_type": "code",
   "execution_count": null,
   "metadata": {
    "scrolled": false
   },
   "outputs": [],
   "source": [
    "# 707 共同科目\n",
    "# 聯集-(x|y) , 交集-(x&y) , 差集-(y-x) , 互斥-(x^y)-X和Y彼此沒有的元素\n",
    "x,y = set(),set()\n",
    "print('Enter group X\\'s subjects:')\n",
    "while True:\n",
    "    sub = input()\n",
    "    if sub == 'end':\n",
    "        break\n",
    "    x.add(sub)\n",
    "print('Enter group Y\\'s subjects:')\n",
    "while True:\n",
    "    sub = input()\n",
    "    if sub == 'end':\n",
    "        break\n",
    "    y.add(sub)\n",
    "print ('{}\\n{}\\n{}\\n{}'.format(sorted(x|y),sorted(x&y),sorted(y-x),sorted(x^y)))"
   ]
  },
  {
   "cell_type": "code",
   "execution_count": null,
   "metadata": {},
   "outputs": [],
   "source": [
    "# 708 詞典合併 -- dict1.update(dict2)\n",
    "# dict依照key值排序 -- dict_list = [(k,dict1[k]) for k in sorted(dict1.keys())]\n",
    "\n",
    "dict1,dict2 = {},{}\n",
    "print('Create dict1:')\n",
    "while True:\n",
    "    list_key = input('Key: ')\n",
    "    if list_key == 'end':\n",
    "        break\n",
    "    list_value = input('Value: ')\n",
    "    dict1[list_key] = list_value\n",
    "print('Create dict2:')\n",
    "while True:\n",
    "    list_key = input('Key: ')\n",
    "    if list_key == 'end':\n",
    "        break\n",
    "    list_value = input('Value: ')\n",
    "    dict2[list_key] = list_value\n",
    "dict1.update(dict2)\n",
    "dict_list = [(k,dict1[k]) for k in sorted(dict1.keys())]\n",
    "for i in range(len(dict_list)):   \n",
    "    print('{}: {}'.format(dict_list[i][0],dict_list[i][1]))"
   ]
  },
  {
   "cell_type": "code",
   "execution_count": 1,
   "metadata": {},
   "outputs": [
    {
     "name": "stdout",
     "output_type": "stream",
     "text": [
      "Key: Green Yellow\n",
      "Value: #ADFF2F\n",
      "Key: Snow\n",
      "Value: #FFFAFA\n",
      "Key: Gold\n",
      "Value: #FFD700\n",
      "Key: Red\n",
      "Value: #FF0000\n",
      "Key: White\n",
      "Value: #FFFFFF\n",
      "Key: Green\n",
      "Value: #008000\n",
      "Key: Black\n",
      "Value: #000000\n",
      "Key: end\n"
     ]
    },
    {
     "ename": "NameError",
     "evalue": "name 'dict_list' is not defined",
     "output_type": "error",
     "traceback": [
      "\u001b[1;31m---------------------------------------------------------------------------\u001b[0m",
      "\u001b[1;31mNameError\u001b[0m                                 Traceback (most recent call last)",
      "\u001b[1;32m<ipython-input-1-9cc4a5a80358>\u001b[0m in \u001b[0;36m<module>\u001b[1;34m()\u001b[0m\n\u001b[0;32m      9\u001b[0m \u001b[0mcolor_list\u001b[0m \u001b[1;33m=\u001b[0m \u001b[1;33m[\u001b[0m\u001b[1;33m(\u001b[0m\u001b[0mi\u001b[0m\u001b[1;33m,\u001b[0m\u001b[0mcolor_dict\u001b[0m\u001b[1;33m[\u001b[0m\u001b[0mi\u001b[0m\u001b[1;33m]\u001b[0m\u001b[1;33m)\u001b[0m \u001b[1;32mfor\u001b[0m \u001b[0mi\u001b[0m \u001b[1;32min\u001b[0m \u001b[0msorted\u001b[0m\u001b[1;33m(\u001b[0m\u001b[0mcolor_dict\u001b[0m\u001b[1;33m.\u001b[0m\u001b[0mkeys\u001b[0m\u001b[1;33m(\u001b[0m\u001b[1;33m)\u001b[0m\u001b[1;33m)\u001b[0m\u001b[1;33m]\u001b[0m\u001b[1;33m\u001b[0m\u001b[0m\n\u001b[0;32m     10\u001b[0m \u001b[1;32mfor\u001b[0m \u001b[0mi\u001b[0m \u001b[1;32min\u001b[0m \u001b[0mrange\u001b[0m\u001b[1;33m(\u001b[0m\u001b[0mlen\u001b[0m\u001b[1;33m(\u001b[0m\u001b[0mcolor_list\u001b[0m\u001b[1;33m)\u001b[0m\u001b[1;33m)\u001b[0m\u001b[1;33m:\u001b[0m\u001b[1;33m\u001b[0m\u001b[0m\n\u001b[1;32m---> 11\u001b[1;33m     \u001b[0mprint\u001b[0m\u001b[1;33m(\u001b[0m\u001b[1;34m'{}: {}'\u001b[0m\u001b[1;33m.\u001b[0m\u001b[0mformat\u001b[0m\u001b[1;33m(\u001b[0m\u001b[0mcolor_list\u001b[0m\u001b[1;33m[\u001b[0m\u001b[0mi\u001b[0m\u001b[1;33m]\u001b[0m\u001b[1;33m[\u001b[0m\u001b[1;36m0\u001b[0m\u001b[1;33m]\u001b[0m\u001b[1;33m,\u001b[0m\u001b[0mdict_list\u001b[0m\u001b[1;33m[\u001b[0m\u001b[0mi\u001b[0m\u001b[1;33m]\u001b[0m\u001b[1;33m[\u001b[0m\u001b[1;36m1\u001b[0m\u001b[1;33m]\u001b[0m\u001b[1;33m)\u001b[0m\u001b[1;33m)\u001b[0m\u001b[1;33m\u001b[0m\u001b[0m\n\u001b[0m",
      "\u001b[1;31mNameError\u001b[0m: name 'dict_list' is not defined"
     ]
    }
   ],
   "source": [
    "# 709 詞典排序\n",
    "color_dict = {}\n",
    "while True:\n",
    "    dict_key = input('Key: ')\n",
    "    if dict_key == 'end':\n",
    "        break\n",
    "    dict_value = input('Value: ')\n",
    "    color_dict[dict_key] = dict_value\n",
    "color_list = [(i,color_dict[i]) for i in sorted(color_dict.keys())]\n",
    "for i in range(len(color_list)):   \n",
    "    print('{}: {}'.format(color_list[i][0],color_list[i][1]))"
   ]
  },
  {
   "cell_type": "code",
   "execution_count": 3,
   "metadata": {},
   "outputs": [
    {
     "name": "stdout",
     "output_type": "stream",
     "text": [
      "Key: 123-4567-89\n",
      "Value: Jennifer\n",
      "Key: 987-6543-21\n",
      "Value: Tommy\n",
      "Key: 246-8246-82\n",
      "Value: Kay\n",
      "Key: end\n",
      "246-8246-82\n",
      "Search key: 246-8246-82\n"
     ]
    },
    {
     "data": {
      "text/plain": [
       "False"
      ]
     },
     "execution_count": 3,
     "metadata": {},
     "output_type": "execute_result"
    }
   ],
   "source": [
    "# 710 詞典搜尋\n",
    "# key in dict - 搜尋key是否在dict裡\n",
    "name_dict = {}\n",
    "while True:\n",
    "    dict_key = input('Key: ')\n",
    "    if dict_key == 'end':\n",
    "        break\n",
    "    dict_value = input('Value: ')\n",
    "    name_dict[dict_key] = dict_value\n",
    "print (input('Search key: ') in name_dict)"
   ]
  }
 ],
 "metadata": {
  "kernelspec": {
   "display_name": "Python 3",
   "language": "python",
   "name": "python3"
  },
  "language_info": {
   "codemirror_mode": {
    "name": "ipython",
    "version": 3
   },
   "file_extension": ".py",
   "mimetype": "text/x-python",
   "name": "python",
   "nbconvert_exporter": "python",
   "pygments_lexer": "ipython3",
   "version": "3.6.5"
  }
 },
 "nbformat": 4,
 "nbformat_minor": 2
}
