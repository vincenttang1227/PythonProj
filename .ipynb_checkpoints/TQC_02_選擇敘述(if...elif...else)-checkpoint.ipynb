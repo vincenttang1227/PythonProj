{
 "cells": [
  {
   "cell_type": "code",
   "execution_count": 1,
   "metadata": {},
   "outputs": [
    {
     "name": "stdout",
     "output_type": "stream",
     "text": [
      "6\n",
      "6 is an even number.\n"
     ]
    }
   ],
   "source": [
    "# 201.偶數判斷\n",
    "num = int(input())\n",
    "print(num,\"is an even number.\") if num%2 == 0 else print(num,\"is not an even number.\")"
   ]
  },
  {
   "cell_type": "code",
   "execution_count": null,
   "metadata": {},
   "outputs": [],
   "source": [
    "# 202.倍數判斷\n",
    "num = int(input())\n",
    "if num % 3 == 0 and num % 5 == 0:\n",
    "   print(\"{0} is a multiple of 3 and 5.\".format(num))\n",
    "elif num % 3 == 0:\n",
    "   print(\"{0} is a multiple of 3.\".format(num))\n",
    "elif num % 5 == 0:\n",
    "   print(\"{0} is a multiple of 5.\".format(num))\n",
    "else:\n",
    "   print(\"{0} is not a multiple of 3 or 5.\".format(num))"
   ]
  },
  {
   "cell_type": "code",
   "execution_count": null,
   "metadata": {},
   "outputs": [],
   "source": [
    "# 203.閏年判斷\n",
    "num = int(input())\n",
    "if num % 4 == 0:\n",
    "    if num % 100 == 0:\n",
    "        if num % 400 ==0:\n",
    "            print(\"%d is a leap year.\" %num)\n",
    "        else:\n",
    "            print(\"%d is not a leap year.\"%num)\n",
    "    else:\n",
    "        print(\"%d is a leap year.\"%num)\n",
    "else:\n",
    "   print(\"%d is not a leap year.\"%num)"
   ]
  },
  {
   "cell_type": "code",
   "execution_count": null,
   "metadata": {},
   "outputs": [],
   "source": [
    "# 204.算術判斷\n",
    "num1,num2,cal = int(input()),int(input()),input()\n",
    "\n",
    "if cal == \"+\" :\n",
    "    print (num1 + num2)\n",
    "elif cal == \"-\" :\n",
    "    print (num1 - num2)\n",
    "elif cal == \"*\" :\n",
    "    print (num1 * num2)\n",
    "elif cal == \"/\" :\n",
    "    print (num1 / num2)\n",
    "elif cal == \"//\" :\n",
    "    print (num1 // num2)\n",
    "elif cal == \"%\" :\n",
    "    print (num1 % num2)"
   ]
  },
  {
   "cell_type": "code",
   "execution_count": 2,
   "metadata": {},
   "outputs": [
    {
     "name": "stdout",
     "output_type": "stream",
     "text": [
      "A\n",
      "A is an alphabet.\n"
     ]
    }
   ],
   "source": [
    "# 205.字元判斷\n",
    "text = input()\n",
    "\n",
    "if text.isalpha():\n",
    "    print (\"{} is an alphabet.\".format(text))\n",
    "elif text.isdecimal():\n",
    "    print (\"{} is a number.\".format(text))\n",
    "else:\n",
    "    print (\"{} is a symbol.\".format(text))"
   ]
  },
  {
   "cell_type": "code",
   "execution_count": null,
   "metadata": {},
   "outputs": [],
   "source": [
    "# 206.等級判斷\n",
    "score = int(input())\n",
    "\n",
    "if score >= 80 and score <=100:\n",
    "    print (\"A\")\n",
    "elif score >=70 and score <=79:\n",
    "    print (\"B\")\n",
    "elif score >=60 and score <=69:\n",
    "    print (\"C\")\n",
    "else:\n",
    "    print (\"F\")"
   ]
  },
  {
   "cell_type": "code",
   "execution_count": null,
   "metadata": {},
   "outputs": [],
   "source": [
    "# 207.折扣方案\n",
    "amount = int(input())\n",
    "\n",
    "if amount >= 8000 and amount < 18000:\n",
    "    print (amount * 95 / 100)\n",
    "elif amount >= 18000 and amount < 28000:\n",
    "    print (amount * 90 / 100)\n",
    "elif amount >= 28000 and amount < 38000:\n",
    "    print (amount * 80 / 100)\n",
    "else:\n",
    "    print (amount * 70 / 100)"
   ]
  },
  {
   "cell_type": "code",
   "execution_count": null,
   "metadata": {},
   "outputs": [],
   "source": [
    "# 208.十進位換算\n",
    "num = int(input())\n",
    "if num == 10:\n",
    "    print('A')\n",
    "elif num == 11:\n",
    "    print('B')\n",
    "elif num == 12:\n",
    "    print('C')\n",
    "elif num == 13:\n",
    "    print('D')\n",
    "elif num == 14:\n",
    "    print('E')\n",
    "elif num == 15:\n",
    "    print('F')\n",
    "else:\n",
    "    print(num)"
   ]
  },
  {
   "cell_type": "code",
   "execution_count": 5,
   "metadata": {},
   "outputs": [
    {
     "name": "stdout",
     "output_type": "stream",
     "text": [
      "30\n",
      "35\n",
      "Outside\n"
     ]
    }
   ],
   "source": [
    "# 209.距離判斷\n",
    "\n",
    "coor1,coor2 = int(input()),int(input())\n",
    "distance = ((coor1-5)**2+(coor2-6)**2)**0.5\n",
    "\n",
    "print (\"Inside\") if distance <= 15 else print (\"Outside\")"
   ]
  },
  {
   "cell_type": "code",
   "execution_count": 3,
   "metadata": {},
   "outputs": [
    {
     "name": "stdout",
     "output_type": "stream",
     "text": [
      "1\n",
      "2\n",
      "3\n",
      "Invalid\n"
     ]
    }
   ],
   "source": [
    "# 210.三角形判斷\n",
    "\n",
    "tri1,tri2,tri3 = int(input()),int(input()),int(input())\n",
    "\n",
    "print('Invalid') if (tri1 >= tri2 + tri3) or (tri2 >= tri1 + tri3) or (tri3 >= tri1 + tri2) else print(tri1 + tri2 + tri3)"
   ]
  }
 ],
 "metadata": {
  "kernelspec": {
   "display_name": "Python 3",
   "language": "python",
   "name": "python3"
  },
  "language_info": {
   "codemirror_mode": {
    "name": "ipython",
    "version": 3
   },
   "file_extension": ".py",
   "mimetype": "text/x-python",
   "name": "python",
   "nbconvert_exporter": "python",
   "pygments_lexer": "ipython3",
   "version": "3.6.5"
  }
 },
 "nbformat": 4,
 "nbformat_minor": 2
}
