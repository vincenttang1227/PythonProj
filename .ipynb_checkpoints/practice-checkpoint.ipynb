{
 "cells": [
  {
   "cell_type": "code",
   "execution_count": null,
   "metadata": {
    "code_folding": []
   },
   "outputs": [],
   "source": [
    "import random\n",
    "\n",
    "pw = random.randint(1, 100)\n",
    "minNum, maxNum = 1, 100\n",
    "ans = int(input(\"請輸入1到100之間的數字：\"))\n",
    "\n",
    "while ans != pw:\n",
    "    if ans > maxNum or ans < minNum:\n",
    "        print(\"數字錯囉，請重新輸入\")\n",
    "    else:\n",
    "        if ans > pw:\n",
    "            maxNum = ans\n",
    "        else:\n",
    "            minNum = ans\n",
    "        print(\"答案介於\", minNum, \"和\", maxNum, \"之間\")\n",
    "    ans = int(input(\"請輸入1到100之間的數字：\"))\n",
    "\n",
    "print(\"答對了，答案是\", pw)"
   ]
  },
  {
   "cell_type": "code",
   "execution_count": null,
   "metadata": {},
   "outputs": [],
   "source": [
    "num = int(input())\n",
    "\n",
    "for i in range(1, 10):\n",
    "    print(\"{} * {} = {}\".format(num, i, num * i))"
   ]
  },
  {
   "cell_type": "code",
   "execution_count": null,
   "metadata": {
    "scrolled": true
   },
   "outputs": [],
   "source": [
    "for i in range(1, 10):\n",
    "    for j in range(2, 6):\n",
    "        print('{} * {} = {:<3}'.format(j, i, (j * i)), end=' ')\n",
    "    print()\n",
    "print()\n",
    "for i in range(1, 10):\n",
    "    for k in range(6, 10):\n",
    "        print('{} * {} = {:<3}'.format(k, i, (k * i)), end=' ')\n",
    "    print()"
   ]
  },
  {
   "cell_type": "code",
   "execution_count": null,
   "metadata": {},
   "outputs": [],
   "source": [
    "# Install nbextensions\n",
    "!pip install jupyter_contrib_nbextensions\n",
    "!pip install yapf"
   ]
  },
  {
   "cell_type": "code",
   "execution_count": null,
   "metadata": {},
   "outputs": [],
   "source": [
    "# 電腦出題，使用者猜題\n",
    "import random\n",
    "\n",
    "ansLi,gueHis = random.sample(range(10), 4),[]\n",
    "# print(ansLi)\n",
    "\n",
    "while True:\n",
    "    num = input()\n",
    "    if len(num) == 4 and num.isdigit() == True and len(set(num)) == 4:\n",
    "        gueLi = list(map(int,list(num)))\n",
    "        numA, numB = 0, 0\n",
    "        \n",
    "        for i in range(4):\n",
    "            if gueLi[i] in ansLi:\n",
    "                if gueLi[i] == ansLi[i]: numA += 1\n",
    "                else: numB += 1\n",
    "                    \n",
    "        gueHis.append(num+\" \"+str(numA)+\"A\"+str(numB)+\"B\")\n",
    "        for i in range(len(gueHis)): print(i+1,\":\",gueHis[i])\n",
    "        if numA == 4: break\n",
    "\n",
    "    else: \n",
    "        print(\"輸入錯誤，請重新輸入\")\n",
    "print(\"答對了!!\")"
   ]
  },
  {
   "cell_type": "code",
   "execution_count": null,
   "metadata": {},
   "outputs": [],
   "source": [
    "# 電腦猜題，使用者回答，直到答對為止\n",
    "import random\n",
    "\n",
    "allNum = []\n",
    "\n",
    "#num = 0\n",
    "for i in range(10):\n",
    "    for j in range(10):\n",
    "        for k in range(10):\n",
    "            for l in range(10):\n",
    "                if len(set([i,j,k,l])) == 4:\n",
    "                    #num += 1\n",
    "                    allNum.append([i,j,k,l])\n",
    "                    #print(num,\":\",[i,j,k,l])\n",
    "while True:\n",
    "    guessIndex = random.randint(0, len(allNum)-1)\n",
    "    #print(\"guessIndex=\",guessIndex,\"length_allNum=\",len(allNum))\n",
    "    userInput = input( str(allNum[guessIndex]) + \":\")\n",
    "    if int(userInput[0]) == 4:\n",
    "        print(\"電腦答對了\")\n",
    "        break\n",
    "\n",
    "    temp = []\n",
    "    for i in range(len(allNum)):\n",
    "        numA,numB = 0,0\n",
    "        for j in range(4):\n",
    "            if allNum[guessIndex][j] in allNum[i]:\n",
    "                if allNum[guessIndex][j] == allNum[i][j]:\n",
    "                    numA += 1\n",
    "                else:\n",
    "                    numB += 1\n",
    "        if numA == int(userInput[0]) and numB == int(userInput[2]):\n",
    "            temp.append( allNum[i] )\n",
    "\n",
    "    allNum = temp\n",
    "    #for i in range(len(allNum)):\n",
    "    #    print(i,\":\",allNum[i])\n",
    "\n",
    "    if len(allNum)==0:\n",
    "        print(\"您有輸入錯誤喔\")\n",
    "        break"
   ]
  },
  {
   "cell_type": "code",
   "execution_count": null,
   "metadata": {},
   "outputs": [],
   "source": [
    "# 使用者先輸入答案，電腦連續自動猜題，直到答對為止\n",
    "import random\n",
    "\n",
    "allNum,gueHist,ansNum = [],[],input()\n",
    "\n",
    "#num = 0\n",
    "for i in range(10):\n",
    "    for j in range(10):\n",
    "        for k in range(10):\n",
    "            for l in range(10):\n",
    "                if len(set([i, j, k, l])) == 4:\n",
    "                    #num += 1\n",
    "                    allNum.append([i, j, k, l])\n",
    "                    #print(num,\":\",[i,j,k,l])\n",
    "\n",
    "while True:\n",
    "    while len(ansNum) != 4 or ansNum.isdigit() == False or len(set(ansNum)) != 4:\n",
    "        num=input()\n",
    "    ansLi = list(map(int,list(ansNum)))\n",
    "    numA, numB = 0, 0\n",
    "        \n",
    "    gueLi = random.choice(allNum)\n",
    "    gueInd=allNum.index(gueLi)\n",
    "    \n",
    "    for i in range(len(allNum)):\n",
    "        for j in range(4):\n",
    "            if allNum[gueInd][j] in allNum[i]:\n",
    "                if allNum[gueInd][j] == allNum[i][j]:\n",
    "                    numA += 1\n",
    "                else:\n",
    "                    numB += 1\n",
    "\n",
    "    gueHist.append(num+\" \"+str(numA)+\"A\"+str(numB)+\"B\")\n",
    "    for i in range(len(gueHist)): print(i+1,\":\",gueHist[i])\n",
    "    if numA == 4: break   "
   ]
  },
  {
   "cell_type": "code",
   "execution_count": 12,
   "metadata": {},
   "outputs": [
    {
     "name": "stdout",
     "output_type": "stream",
     "text": [
      "A\n",
      "K\n",
      "3\n",
      "8\n",
      "J\n",
      "36\n"
     ]
    }
   ],
   "source": [
    "pokLi,pokDic = [],{\"A\":1,\"J\":11,\"Q\":12,\"K\":13}\n",
    "for i in range(5): \n",
    "    pok=input()\n",
    "    if pok in pokDic: pok=pokDic[pok]\n",
    "    pokLi.append(int(pok))\n",
    "print(sum(pokLi))"
   ]
  },
  {
   "cell_type": "code",
   "execution_count": null,
   "metadata": {},
   "outputs": [],
   "source": [
    "# 輸入日期出現星座\n",
    "def check(mon,day):\n",
    "    constName = ['水瓶', '雙魚', '牡羊', '金牛', '雙子', '巨蟹', '獅子', '處女', '天秤', '天蠍', '射手','摩羯']\n",
    "    constDay = [21, 19, 21, 21, 21, 22, 22, 22, 23, 23, 23, 22]\n",
    "    if day < constDay[mon-1]:\n",
    "        print(\"您是\",constName[mon - 2], \"座\", sep='')\n",
    "    else:\n",
    "        print(\"您是\",constName[mon-1], \"座\", sep='')\n",
    "      \n",
    "day = input(\"請輸入日期(月/日)：\")\n",
    "dayLi = day.split('/')\n",
    "dayLi = list(map(int,dayLi))\n",
    "check(dayLi[0],dayLi[1])"
   ]
  },
  {
   "cell_type": "code",
   "execution_count": null,
   "metadata": {},
   "outputs": [],
   "source": [
    "# OX遊戲\n",
    "from IPython.display import clear_output\n",
    "\n",
    "chessStatus = [[' ', ' ', ' '], [' ', ' ', ' '], [' ', ' ', ' ']]\n",
    "\n",
    "\n",
    "def showChess(c):\n",
    "    clear_output()\n",
    "    print(\"    A   B   C  \")\n",
    "    print(\"  +---+---+---+\")\n",
    "    for i in range(0, 3):\n",
    "        print(\"{:<2d}|{:^3s}|{:^3s}|{:^3s}|\".format(i + 1, c[i][0], c[i][1],c[i][2]))\n",
    "        print(\"  +---+---+---+\")\n",
    "\n",
    "\n",
    "col = {'A': 0, 'B': 1, 'C': 2}\n",
    "row = {'1': 0, '2': 1, '3': 2}\n",
    "\n",
    "chess = input(\"請選擇棋子：(O/X)\").upper()\n",
    "showChess(chessStatus)\n",
    "for i in range(9):\n",
    "    a = input(chess + \"請輸入棋步：\").upper()\n",
    "    chessStatus[col[a[0]]][row[a[1]]] = chess\n",
    "    showChess(chessStatus)\n",
    "    if chess == \"O\": chess = \"X\"\n",
    "    else: chess = \"O\""
   ]
  }
 ],
 "metadata": {
  "kernelspec": {
   "display_name": "Python 3",
   "language": "python",
   "name": "python3"
  },
  "language_info": {
   "codemirror_mode": {
    "name": "ipython",
    "version": 3
   },
   "file_extension": ".py",
   "mimetype": "text/x-python",
   "name": "python",
   "nbconvert_exporter": "python",
   "pygments_lexer": "ipython3",
   "version": "3.6.5"
  }
 },
 "nbformat": 4,
 "nbformat_minor": 2
}
