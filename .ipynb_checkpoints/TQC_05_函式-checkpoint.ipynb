{
 "cells": [
  {
   "cell_type": "code",
   "execution_count": null,
   "metadata": {},
   "outputs": [],
   "source": [
    "# 501 訊息顯示\n",
    "compute = lambda x,y,z : print('Department: {}\\nStudent ID: {}\\nName: {}'.format(x,y,z))\n",
    "\n",
    "dep,stu,name = input(),input(),input()\n",
    "compute(dep,stu,name)"
   ]
  },
  {
   "cell_type": "code",
   "execution_count": null,
   "metadata": {},
   "outputs": [],
   "source": [
    "def compute():\n",
    "    dep,stu,name = input(),input(),input()\n",
    "    print('Department: {}\\nStudent ID: {}\\nName: {}'.format(dep,stu,name))\n",
    "\n",
    "compute()"
   ]
  },
  {
   "cell_type": "code",
   "execution_count": null,
   "metadata": {},
   "outputs": [],
   "source": [
    "# 502 乘積\n",
    "compute = lambda x,y : x*y\n",
    "\n",
    "num1,num2 = int(input()),int(input())\n",
    "print(compute(num1,num2))"
   ]
  },
  {
   "cell_type": "code",
   "execution_count": null,
   "metadata": {},
   "outputs": [],
   "source": [
    "# 503 連加計算\n",
    "# 連加公式 => (首項 + 末項) * (末項 - 首項 + 1) / 2 \n",
    "#compute = lambda a,b : (a+b)*(b-a+1)/2\n",
    "def compute(a,b):\n",
    "    total = 0\n",
    "    for i in range(a,b+1): total += i\n",
    "    return total\n",
    "\n",
    "num1,num2 = int(input()),int(input())\n",
    "print(int(compute(num1,num2)))"
   ]
  },
  {
   "cell_type": "code",
   "execution_count": null,
   "metadata": {},
   "outputs": [],
   "source": [
    "# 504 次方計算\n",
    "compute = lambda a,b : a**b\n",
    "\n",
    "num1,num2 = int(input()),int(input())\n",
    "print(int(compute(num1,num2)))"
   ]
  },
  {
   "cell_type": "code",
   "execution_count": null,
   "metadata": {},
   "outputs": [],
   "source": [
    "# 505 依參數格式化輸出\n",
    "def compute(a,x,y):\n",
    "    for i in range(y): print(\"{} \".format(a)*x)\n",
    "\n",
    "cha , num1 , num2 = input(), int(input()) , int(input())\n",
    "compute(cha,num1,num2)"
   ]
  },
  {
   "cell_type": "code",
   "execution_count": null,
   "metadata": {},
   "outputs": [],
   "source": [
    "# 506 一元二次方程式--公式：y>0兩個解，y=0一個解，y<0無解\n",
    "def compute(a,b,c):\n",
    "    y = (b**2)-(4*a*c)\n",
    "    if y > 0: \n",
    "        x1,x2 = (-b+(y**0.5))/(2*a),(-b-(y**0.5))/(2*a)\n",
    "        return x1,x2\n",
    "    else:\n",
    "        return 'Your equation has no root.',None\n",
    "\n",
    "num1,num2,num3 = eval(input()),eval(input()),eval(input())\n",
    "m,n = compute(num1,num2,num3)\n",
    "\n",
    "if n==None: print(m)\n",
    "else: print('{}, {}'.format(m,n))"
   ]
  },
  {
   "cell_type": "code",
   "execution_count": null,
   "metadata": {},
   "outputs": [],
   "source": [
    "# 507 質數\n",
    "# 1以下(包含1)皆不為質數\n",
    "def compute(x):\n",
    "    if x > 1:\n",
    "        for i in range(2,x):\n",
    "            if x%i == 0: return 'Not Prime'\n",
    "        return 'Prime'\n",
    "    else: return 'Not Prime'\n",
    "    \n",
    "num = int(input())\n",
    "print(compute(num))"
   ]
  },
  {
   "cell_type": "code",
   "execution_count": null,
   "metadata": {},
   "outputs": [],
   "source": [
    "# 508 最大公因數\n",
    "def compute(m,n):\n",
    "    if n == 0: return m\n",
    "    else: return compute(n, m%n)\n",
    "\n",
    "# x, y= input().split(',')\n",
    "# print(compute(int(x),int(y)))\n",
    "x,y = map(int,input().split(','))\n",
    "print(compute(x,y))"
   ]
  },
  {
   "cell_type": "code",
   "execution_count": null,
   "metadata": {},
   "outputs": [],
   "source": [
    "# 509 最簡分數\n",
    "def compute(a,b):\n",
    "    if b == 0: return a\n",
    "    else: return compute(b, a%b)\n",
    "\n",
    "x,y = map(int,input().split(','))\n",
    "m,n = map(int,input().split(','))\n",
    "\n",
    "p,q = (x*n)+(m*y) , y*n\n",
    "num = compute(p,q)\n",
    "print('{}/{} + {}/{} = {}/{}'.format(x,y,m,n,int(p/num),int(q/num)))"
   ]
  },
  {
   "cell_type": "code",
   "execution_count": 11,
   "metadata": {},
   "outputs": [
    {
     "name": "stdout",
     "output_type": "stream",
     "text": [
      "20\n",
      "0 1 1 2 3 5 8 13 21 34 55 89 144 233 377 610 987 1597 2584 4181 "
     ]
    }
   ],
   "source": [
    "# 510 費氏數列 -- 某一項數字是其前兩項的和，而且第0項為0，第一項為1\n",
    "def compute(x):\n",
    "    fib = [0,1]\n",
    "    print('0 1',end=' ')\n",
    "    for i in range(2,x):\n",
    "        y = int(fib[-1])+int(fib[-2])\n",
    "        fib.append(y)\n",
    "        print('{}'.format(y),end=' ')\n",
    "\n",
    "num = int(input())\n",
    "compute(num)"
   ]
  },
  {
   "cell_type": "code",
   "execution_count": 26,
   "metadata": {},
   "outputs": [
    {
     "name": "stdout",
     "output_type": "stream",
     "text": [
      "10\n",
      "0 1 1 2 3 5 8 13 21 34 "
     ]
    }
   ],
   "source": [
    "def compute(n):\n",
    "    n1,n2 = 0,1\n",
    "    print(n1,n2,end=' ')\n",
    "    for i in range(3,n+1):\n",
    "        n3 = n1+n2\n",
    "        print(n3,end=' ')\n",
    "        n1 = n2\n",
    "        n2 = n3\n",
    "\n",
    "num = int(input())\n",
    "compute(num)"
   ]
  },
  {
   "cell_type": "code",
   "execution_count": 27,
   "metadata": {},
   "outputs": [
    {
     "name": "stdout",
     "output_type": "stream",
     "text": [
      "10\n",
      "0 1 1 2 3 5 8 13 21 34 "
     ]
    }
   ],
   "source": [
    "def compute(n):\n",
    "    if n < 2: return n\n",
    "    else: return compute(n-1)+compute(n-2)\n",
    "\n",
    "num = int( input() )\n",
    "for i in range(num):\n",
    "    print( compute(i),end=' ')"
   ]
  }
 ],
 "metadata": {
  "kernelspec": {
   "display_name": "Python 3",
   "language": "python",
   "name": "python3"
  },
  "language_info": {
   "codemirror_mode": {
    "name": "ipython",
    "version": 3
   },
   "file_extension": ".py",
   "mimetype": "text/x-python",
   "name": "python",
   "nbconvert_exporter": "python",
   "pygments_lexer": "ipython3",
   "version": "3.6.5"
  }
 },
 "nbformat": 4,
 "nbformat_minor": 2
}
