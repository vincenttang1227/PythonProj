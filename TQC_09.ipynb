{
 "cells": [
  {
   "cell_type": "code",
   "execution_count": null,
   "metadata": {},
   "outputs": [],
   "source": [
    "# 901 成績資料 -- open(file,'w') -- 建立新檔案，若已有檔案則清除檔案內容(可寫入)\n",
    "f = open('write.txt','w')\n",
    "for i in range(5):\n",
    "    grade = input()\n",
    "    f.write('{}'.format(grade)+'\\n')\n",
    "f.close()"
   ]
  },
  {
   "cell_type": "code",
   "execution_count": null,
   "metadata": {},
   "outputs": [],
   "source": [
    "# 902 資料加總 -- open(file,'r') -- 開啟已存在的檔案(不可寫入)\n",
    "f = open('read.txt','r',encoding = 'UTF-8')\n",
    "num_list,sum1 = (f.readline()).split(),0\n",
    "for i in num_list:\n",
    "    sum1 += int(i)\n",
    "print(sum1)\n",
    "f.close()"
   ]
  },
  {
   "cell_type": "code",
   "execution_count": 11,
   "metadata": {},
   "outputs": [
    {
     "name": "stdout",
     "output_type": "stream",
     "text": [
      "Daisy\n",
      "Kelvin\n",
      "Tom\n",
      "Joyce\n",
      "Sarah\n",
      "Append completed!\n",
      "Content of \"data.txt\":\n",
      "Ben\n",
      "Cathy\n",
      "Tony\n",
      "Daisy\n",
      "Kelvin\n",
      "Tom\n",
      "Joyce\n",
      "Sarah\n",
      "Daisy\n",
      "Kelvin\n",
      "Tom\n",
      "Joyce\n",
      "Sarah\n"
     ]
    }
   ],
   "source": [
    "# 903 成績資料 -- open(file,'a') -- 開啟已存在檔案(可寫入) -- 錯誤\n",
    "f = open('data.txt','a',encoding = 'UTF-8')\n",
    "for i in range(5):\n",
    "    f.write(input()+'\\n')\n",
    "f.close()\n",
    "print('Append completed!')\n",
    "print('Content of \"data.txt\":')\n",
    "f = open('data.txt','r')\n",
    "num_list = f.read().splitlines()\n",
    "f.close()\n",
    "for i in num_list:\n",
    "    print(i)"
   ]
  },
  {
   "cell_type": "code",
   "execution_count": 12,
   "metadata": {},
   "outputs": [
    {
     "data": {
      "text/plain": [
       "['Ben',\n",
       " 'Cathy',\n",
       " 'Tony',\n",
       " 'Daisy',\n",
       " 'Kelvin',\n",
       " 'Tom',\n",
       " 'Joyce',\n",
       " 'Sarah',\n",
       " 'Daisy',\n",
       " 'Kelvin',\n",
       " 'Tom',\n",
       " 'Joyce',\n",
       " 'Sarah']"
      ]
     },
     "execution_count": 12,
     "metadata": {},
     "output_type": "execute_result"
    }
   ],
   "source": [
    "num_list"
   ]
  }
 ],
 "metadata": {
  "kernelspec": {
   "display_name": "Python 3",
   "language": "python",
   "name": "python3"
  },
  "language_info": {
   "codemirror_mode": {
    "name": "ipython",
    "version": 3
   },
   "file_extension": ".py",
   "mimetype": "text/x-python",
   "name": "python",
   "nbconvert_exporter": "python",
   "pygments_lexer": "ipython3",
   "version": "3.6.5"
  }
 },
 "nbformat": 4,
 "nbformat_minor": 2
}
