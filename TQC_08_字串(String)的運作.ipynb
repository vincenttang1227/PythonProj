{
 "cells": [
  {
   "cell_type": "code",
   "execution_count": 4,
   "metadata": {},
   "outputs": [
    {
     "name": "stdout",
     "output_type": "stream",
     "text": [
      "Vincent is god\n",
      "Index of 'V': 0\n",
      "Index of 'i': 1\n",
      "Index of 'n': 2\n",
      "Index of 'c': 3\n",
      "Index of 'e': 4\n",
      "Index of 'n': 2\n",
      "Index of 't': 6\n",
      "Index of ' ': 7\n",
      "Index of 'i': 1\n",
      "Index of 's': 9\n",
      "Index of ' ': 7\n",
      "Index of 'g': 11\n",
      "Index of 'o': 12\n",
      "Index of 'd': 13\n"
     ]
    }
   ],
   "source": [
    "# 801 字串索引 -- 錯誤\n",
    "# 尋找索引 find\n",
    "str1 = input()\n",
    "for i in range(len(str1)): print('Index of \\'{}\\': {}'.format(str1[i],str1.find(str1[i])))"
   ]
  },
  {
   "cell_type": "code",
   "execution_count": null,
   "metadata": {},
   "outputs": [],
   "source": [
    "# 802 字元對應\n",
    "# ord(n)->字元 n的 ASCII碼 , chr(n)->ASCII n的字元\n",
    "str1,asc_sum = input(),0\n",
    "for i in range(len(str1)):\n",
    "    print('ASCII code for \\'{}\\' is {}'.format(str1[i],ord(str1[i])))\n",
    "    asc_sum += ord(str1[i])\n",
    "print(asc_sum)"
   ]
  },
  {
   "cell_type": "code",
   "execution_count": null,
   "metadata": {},
   "outputs": [],
   "source": [
    "# 803 倒數三個詞\n",
    "str1 = input()\n",
    "str_list = str1.split(' ')\n",
    "print('{}'.format(str_list[-3]),end=' ')\n",
    "print('{}'.format(str_list[-2]),end=' ')\n",
    "print('{}'.format(str_list[-1]))"
   ]
  },
  {
   "cell_type": "code",
   "execution_count": null,
   "metadata": {},
   "outputs": [],
   "source": [
    "# 804 大寫轉換\n",
    "# .upper()-全部大寫 , .title()-每個單字的字首\n",
    "str1 = input()\n",
    "print(str1.upper())\n",
    "print(str1.title())"
   ]
  },
  {
   "cell_type": "code",
   "execution_count": null,
   "metadata": {},
   "outputs": [],
   "source": [
    "# 805 字串輸出\n",
    "str1 = input()\n",
    "print('|{:10}|'.format(str1))\n",
    "print('|{:^10}|'.format(str1))\n",
    "print('|{:>10}|'.format(str1))"
   ]
  },
  {
   "cell_type": "code",
   "execution_count": 1,
   "metadata": {},
   "outputs": [
    {
     "name": "stdout",
     "output_type": "stream",
     "text": [
      "Our country is beautiful\n",
      "u\n",
      "u occurs 4 time(s)\n"
     ]
    }
   ],
   "source": [
    "# 806 字元次數計算 -- 錯誤\n",
    "compute = lambda x,y : x.count(y)\n",
    "str1,cha = input(),input()\n",
    "print('u occurs {} time(s)'.format(compute(str1,cha)))"
   ]
  },
  {
   "cell_type": "code",
   "execution_count": 2,
   "metadata": {},
   "outputs": [
    {
     "name": "stdout",
     "output_type": "stream",
     "text": [
      "-2 0 38\n",
      "Total = 36\n",
      "Average = 12.0\n"
     ]
    }
   ],
   "source": [
    "# 807 字串加總\n",
    "num_str = input()\n",
    "num_list,num_sum = num_str.split(' '),0\n",
    "\n",
    "for i in num_list: num_sum += int(i)\n",
    "print ('Total =',num_sum)\n",
    "print ('Average =',num_sum/len(num_list))"
   ]
  },
  {
   "cell_type": "code",
   "execution_count": null,
   "metadata": {},
   "outputs": [],
   "source": [
    "# 808 社會安全碼\n",
    "ssn_num = input()\n",
    "num = ssn_num.replace('-','0')\n",
    "print('Valid SSN') if num.isdigit() == True else print('Invalid SSN')"
   ]
  },
  {
   "cell_type": "code",
   "execution_count": null,
   "metadata": {},
   "outputs": [],
   "source": [
    "# 809 密碼規則\n",
    "password,list1 = input(),[]\n",
    "for i in range(len(password)): list1.append(password[i].isupper())\n",
    "if len(password) < 8 or password.isalnum() == False or True not in list1: print('Invalid password')\n",
    "else: print('Valid password')"
   ]
  },
  {
   "cell_type": "code",
   "execution_count": 16,
   "metadata": {},
   "outputs": [
    {
     "name": "stdout",
     "output_type": "stream",
     "text": [
      "1\n",
      "-2 0 1000.34 -14.4 89 50\n",
      "103.4\n"
     ]
    }
   ],
   "source": [
    "# 810 最大值與最小值之差 -- 錯誤(清單最大值錯誤)\n",
    "k,num_list1 = int(input()),[]\n",
    "for i in range(k):\n",
    "    num = input()\n",
    "    num_list = num.split(' ')\n",
    "#     num_list1.append(eval(num_list[i]))\n",
    "    print('{}'.format(eval(max(num_list))-eval(min(num_list))))"
   ]
  }
 ],
 "metadata": {
  "kernelspec": {
   "display_name": "Python 3",
   "language": "python",
   "name": "python3"
  },
  "language_info": {
   "codemirror_mode": {
    "name": "ipython",
    "version": 3
   },
   "file_extension": ".py",
   "mimetype": "text/x-python",
   "name": "python",
   "nbconvert_exporter": "python",
   "pygments_lexer": "ipython3",
   "version": "3.6.5"
  }
 },
 "nbformat": 4,
 "nbformat_minor": 2
}
