{
 "cells": [
  {
   "cell_type": "code",
   "execution_count": null,
   "metadata": {
    "scrolled": true
   },
   "outputs": [],
   "source": [
    "# 801 字串索引\n",
    "str1 = input()\n",
    "\n",
    "for i in range(len(str1)): print(r\"Index of '{}': {}\".format(str1[i],i))"
   ]
  },
  {
   "cell_type": "code",
   "execution_count": null,
   "metadata": {},
   "outputs": [],
   "source": [
    "# 802 字元對應\n",
    "# ord(n)->字元 n的 ASCII碼 , chr(n)->ASCII n的字元\n",
    "str1,ascSum = input(),0\n",
    "\n",
    "for i in range(len(str1)):\n",
    "    print(\"ASCII code for '{}' is {}\".format(str1[i],ord(str1[i])))\n",
    "    ascSum += ord(str1[i])\n",
    "    \n",
    "print(ascSum)"
   ]
  },
  {
   "cell_type": "code",
   "execution_count": null,
   "metadata": {},
   "outputs": [],
   "source": [
    "# 803 倒數三個詞\n",
    "strLi = input().split(' ')\n",
    "\n",
    "print(strLi[-3],strLi[-2],strLi[-1])"
   ]
  },
  {
   "cell_type": "code",
   "execution_count": null,
   "metadata": {},
   "outputs": [],
   "source": [
    "# 804 大寫轉換\n",
    "# .upper()-全部大寫 , .title()-每個單字的字首\n",
    "str1 = input()\n",
    "\n",
    "print(str1.upper())\n",
    "print(str1.title())"
   ]
  },
  {
   "cell_type": "code",
   "execution_count": null,
   "metadata": {},
   "outputs": [],
   "source": [
    "# 805 字串輸出\n",
    "str1 = input()\n",
    "\n",
    "print('|{:10}|\\n|{:^10}|\\n|{:>10}|'.format(str1,str1,str1))"
   ]
  },
  {
   "cell_type": "code",
   "execution_count": null,
   "metadata": {},
   "outputs": [],
   "source": [
    "# 806 字元次數計算\n",
    "# def compute(x,y): \n",
    "#     return x.count(y)\n",
    "compute = lambda x,y : x.count(y)\n",
    "\n",
    "str1,cha1 = input(),input()\n",
    "print(cha1,'occurs',compute(str1,cha1),'time(s)')"
   ]
  },
  {
   "cell_type": "code",
   "execution_count": null,
   "metadata": {},
   "outputs": [],
   "source": [
    "# 807 字串加總\n",
    "numStr,numSum = input(),0\n",
    "numLi = numStr.split(' ')\n",
    "\n",
    "for i in numLi: numSum += int(i)\n",
    "    \n",
    "print ('Total =',numSum)\n",
    "print ('Average =',numSum/len(numLi))"
   ]
  },
  {
   "cell_type": "code",
   "execution_count": null,
   "metadata": {},
   "outputs": [],
   "source": [
    "# 808 社會安全碼\n",
    "# ssnNum = input()\n",
    "\n",
    "num = input().replace('-','')\n",
    "\n",
    "print('Valid SSN') if num.isdigit()==True else print('Invalid SSN')"
   ]
  },
  {
   "cell_type": "code",
   "execution_count": null,
   "metadata": {},
   "outputs": [],
   "source": [
    "numLi = input().split('-')\n",
    "isValid = \"Valid SSN\"\n",
    "if not numLi[0].isdigit() or len(numLi[0])!=3: isValid = \"Invalid SSN\" \n",
    "if not numLi[1].isdigit() or len(numLi[1])!=2: isValid = \"Invalid SSN\"\n",
    "if not numLi[2].isdigit() or len(numLi[2])!=4: isValid = \"Invalid SSN\"\n",
    "\n",
    "print(isValid)"
   ]
  },
  {
   "cell_type": "code",
   "execution_count": null,
   "metadata": {},
   "outputs": [],
   "source": [
    "# 809 密碼規則\n",
    "psword,upperNum = input(),0\n",
    "for i in range(len(psword)): \n",
    "    if psword[i].isupper(): upperNum = 1\n",
    "    \n",
    "if len(psword) >= 8 and psword.isalnum() and upperNum == 1: print('Valid password')\n",
    "else: print('Invalid password')"
   ]
  },
  {
   "cell_type": "code",
   "execution_count": 12,
   "metadata": {
    "scrolled": true
   },
   "outputs": [
    {
     "name": "stdout",
     "output_type": "stream",
     "text": [
      "1\n",
      "-2 0 1000.34 -14.4 89 50\n",
      "1014.74\n"
     ]
    }
   ],
   "source": [
    "# 810 最大值與最小值之差\n",
    "for i in range(int(input())):\n",
    "    numLi = input().split(' ')\n",
    "    numLi = list(map(eval, numLi))\n",
    "    print('{:.2f}'.format(max(numLi)-min(numLi)))"
   ]
  }
 ],
 "metadata": {
  "kernelspec": {
   "display_name": "Python 3",
   "language": "python",
   "name": "python3"
  },
  "language_info": {
   "codemirror_mode": {
    "name": "ipython",
    "version": 3
   },
   "file_extension": ".py",
   "mimetype": "text/x-python",
   "name": "python",
   "nbconvert_exporter": "python",
   "pygments_lexer": "ipython3",
   "version": "3.6.5"
  }
 },
 "nbformat": 4,
 "nbformat_minor": 2
}
