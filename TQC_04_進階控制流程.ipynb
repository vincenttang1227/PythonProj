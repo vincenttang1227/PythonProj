{
 "cells": [
  {
   "cell_type": "code",
   "execution_count": null,
   "metadata": {},
   "outputs": [],
   "source": [
    "# 401 最小值\n",
    "num_list = []\n",
    "for i in range(10): num_list.append(int(input()))\n",
    "print (min(num_list))"
   ]
  },
  {
   "cell_type": "code",
   "execution_count": null,
   "metadata": {},
   "outputs": [],
   "source": [
    "minNum = int(input())\n",
    "for i in range(9):\n",
    "    x=int(input())\n",
    "    if x<minNum:\n",
    "        minnum=x\n",
    "print(minNum)"
   ]
  },
  {
   "cell_type": "code",
   "execution_count": null,
   "metadata": {},
   "outputs": [],
   "source": [
    "# 402 不定數迴圈-最小值\n",
    "num_list , i = [] , 1\n",
    "while i != 9999:\n",
    "    num_list.append(int(input()))\n",
    "    i = int(num_list[-1])\n",
    "print (min(num_list))"
   ]
  },
  {
   "cell_type": "code",
   "execution_count": null,
   "metadata": {},
   "outputs": [],
   "source": [
    "nimNum , newNum = int(input()) , int(input())\n",
    "while newNum != 9999:\n",
    "    if minNum > newNum: minNum = newNum\n",
    "    newNum = int(input())\n",
    "print(minNum)"
   ]
  },
  {
   "cell_type": "code",
   "execution_count": 9,
   "metadata": {},
   "outputs": [
    {
     "name": "stdout",
     "output_type": "stream",
     "text": [
      "2\n",
      "88\n",
      "4   8   9   12  16  18  20  24  27  28  \n",
      "32  36  40  44  45  48  52  54  56  60  \n",
      "63  64  68  72  76  80  81  84  88  \n",
      "29\n",
      "1309\n"
     ]
    }
   ],
   "source": [
    "# 403 倍數總和計算\n",
    "num1 , num2 , num_list , count = int(input()) , int(input()) , [] , 0\n",
    "for i in range(num1, num2+1):\n",
    "    if i %4 == 0 or i %9 == 0:\n",
    "        num_list.append(i)\n",
    "        print('{:<4}'.format(i),end='')\n",
    "        count += 1\n",
    "        if count %10 == 0: print()\n",
    "print ('\\n{}\\n{}'.format(len(num_list),sum(num_list)))"
   ]
  },
  {
   "cell_type": "code",
   "execution_count": 2,
   "metadata": {},
   "outputs": [
    {
     "name": "stdout",
     "output_type": "stream",
     "text": [
      "2\n",
      "88\n",
      "4   8   9   12  16  18  20  24  27  28  \n",
      "32  36  40  44  45  48  52  54  56  60  \n",
      "63  64  68  72  76  80  81  84  88  \n",
      "29\n",
      "1309\n"
     ]
    }
   ],
   "source": [
    "a,b,total,count = int(input()),int(input()),0,0\n",
    "for i in range(a,b+1):\n",
    "    if i%4==0 or i %9 == 0:\n",
    "        count +=1\n",
    "        print(\"{:<4d}\".format(i),end=\"\")\n",
    "        if count %10==0: print()\n",
    "        total += i\n",
    "print()\n",
    "print(count)\n",
    "print(total)"
   ]
  },
  {
   "cell_type": "code",
   "execution_count": 4,
   "metadata": {},
   "outputs": [
    {
     "name": "stdout",
     "output_type": "stream",
     "text": [
      "31256\n",
      "65213\n"
     ]
    }
   ],
   "source": [
    "# 404 數字反轉判斷\n",
    "num = input()\n",
    "print (num) if num == 0 else print(num[::-1])"
   ]
  },
  {
   "cell_type": "code",
   "execution_count": 5,
   "metadata": {},
   "outputs": [
    {
     "name": "stdout",
     "output_type": "stream",
     "text": [
      "3213809\n",
      "9083123"
     ]
    }
   ],
   "source": [
    "num = input()\n",
    "for i in range(len(num)-1,-1,-1): print(num[i],end=\"\")"
   ]
  },
  {
   "cell_type": "code",
   "execution_count": 6,
   "metadata": {},
   "outputs": [
    {
     "name": "stdout",
     "output_type": "stream",
     "text": [
      "83\n",
      "B\n",
      "-9999\n"
     ]
    }
   ],
   "source": [
    "# 405 不定數迴圈-分數等級\n",
    "grade = int(input())\n",
    "while grade !=-9999:\n",
    "    if grade >= 90 and grade <= 100: print('A')\n",
    "    elif grade >= 80 and grade < 90: print('B')\n",
    "    elif grade >= 70 and grade < 80: print('C')\n",
    "    elif grade >= 60 and grade < 70: print('D')\n",
    "    else: print('E')\n",
    "    grade = int(input())"
   ]
  },
  {
   "cell_type": "code",
   "execution_count": 9,
   "metadata": {},
   "outputs": [
    {
     "name": "stdout",
     "output_type": "stream",
     "text": [
      "168\n",
      "65\n",
      "BMI: 23.03\n",
      "State: normal\n",
      "-9999\n"
     ]
    }
   ],
   "source": [
    "# 406 不定數迴圈-BMI計算\n",
    "height = eval(input())\n",
    "while height != -9999:\n",
    "    weight = eval(input())\n",
    "    bmi_vol = weight / (height/100)**2\n",
    "    print(\"BMI: {:.2f}\".format(bmi_vol))\n",
    "    if bmi_vol < 18.5: print('State: under weight')\n",
    "    elif bmi_vol >= 18.5 and bmi_vol < 25: print('State: normal')\n",
    "    elif bmi_vol >= 25 and bmi_vol < 30: print('State: over weight')\n",
    "    else: print('State: fat')\n",
    "    height = eval(input())"
   ]
  },
  {
   "cell_type": "code",
   "execution_count": 8,
   "metadata": {},
   "outputs": [
    {
     "name": "stdout",
     "output_type": "stream",
     "text": [
      "400\n",
      "400 is a leap year.\n",
      "2000\n",
      "2000 is a leap year.\n",
      "-9999\n"
     ]
    }
   ],
   "source": [
    "# 407 不定數迴圈-閏年判斷\n",
    "year = int(input())\n",
    "while year != -9999:\n",
    "    if year % 400 == 0: print(year,'is a leap year.')\n",
    "    elif year % 100 == 0: print(year,'is not a leap year.')\n",
    "    elif year % 4 == 0: print(year,'is a leap year.')\n",
    "    else: print(year,'is not a leap year.')\n",
    "    year = int(input())"
   ]
  },
  {
   "cell_type": "code",
   "execution_count": 10,
   "metadata": {},
   "outputs": [
    {
     "name": "stdout",
     "output_type": "stream",
     "text": [
      "35\n",
      "84\n",
      "27\n",
      "58\n",
      "94\n",
      "28\n",
      "67\n",
      "94\n",
      "37\n",
      "98\n",
      "Even numbers: 6\n",
      "Odd numbers: 4\n"
     ]
    }
   ],
   "source": [
    "# 408 奇偶數個數計算\n",
    "evenNum,oddNum,i=0,0,0\n",
    "while i<10:\n",
    "    num=int(input())\n",
    "    if num%2==0: evenNum +=1\n",
    "    else: oddNum +=1\n",
    "    i+=1\n",
    "print('Even numbers: {}\\nOdd numbers: {}'.format(evenNum,oddNum))"
   ]
  },
  {
   "cell_type": "code",
   "execution_count": 1,
   "metadata": {},
   "outputs": [
    {
     "name": "stdout",
     "output_type": "stream",
     "text": [
      "6\n",
      "     *\n",
      "    ***\n",
      "   *****\n",
      "  *******\n",
      " *********\n",
      "***********\n"
     ]
    }
   ],
   "source": [
    "# 410 繪製等腰三角形\n",
    "num = int(input())\n",
    "for i in range(1, num+1):\n",
    "# print (num-1)個空格，加上單數 *\n",
    "    print(' '*(num-i)+'*'*(2*i-1))"
   ]
  },
  {
   "cell_type": "code",
   "execution_count": 11,
   "metadata": {},
   "outputs": [
    {
     "name": "stdout",
     "output_type": "stream",
     "text": [
      "2\n",
      "Total votes of No.1: Nami =  0\n",
      "Total votes of No.2: Chopper =  1\n",
      "Total null votes =  0\n",
      "1\n",
      "Total votes of No.1: Nami =  1\n",
      "Total votes of No.2: Chopper =  1\n",
      "Total null votes =  0\n",
      "8\n",
      "Total votes of No.1: Nami =  1\n",
      "Total votes of No.2: Chopper =  1\n",
      "Total null votes =  1\n",
      "2\n",
      "Total votes of No.1: Nami =  1\n",
      "Total votes of No.2: Chopper =  2\n",
      "Total null votes =  1\n",
      "2\n",
      "Total votes of No.1: Nami =  1\n",
      "Total votes of No.2: Chopper =  3\n",
      "Total null votes =  1\n",
      "=> No.2 Chopper won the election.\n"
     ]
    }
   ],
   "source": [
    "# 409 得票數計算\n",
    "nami_vote = chopper_vote = null_vote = 0\n",
    "\n",
    "for i in range(5):\n",
    "    vote = int(input())\n",
    "    if vote == 1: nami_vote += 1\n",
    "    elif vote == 2: chopper_vote += 1\n",
    "    else: null_vote += 1\n",
    "    print('Total votes of No.1: Nami = ',nami_vote)\n",
    "    print('Total votes of No.2: Chopper = ',chopper_vote)\n",
    "    print('Total null votes = ',null_vote)\n",
    "if nami_vote > chopper_vote : print('=> No.1 Nami won the election.')\n",
    "elif chopper_vote > nami_vote : print('=> No.2 Chopper won the election.')\n",
    "else: print('=> No one won the election.')"
   ]
  }
 ],
 "metadata": {
  "kernelspec": {
   "display_name": "Python 3",
   "language": "python",
   "name": "python3"
  },
  "language_info": {
   "codemirror_mode": {
    "name": "ipython",
    "version": 3
   },
   "file_extension": ".py",
   "mimetype": "text/x-python",
   "name": "python",
   "nbconvert_exporter": "python",
   "pygments_lexer": "ipython3",
   "version": "3.6.5"
  }
 },
 "nbformat": 4,
 "nbformat_minor": 2
}
