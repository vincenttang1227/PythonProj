{
 "cells": [
  {
   "cell_type": "code",
   "execution_count": null,
   "metadata": {},
   "outputs": [],
   "source": [
    "import numpy as np\n",
    "import random as ra\n",
    "'''\n",
    "ra.random.random()--生成0到1的随机浮点数\n",
    "ra.random.uniform(a,b)--生成a到b之間的随机浮点数\n",
    "ra.random.randint(a,b)--生成a到b之間的随机整数\n",
    "ra.random.randrange(a,b,c)--a到b之間，按c递增的集合中 生成一个随机数\n",
    "ra.sample(sequence, a)--從sequence(List,Tuple,Set中隨機獲取a個元素)\n",
    "np.random.rand(3,2)--隨機從0到1取浮點數，生成一個3x2的矩陣\n",
    "np.random.randint(20,size=(3,2))--隨機從0到19取整數，生成一個3x2的矩陣\n",
    "'''\n",
    "a=np.random.rand(3,2)\n",
    "print(a)\n",
    "a=np.random.randint(100,size=(3,2))\n",
    "print(a)"
   ]
  }
 ],
 "metadata": {
  "kernelspec": {
   "display_name": "Python 3",
   "language": "python",
   "name": "python3"
  },
  "language_info": {
   "codemirror_mode": {
    "name": "ipython",
    "version": 3
   },
   "file_extension": ".py",
   "mimetype": "text/x-python",
   "name": "python",
   "nbconvert_exporter": "python",
   "pygments_lexer": "ipython3",
   "version": "3.6.5"
  }
 },
 "nbformat": 4,
 "nbformat_minor": 2
}
