{
 "cells": [
  {
   "cell_type": "code",
   "execution_count": null,
   "metadata": {},
   "outputs": [],
   "source": [
    "import numpy as np\n",
    "import random as ra\n",
    "'''\n",
    "ra.random.random()--生成0到1的随机浮点数\n",
    "ra.random.uniform(a,b)--生成a到b之間的随机浮点数\n",
    "ra.random.randint(a,b)--生成a到b之間的随机整数\n",
    "ra.random.randrange(a,b,c)--a到b之間，按c递增的集合中 生成一个随机数\n",
    "ra.sample(sequence, a)--從sequence(List,Tuple,Set中隨機獲取a個元素)\n",
    "np.random.rand(3,2)--隨機從0到1取浮點數，生成一個3x2的矩陣\n",
    "np.random.randint(20,size=(3,2))--隨機從0到19取整數，生成一個3x2的矩陣\n",
    "'''\n",
    "a=np.random.rand(3,2)\n",
    "print(a)\n",
    "a=np.random.randint(100,size=(3,2))\n",
    "print(a)"
   ]
  },
  {
   "cell_type": "code",
   "execution_count": null,
   "metadata": {},
   "outputs": [],
   "source": [
    "# random.randint()的應用\n",
    "import random\n",
    "\n",
    "rList = []                       #建立空串列\n",
    "\n",
    "for j in range(6):\n",
    "    n= random.randint(1, 49)     #從 1~49之間亂數產生一個整數 n\n",
    "    while n in rList:            #檢查 n 是否為 rList 的元素之一，若是，則再次產生亂數 n\n",
    "        n= random.randint(1, 49)\n",
    "    rList.append(n)              #將 n 加入 rList\n",
    "\n",
    "print(sorted(rList))             #排序 rList"
   ]
  },
  {
   "cell_type": "code",
   "execution_count": null,
   "metadata": {},
   "outputs": [],
   "source": [
    "# random.sample()的應用\n",
    "import random\n",
    "\n",
    "# rList = [i for i in range(1,50)] -- 一行建立一個 1~49 串列的寫法\n",
    "rList = []\n",
    "\n",
    "for i in range(1, 50):          #建立一個 1~49 的串列 rList\n",
    "    rList.append(i)\n",
    "\n",
    "for i in range(6):              \n",
    "    li = random.sample(rList,6) #random.sample(rList,6)\n",
    "                                #從 rList 裡亂數挑選 6 個不重複的元素，並形成一個新的串列\n",
    "print(sorted(li))               #排序 rList"
   ]
  },
  {
   "cell_type": "code",
   "execution_count": null,
   "metadata": {},
   "outputs": [],
   "source": [
    "import random\n",
    "\n",
    "print(sorted(random.sample([i for i in range(1,50)],6)))"
   ]
  },
  {
   "cell_type": "code",
   "execution_count": null,
   "metadata": {},
   "outputs": [],
   "source": [
    "# Pythonic的寫法--有興趣的同學可以嘗試理解一下\n",
    "\n",
    "import random\n",
    "print(sorted(random.sample(range(50),6)))"
   ]
  }
 ],
 "metadata": {
  "kernelspec": {
   "display_name": "Python 3",
   "language": "python",
   "name": "python3"
  },
  "language_info": {
   "codemirror_mode": {
    "name": "ipython",
    "version": 3
   },
   "file_extension": ".py",
   "mimetype": "text/x-python",
   "name": "python",
   "nbconvert_exporter": "python",
   "pygments_lexer": "ipython3",
   "version": "3.6.5"
  }
 },
 "nbformat": 4,
 "nbformat_minor": 2
}
