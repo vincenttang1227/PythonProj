{
 "cells": [
  {
   "cell_type": "code",
   "execution_count": null,
   "metadata": {},
   "outputs": [],
   "source": [
    "# 401\n",
    "num_list = []\n",
    "for i in range(10):\n",
    "    num_list.append(int(input()))\n",
    "print (min(num_list))"
   ]
  },
  {
   "cell_type": "code",
   "execution_count": null,
   "metadata": {},
   "outputs": [],
   "source": [
    "# 402\n",
    "num_list , i = [] , 1\n",
    "while i != 9999:\n",
    "    num_list.append(int(input()))\n",
    "    i = int(num_list[-1])\n",
    "print (min(num_list))"
   ]
  },
  {
   "cell_type": "code",
   "execution_count": 39,
   "metadata": {},
   "outputs": [
    {
     "name": "stdout",
     "output_type": "stream",
     "text": [
      "5\n",
      "55\n",
      "8   9   12  16  18  20  24  27  28  32  \n",
      "36  40  44  45  48  52  54  \n",
      "17\n",
      "513\n"
     ]
    }
   ],
   "source": [
    "# 403\n",
    "num1 , num2 , num_list , count = int(input()) , int(input()) , [] , 0\n",
    "for i in range(num1, num2+1):\n",
    "    if i %4 == 0 or i %9 == 0:\n",
    "        num_list.append(i)\n",
    "        print('{:<4}'.format(i),end='')\n",
    "        count += 1\n",
    "        if count %10 == 0:\n",
    "            print()\n",
    "print()\n",
    "print (len(num_list))\n",
    "print (sum(num_list))"
   ]
  },
  {
   "cell_type": "code",
   "execution_count": null,
   "metadata": {},
   "outputs": [],
   "source": [
    "# 404\n",
    "num = input()\n",
    "print (num) if num == 0 else print(num[::-1])"
   ]
  },
  {
   "cell_type": "code",
   "execution_count": null,
   "metadata": {},
   "outputs": [],
   "source": [
    "# 405\n",
    "while True:\n",
    "    grade = eval(input())\n",
    "    if grade >= 90 and grade <= 100:\n",
    "        print('A')\n",
    "    elif grade >= 80 and grade < 90:\n",
    "        print('B')\n",
    "    elif grade >= 70 and grade < 80:\n",
    "        print('C')\n",
    "    elif grade >= 60 and grade < 70:\n",
    "        print('D')\n",
    "    elif grade == -9999:\n",
    "        break\n",
    "    else:\n",
    "        print('E')"
   ]
  },
  {
   "cell_type": "code",
   "execution_count": null,
   "metadata": {},
   "outputs": [],
   "source": [
    "# 406\n",
    "while True:\n",
    "    height = eval(input())/100\n",
    "    if height*100 == -9999:\n",
    "        break\n",
    "    weight = eval(input())\n",
    "    bmi_vol = weight / height**2\n",
    "    if bmi_vol < 18.5:\n",
    "        print('BMI: {:.2f}\\nState: under weight'.format(bmi_vol))\n",
    "    elif bmi_vol >= 18.5 and bmi_vol < 25:\n",
    "        print('BMI: {:.2f}\\nState: normal'.format(bmi_vol))\n",
    "    elif bmi_vol >= 25 and bmi_vol < 30:\n",
    "        print('BMI: {:.2f}\\nState: over weight'.format(bmi_vol))\n",
    "    else:\n",
    "        print('BMI: {:.2f}\\nState: fat'.format(bmi_vol))"
   ]
  },
  {
   "cell_type": "code",
   "execution_count": 4,
   "metadata": {},
   "outputs": [
    {
     "name": "stdout",
     "output_type": "stream",
     "text": [
      "400\n",
      "400 is a leap year.\n",
      "-9999\n"
     ]
    }
   ],
   "source": [
    "# 407\n",
    "while True:\n",
    "    year = int(input())\n",
    "    if year == -9999:\n",
    "        break\n",
    "    if year % 4 == 0:\n",
    "        if year % 100 == 0:\n",
    "            if year % 400 == 0:\n",
    "                print(year,'is a leap year.')\n",
    "            else:\n",
    "                print(year,'is not a leap year.')\n",
    "        else:\n",
    "            print(year,'is a leap year.')\n",
    "    else:\n",
    "        print(year,'is not a leap year.')"
   ]
  },
  {
   "cell_type": "code",
   "execution_count": 44,
   "metadata": {},
   "outputs": [
    {
     "name": "stdout",
     "output_type": "stream",
     "text": [
      "35\n",
      "84\n",
      "27\n",
      "58\n",
      "94\n",
      "28\n",
      "67\n",
      "94\n",
      "37\n",
      "98\n",
      "Even numbers: 10\n",
      "Odd numbers: 10\n"
     ]
    }
   ],
   "source": [
    "# 408\n",
    "even_list , odd_list= [] , []\n",
    "\n",
    "for i in range(10):\n",
    "    num = int(input())\n",
    "    even_list.append(num) if num %2 == 0 else odd_list.append(num)\n",
    "print('Even numbers:',len(even_list))\n",
    "print('Odd numbers:',len(odd_list))"
   ]
  },
  {
   "cell_type": "code",
   "execution_count": 31,
   "metadata": {},
   "outputs": [
    {
     "name": "stdout",
     "output_type": "stream",
     "text": [
      "7\n",
      "      *\n",
      "     ***\n",
      "    *****\n",
      "   *******\n",
      "  *********\n",
      " ***********\n",
      "*************\n"
     ]
    }
   ],
   "source": [
    "# 410\n",
    "num = int(input())\n",
    "for i in range(1, num+1):\n",
    "# print (num-1)個空格，加上單數 *\n",
    "    print(' '*(num-1)+'*'*(2*i-1))\n",
    "    num -= 1"
   ]
  },
  {
   "cell_type": "code",
   "execution_count": 45,
   "metadata": {},
   "outputs": [
    {
     "name": "stdout",
     "output_type": "stream",
     "text": [
      "2\n",
      "Total votes of No.1: Nami =  0\n",
      "Total votes of No.2: Chopper =  1\n",
      "Total null votes =  0\n",
      "1\n",
      "Total votes of No.1: Nami =  1\n",
      "Total votes of No.2: Chopper =  1\n",
      "Total null votes =  0\n",
      "8\n",
      "Total votes of No.1: Nami =  1\n",
      "Total votes of No.2: Chopper =  1\n",
      "Total null votes =  1\n",
      "2\n",
      "Total votes of No.1: Nami =  1\n",
      "Total votes of No.2: Chopper =  2\n",
      "Total null votes =  1\n",
      "2\n",
      "Total votes of No.1: Nami =  1\n",
      "Total votes of No.2: Chopper =  3\n",
      "Total null votes =  1\n",
      "=> No.2 Chopper wins the election.\n"
     ]
    }
   ],
   "source": [
    "# 409 -- 錯誤\n",
    "nami_vote = chopper_vote = null_vote = 0\n",
    "\n",
    "for i in range(5):\n",
    "    vote = int(input())\n",
    "    if vote == 1:\n",
    "        nami_vote += 1\n",
    "        print('Total votes of No.1: Nami = ',nami_vote)\n",
    "        print('Total votes of No.2: Chopper = ',chopper_vote)\n",
    "        print('Total null votes = ',null_vote)\n",
    "    elif vote == 2:\n",
    "        chopper_vote += 1\n",
    "        print('Total votes of No.1: Nami = ',nami_vote)\n",
    "        print('Total votes of No.2: Chopper = ',chopper_vote)\n",
    "        print('Total null votes = ',null_vote)\n",
    "    else:\n",
    "        null_vote += 1\n",
    "        print('Total votes of No.1: Nami = ',nami_vote)\n",
    "        print('Total votes of No.2: Chopper = ',chopper_vote)\n",
    "        print('Total null votes = ',null_vote)\n",
    "if nami_vote > chopper_vote :\n",
    "    print('=> No.1 Nami wins the election.')\n",
    "elif chopper_vote > nami_vote :\n",
    "    print('=> No.2 Chopper wins the election.')\n",
    "else:\n",
    "    print('No one wins the election.')"
   ]
  }
 ],
 "metadata": {
  "kernelspec": {
   "display_name": "Python 3",
   "language": "python",
   "name": "python3"
  },
  "language_info": {
   "codemirror_mode": {
    "name": "ipython",
    "version": 3
   },
   "file_extension": ".py",
   "mimetype": "text/x-python",
   "name": "python",
   "nbconvert_exporter": "python",
   "pygments_lexer": "ipython3",
   "version": "3.6.5"
  }
 },
 "nbformat": 4,
 "nbformat_minor": 2
}
