{
 "cells": [
  {
   "cell_type": "code",
   "execution_count": null,
   "metadata": {},
   "outputs": [],
   "source": [
    "import pandas as pd\n",
    "import requests\n",
    "import csv\n",
    "\n",
    "html = requests.get(\"http://www.twse.com.tw/exchangeReport/MI_INDEX?response=csv&date=20181205&type=ALLBUT0999&_=1544171814819\")\n",
    "\n",
    "with open(\"stock.csv\",\"w\",encoding=\"utf-8-sig\") as fp:\n",
    "    fp.write(html.text)\n",
    "with open(\"stock.csv\",\"r\",encoding=\"utf-8-sig\") as fp:\n",
    "    content = list(csv.reader(fp))\n",
    "    \n",
    "# 找出content裡有17個欄位的元素，加到stockLi裡\n",
    "stockLi = []\n",
    "for i in content:\n",
    "    if len(i) == 17:\n",
    "        del i[-1]\n",
    "        stockLi.append(i)\n",
    "        \n",
    "# 刪除第 0 列\n",
    "del stockLi[0]\n",
    "\n",
    "# 整理資料裡無用的符號，字串的replace()會成為新的元素，所以要重新寫回\n",
    "for i in range(len(stockLi)):\n",
    "    stockLi[i][0] = stockLi[i][0].replace('\"','')\n",
    "    stockLi[i][0] = stockLi[i][0].replace('=','')\n",
    "    for j in range(2,16):\n",
    "        stockLi[i][j] = stockLi[i][j].replace(',','')\n",
    "        \n",
    "# 將有多個 List的 List直接轉成 DataFrame\n",
    "from pandas.core.frame import DataFrame\n",
    "\n",
    "stockDf = pd.DataFrame(stockLi[1:],columns= stockLi[0])\n",
    "stockDf = stockDf.set_index(\"證券代號\")\n",
    "stockDf\n",
    "# 找出有開盤且收益大於 1.05 的股票\n",
    "# for i in range(1,len(stockLi)):\n",
    "#     if stockLi[i][5] != '--' and (float(stockLi[i][8])/float(stockLi[i][5]))>1.05:\n",
    "#         print(stockLi[i])"
   ]
  },
  {
   "cell_type": "code",
   "execution_count": null,
   "metadata": {
    "scrolled": false
   },
   "outputs": [],
   "source": [
    "import sqlite3\n",
    "\n",
    "conn = sqlite3.connect(\"stock.sqlite3\")\n",
    "\n",
    "stockDf.to_sql(\"data20181213\",conn)\n",
    "stockSql=pd.read_sql(\"select * from data20181213\",conn,index_col=[\"證券代號\"])\n",
    "print (stockSql.head())"
   ]
  }
 ],
 "metadata": {
  "kernelspec": {
   "display_name": "Python 3",
   "language": "python",
   "name": "python3"
  },
  "language_info": {
   "codemirror_mode": {
    "name": "ipython",
    "version": 3
   },
   "file_extension": ".py",
   "mimetype": "text/x-python",
   "name": "python",
   "nbconvert_exporter": "python",
   "pygments_lexer": "ipython3",
   "version": "3.6.5"
  }
 },
 "nbformat": 4,
 "nbformat_minor": 2
}
