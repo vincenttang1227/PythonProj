{
 "cells": [
  {
   "cell_type": "code",
   "execution_count": 2,
   "metadata": {
    "scrolled": false
   },
   "outputs": [
    {
     "name": "stdout",
     "output_type": "stream",
     "text": [
      "請輸入查詢年月(格式:199901):201811\n"
     ]
    },
    {
     "ename": "ValueError",
     "evalue": "Table 'data20181101' already exists.",
     "output_type": "error",
     "traceback": [
      "\u001b[1;31m---------------------------------------------------------------------------\u001b[0m",
      "\u001b[1;31mValueError\u001b[0m                                Traceback (most recent call last)",
      "\u001b[1;32m<ipython-input-2-971be31f50da>\u001b[0m in \u001b[0;36m<module>\u001b[1;34m()\u001b[0m\n\u001b[0;32m     69\u001b[0m         \u001b[0mconn\u001b[0m \u001b[1;33m=\u001b[0m \u001b[0msqlite3\u001b[0m\u001b[1;33m.\u001b[0m\u001b[0mconnect\u001b[0m\u001b[1;33m(\u001b[0m\u001b[1;34m\"stock.sqlite3\"\u001b[0m\u001b[1;33m)\u001b[0m\u001b[1;33m\u001b[0m\u001b[0m\n\u001b[0;32m     70\u001b[0m \u001b[1;33m\u001b[0m\u001b[0m\n\u001b[1;32m---> 71\u001b[1;33m         \u001b[0mstockDf\u001b[0m\u001b[1;33m.\u001b[0m\u001b[0mto_sql\u001b[0m\u001b[1;33m(\u001b[0m\u001b[1;34m\"data\"\u001b[0m \u001b[1;33m+\u001b[0m \u001b[0msearMonth\u001b[0m \u001b[1;33m+\u001b[0m \u001b[0mconver\u001b[0m\u001b[1;33m(\u001b[0m\u001b[0mstr\u001b[0m\u001b[1;33m(\u001b[0m\u001b[0mi\u001b[0m\u001b[1;33m)\u001b[0m\u001b[1;33m)\u001b[0m\u001b[1;33m,\u001b[0m \u001b[0mconn\u001b[0m\u001b[1;33m)\u001b[0m\u001b[1;33m\u001b[0m\u001b[0m\n\u001b[0m\u001b[0;32m     72\u001b[0m         stockSql = pd.read_sql(\n\u001b[0;32m     73\u001b[0m             \u001b[1;34m\"select * from data\"\u001b[0m \u001b[1;33m+\u001b[0m \u001b[0msearMonth\u001b[0m \u001b[1;33m+\u001b[0m \u001b[0mconver\u001b[0m\u001b[1;33m(\u001b[0m\u001b[0mstr\u001b[0m\u001b[1;33m(\u001b[0m\u001b[0mi\u001b[0m\u001b[1;33m)\u001b[0m\u001b[1;33m)\u001b[0m\u001b[1;33m,\u001b[0m\u001b[1;33m\u001b[0m\u001b[0m\n",
      "\u001b[1;32mC:\\ProgramData\\Anaconda3\\lib\\site-packages\\pandas\\core\\generic.py\u001b[0m in \u001b[0;36mto_sql\u001b[1;34m(self, name, con, schema, if_exists, index, index_label, chunksize, dtype)\u001b[0m\n\u001b[0;32m   2125\u001b[0m         sql.to_sql(self, name, con, schema=schema, if_exists=if_exists,\n\u001b[0;32m   2126\u001b[0m                    \u001b[0mindex\u001b[0m\u001b[1;33m=\u001b[0m\u001b[0mindex\u001b[0m\u001b[1;33m,\u001b[0m \u001b[0mindex_label\u001b[0m\u001b[1;33m=\u001b[0m\u001b[0mindex_label\u001b[0m\u001b[1;33m,\u001b[0m \u001b[0mchunksize\u001b[0m\u001b[1;33m=\u001b[0m\u001b[0mchunksize\u001b[0m\u001b[1;33m,\u001b[0m\u001b[1;33m\u001b[0m\u001b[0m\n\u001b[1;32m-> 2127\u001b[1;33m                    dtype=dtype)\n\u001b[0m\u001b[0;32m   2128\u001b[0m \u001b[1;33m\u001b[0m\u001b[0m\n\u001b[0;32m   2129\u001b[0m     def to_pickle(self, path, compression='infer',\n",
      "\u001b[1;32mC:\\ProgramData\\Anaconda3\\lib\\site-packages\\pandas\\io\\sql.py\u001b[0m in \u001b[0;36mto_sql\u001b[1;34m(frame, name, con, schema, if_exists, index, index_label, chunksize, dtype)\u001b[0m\n\u001b[0;32m    448\u001b[0m     pandas_sql.to_sql(frame, name, if_exists=if_exists, index=index,\n\u001b[0;32m    449\u001b[0m                       \u001b[0mindex_label\u001b[0m\u001b[1;33m=\u001b[0m\u001b[0mindex_label\u001b[0m\u001b[1;33m,\u001b[0m \u001b[0mschema\u001b[0m\u001b[1;33m=\u001b[0m\u001b[0mschema\u001b[0m\u001b[1;33m,\u001b[0m\u001b[1;33m\u001b[0m\u001b[0m\n\u001b[1;32m--> 450\u001b[1;33m                       chunksize=chunksize, dtype=dtype)\n\u001b[0m\u001b[0;32m    451\u001b[0m \u001b[1;33m\u001b[0m\u001b[0m\n\u001b[0;32m    452\u001b[0m \u001b[1;33m\u001b[0m\u001b[0m\n",
      "\u001b[1;32mC:\\ProgramData\\Anaconda3\\lib\\site-packages\\pandas\\io\\sql.py\u001b[0m in \u001b[0;36mto_sql\u001b[1;34m(self, frame, name, if_exists, index, index_label, schema, chunksize, dtype)\u001b[0m\n\u001b[0;32m   1500\u001b[0m                             \u001b[0mif_exists\u001b[0m\u001b[1;33m=\u001b[0m\u001b[0mif_exists\u001b[0m\u001b[1;33m,\u001b[0m \u001b[0mindex_label\u001b[0m\u001b[1;33m=\u001b[0m\u001b[0mindex_label\u001b[0m\u001b[1;33m,\u001b[0m\u001b[1;33m\u001b[0m\u001b[0m\n\u001b[0;32m   1501\u001b[0m                             dtype=dtype)\n\u001b[1;32m-> 1502\u001b[1;33m         \u001b[0mtable\u001b[0m\u001b[1;33m.\u001b[0m\u001b[0mcreate\u001b[0m\u001b[1;33m(\u001b[0m\u001b[1;33m)\u001b[0m\u001b[1;33m\u001b[0m\u001b[0m\n\u001b[0m\u001b[0;32m   1503\u001b[0m         \u001b[0mtable\u001b[0m\u001b[1;33m.\u001b[0m\u001b[0minsert\u001b[0m\u001b[1;33m(\u001b[0m\u001b[0mchunksize\u001b[0m\u001b[1;33m)\u001b[0m\u001b[1;33m\u001b[0m\u001b[0m\n\u001b[0;32m   1504\u001b[0m \u001b[1;33m\u001b[0m\u001b[0m\n",
      "\u001b[1;32mC:\\ProgramData\\Anaconda3\\lib\\site-packages\\pandas\\io\\sql.py\u001b[0m in \u001b[0;36mcreate\u001b[1;34m(self)\u001b[0m\n\u001b[0;32m    561\u001b[0m         \u001b[1;32mif\u001b[0m \u001b[0mself\u001b[0m\u001b[1;33m.\u001b[0m\u001b[0mexists\u001b[0m\u001b[1;33m(\u001b[0m\u001b[1;33m)\u001b[0m\u001b[1;33m:\u001b[0m\u001b[1;33m\u001b[0m\u001b[0m\n\u001b[0;32m    562\u001b[0m             \u001b[1;32mif\u001b[0m \u001b[0mself\u001b[0m\u001b[1;33m.\u001b[0m\u001b[0mif_exists\u001b[0m \u001b[1;33m==\u001b[0m \u001b[1;34m'fail'\u001b[0m\u001b[1;33m:\u001b[0m\u001b[1;33m\u001b[0m\u001b[0m\n\u001b[1;32m--> 563\u001b[1;33m                 \u001b[1;32mraise\u001b[0m \u001b[0mValueError\u001b[0m\u001b[1;33m(\u001b[0m\u001b[1;34m\"Table '%s' already exists.\"\u001b[0m \u001b[1;33m%\u001b[0m \u001b[0mself\u001b[0m\u001b[1;33m.\u001b[0m\u001b[0mname\u001b[0m\u001b[1;33m)\u001b[0m\u001b[1;33m\u001b[0m\u001b[0m\n\u001b[0m\u001b[0;32m    564\u001b[0m             \u001b[1;32melif\u001b[0m \u001b[0mself\u001b[0m\u001b[1;33m.\u001b[0m\u001b[0mif_exists\u001b[0m \u001b[1;33m==\u001b[0m \u001b[1;34m'replace'\u001b[0m\u001b[1;33m:\u001b[0m\u001b[1;33m\u001b[0m\u001b[0m\n\u001b[0;32m    565\u001b[0m                 \u001b[0mself\u001b[0m\u001b[1;33m.\u001b[0m\u001b[0mpd_sql\u001b[0m\u001b[1;33m.\u001b[0m\u001b[0mdrop_table\u001b[0m\u001b[1;33m(\u001b[0m\u001b[0mself\u001b[0m\u001b[1;33m.\u001b[0m\u001b[0mname\u001b[0m\u001b[1;33m,\u001b[0m \u001b[0mself\u001b[0m\u001b[1;33m.\u001b[0m\u001b[0mschema\u001b[0m\u001b[1;33m)\u001b[0m\u001b[1;33m\u001b[0m\u001b[0m\n",
      "\u001b[1;31mValueError\u001b[0m: Table 'data20181101' already exists."
     ]
    }
   ],
   "source": [
    "import pandas as pd\n",
    "import requests\n",
    "import csv\n",
    "\n",
    "\n",
    "def conver(i):\n",
    "    if int(i) < 10: return \"0\" + str(i)\n",
    "    else: return str(i)\n",
    "\n",
    "\n",
    "# searDate = input(\"請輸入查詢年月日(格式:1999 01 01):\").split(\" \")\n",
    "# date = searDate[0]+conver(searDate[1])+conver(searDate[2])\n",
    "\n",
    "# stockY = input(\"請輸入查詢年(格式:1999):\")\n",
    "# stockM = input(\"請輸入查詢月(格式:01):\")\n",
    "# stockD = input(\"請輸入查詢日(格式:01):\")\n",
    "# date = stockY+conver(stockM)+conver(stockD)\n",
    "\n",
    "# date = input(\"請輸入查詢年月日(格式:19990101):\")\n",
    "searMonth = input(\"請輸入查詢年月(格式:199901):\")\n",
    "for i in range(1, 32):\n",
    "\n",
    "    html = requests.get(\n",
    "        \"http://www.twse.com.tw/exchangeReport/MI_INDEX?response=csv&date=\" +\n",
    "        searMonth + conver(str(i)) + \"&type=ALLBUT0999&_=1544760086323\")\n",
    "\n",
    "    with open(\n",
    "            searMonth + conver(str(i)) + \".csv\", \"w\",\n",
    "            encoding=\"utf-8-sig\") as fp:\n",
    "        fp.write(html.text)\n",
    "    with open(\n",
    "            searMonth + conver(str(i)) + \".csv\", \"r\",\n",
    "            encoding=\"utf-8-sig\") as fp:\n",
    "        content = list(csv.reader(fp))\n",
    "\n",
    "    # 找出content裡有17個欄位的元素，加到stockLi裡\n",
    "    stockLi = []\n",
    "    for j in content:\n",
    "        if len(j) == 17:\n",
    "            del j[-1]\n",
    "            stockLi.append(j)\n",
    "\n",
    "    if stockLi == []: continue\n",
    "\n",
    "    # 刪除第 0 列\n",
    "    try:\n",
    "        if stockLi[0][0] != \"證券代號\":\n",
    "            del stockLi[0]\n",
    "\n",
    "        # 整理資料裡無用的符號，字串的replace()會成為新的元素，所以要重新寫回\n",
    "        for k in range(len(stockLi)):\n",
    "            stockLi[k][0] = stockLi[k][0].replace('\"', '')\n",
    "            stockLi[k][0] = stockLi[k][0].replace('=', '')\n",
    "            for l in range(2, 16):\n",
    "                stockLi[k][l] = stockLi[k][l].replace(',', '')\n",
    "\n",
    "        # 將有多個 List的 List直接轉成 DataFrame\n",
    "        from pandas.core.frame import DataFrame\n",
    "\n",
    "        stockDf = pd.DataFrame(stockLi[1:], columns=stockLi[0])\n",
    "        stockDf = stockDf.set_index(\"證券代號\")\n",
    "        stockDf\n",
    "        # 找出有開盤且收益大於 1.05 的股票\n",
    "        # for i in range(1,len(stockLi)):\n",
    "        #     if stockLi[i][5] != '--' and (float(stockLi[i][8])/float(stockLi[i][5]))>1.05:\n",
    "        #         print(stockLi[i])\n",
    "        import sqlite3\n",
    "\n",
    "        conn = sqlite3.connect(\"stock.db\")\n",
    "\n",
    "        stockDf.to_sql(\"data\" + searMonth + conver(str(i)), conn)\n",
    "        stockSql = pd.read_sql(\n",
    "            \"select * from data\" + searMonth + conver(str(i)),\n",
    "            conn,\n",
    "            index_col=[\"證券代號\"])\n",
    "        print(stockSql.head())\n",
    "        conn.close();\n",
    "    except IndexError:\n",
    "        print(\"非營業日\")"
   ]
  },
  {
   "cell_type": "code",
   "execution_count": 3,
   "metadata": {},
   "outputs": [],
   "source": [
    "conn.close();"
   ]
  }
 ],
 "metadata": {
  "kernelspec": {
   "display_name": "Python 3",
   "language": "python",
   "name": "python3"
  },
  "language_info": {
   "codemirror_mode": {
    "name": "ipython",
    "version": 3
   },
   "file_extension": ".py",
   "mimetype": "text/x-python",
   "name": "python",
   "nbconvert_exporter": "python",
   "pygments_lexer": "ipython3",
   "version": "3.6.5"
  }
 },
 "nbformat": 4,
 "nbformat_minor": 2
}
