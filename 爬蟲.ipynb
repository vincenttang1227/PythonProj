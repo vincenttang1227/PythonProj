{
 "cells": [
  {
   "cell_type": "code",
   "execution_count": null,
   "metadata": {
    "scrolled": false
   },
   "outputs": [],
   "source": [
    "import requests\n",
    "import pandas as pd\n",
    "    \n",
    "pdHtml = pd.read_html(\"http://landtop.com.tw/products.php?types=1\",encoding=\"utf-8\")\n",
    "pdHtml[0]"
   ]
  },
  {
   "cell_type": "code",
   "execution_count": 1,
   "metadata": {},
   "outputs": [],
   "source": [
    "import requests\n",
    "import pandas as pd\n",
    "import csv\n",
    "\n",
    "html = requests.get(\"http://www.twse.com.tw/exchangeReport/MI_INDEX?response=csv&date=20181206&type=ALLBUT0999&_=1544171814819\")\n",
    "# print(html.text)\n",
    "\n",
    "with open(\"stock.csv\",\"w\",encoding=\"utf-8-sig\") as fp:\n",
    "    fp.write(html.text)"
   ]
  },
  {
   "cell_type": "code",
   "execution_count": 2,
   "metadata": {},
   "outputs": [
    {
     "data": {
      "text/plain": [
       "1070"
      ]
     },
     "execution_count": 2,
     "metadata": {},
     "output_type": "execute_result"
    }
   ],
   "source": [
    "with open(\"stock.csv\",\"r\",encoding=\"utf-8-sig\") as fp:\n",
    "    content = list(csv.reader(fp))\n",
    "li=[]\n",
    "for i in content:\n",
    "    if len(i)==17:\n",
    "        del i[-1]\n",
    "        li.append(i)\n",
    "del li[0]\n",
    "len(li)"
   ]
  },
  {
   "cell_type": "code",
   "execution_count": 6,
   "metadata": {},
   "outputs": [
    {
     "data": {
      "text/plain": [
       "'=\"0050\"'"
      ]
     },
     "execution_count": 6,
     "metadata": {},
     "output_type": "execute_result"
    }
   ],
   "source": [
    "li[1][0]"
   ]
  },
  {
   "cell_type": "code",
   "execution_count": 4,
   "metadata": {},
   "outputs": [],
   "source": [
    "for i in range(1,len(li)):\n",
    "    li[i][0].replace('=\"','')"
   ]
  }
 ],
 "metadata": {
  "kernelspec": {
   "display_name": "Python 3",
   "language": "python",
   "name": "python3"
  },
  "language_info": {
   "codemirror_mode": {
    "name": "ipython",
    "version": 3
   },
   "file_extension": ".py",
   "mimetype": "text/x-python",
   "name": "python",
   "nbconvert_exporter": "python",
   "pygments_lexer": "ipython3",
   "version": "3.6.5"
  }
 },
 "nbformat": 4,
 "nbformat_minor": 2
}
