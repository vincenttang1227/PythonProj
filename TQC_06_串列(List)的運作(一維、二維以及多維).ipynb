{
 "cells": [
  {
   "cell_type": "code",
   "execution_count": null,
   "metadata": {},
   "outputs": [],
   "source": [
    "# 601 偶數索引值加總\n",
    "numList = []\n",
    "total= 0\n",
    "for i in range(12):\n",
    "    num = int(input())\n",
    "    numList.append(num)\n",
    "    if i %2 == 0: total += numList[i]\n",
    "\n",
    "for j in range(12):\n",
    "    print('{:3d}'.format(numList[j]),end='')\n",
    "    if j %3 == 2: print()\n",
    "        \n",
    "print(total)"
   ]
  },
  {
   "cell_type": "code",
   "execution_count": 1,
   "metadata": {},
   "outputs": [
    {
     "name": "stdout",
     "output_type": "stream",
     "text": [
      "5\n",
      "10\n",
      "K\n",
      "3\n",
      "A\n",
      "32\n"
     ]
    }
   ],
   "source": [
    "# 602 撲克牌總和\n",
    "pokerList = []\n",
    "for i in range(5):\n",
    "    char = input()\n",
    "    if char == 'A': pokerList.append(1)\n",
    "    elif char == 'J': pokerList.append(11)\n",
    "    elif char == 'Q': pokerList.append(12)\n",
    "    elif char == 'K': pokerList.append(13)\n",
    "    else: pokerList.append(int(char))\n",
    "print(sum(pokerList))"
   ]
  },
  {
   "cell_type": "code",
   "execution_count": null,
   "metadata": {},
   "outputs": [],
   "source": [
    "# 603 數字排序\n",
    "numList = []\n",
    "for i in range(10):\n",
    "    num = int(input())\n",
    "    numList.append(num)\n",
    "numList.sort(reverse=True)\n",
    "print ('{} {} {}'.format(numList[0],numList[1],numList[2]))"
   ]
  },
  {
   "cell_type": "code",
   "execution_count": null,
   "metadata": {},
   "outputs": [],
   "source": [
    "# 604 眾數\n",
    "num_list = []\n",
    "for i in range(10):\n",
    "    num = int(input())\n",
    "    num_list.append(num)\n",
    "    \n",
    "import numpy as np\n",
    "num_nplist = np.array(num_list)\n",
    "# np.bincount(list) 將list的值當成索引，出現的次數當成值\n",
    "counts = np.bincount(num_nplist)\n",
    "# print (counts)\n",
    "# np.argmax(list) 返回list裡最大值的索引\n",
    "print (np.argmax(counts))\n",
    "print(np.max(counts))"
   ]
  },
  {
   "cell_type": "code",
   "execution_count": null,
   "metadata": {},
   "outputs": [],
   "source": [
    "numList = []\n",
    "for i in range(10):\n",
    "    num = int(input())\n",
    "    numList.append(num)\n",
    "for i in range(10):\n",
    "    tt = numList.index(numList[i])\n",
    "    if "
   ]
  },
  {
   "cell_type": "code",
   "execution_count": null,
   "metadata": {},
   "outputs": [],
   "source": [
    "# 605 成績計算\n",
    "grade_list = []\n",
    "for i in range(10):\n",
    "    grade = int(input())\n",
    "    grade_list.append(grade)\n",
    "grade_list.remove(max(grade_list))\n",
    "grade_list.remove(min(grade_list))\n",
    "print(sum(grade_list))\n",
    "print('{:.2f}'.format(sum(grade_list)/len(grade_list)))"
   ]
  },
  {
   "cell_type": "code",
   "execution_count": null,
   "metadata": {},
   "outputs": [],
   "source": [
    "# 606 二維串列行列數\n",
    "# test = [[0 for i in range(m)] for j in range(n)]\n",
    "# n -> rows , m -> cols \n",
    "\n",
    "def compute(row,col):\n",
    "    num_list = [[0 for i in range(col)] for j in range(row)]\n",
    "    for i in range(rows):\n",
    "        for j in range(cols):\n",
    "            num_list[i][j] = j-i\n",
    "            print('{:4d}'.format(num_list[i][j]),end='')\n",
    "        print()\n",
    "\n",
    "rows, cols = int(input()), int(input())\n",
    "compute(rows,cols)"
   ]
  },
  {
   "cell_type": "code",
   "execution_count": null,
   "metadata": {},
   "outputs": [],
   "source": [
    "# 607 成績計算\n",
    "\n",
    "grade_list = [[0 for i in range(5)] for j in range(3)]\n",
    "for i in range(3):\n",
    "    if i == 0:\n",
    "        print('The 1st student:')\n",
    "    elif i == 1:\n",
    "        print('The 2nd student:')\n",
    "    elif i == 2:\n",
    "        print('The 3rd student:')\n",
    "    for j in range(5):\n",
    "        grade = int(input())\n",
    "        grade_list[i][j] = grade\n",
    "for i in range(3):\n",
    "    sum_grade = sum(grade_list[i])\n",
    "    print('Student {}'.format(i+1))\n",
    "    print('#Sum {}'.format(sum_grade))\n",
    "    print('#Average {:.2f}'.format(sum_grade/5))"
   ]
  },
  {
   "cell_type": "code",
   "execution_count": null,
   "metadata": {
    "scrolled": true
   },
   "outputs": [],
   "source": [
    "# 608 最大最小值索引 --未完成\n",
    "import numpy as np\n",
    "matrix_list = [[0 for i in range(3)] for j in range(3)]\n",
    "max_list , min_list = [],[]\n",
    "for i in range(3):\n",
    "    for j in range(3):\n",
    "        num = int(input())\n",
    "        matrix_list[i][j] = num\n",
    "matrix_array = np.array(matrix_list)\n",
    "matrix_array\n",
    "#     max_list.append(max(matrix_list[i]))\n",
    "#     min_list.append(min(matrix_list[i]))\n",
    "# max_num = max(max_list)\n",
    "# min_num = min(min_list)\n",
    "# 如何找出最大值的索引\n",
    "# max_index = matrix_list.index(max_num)\n",
    "# min_index = matrix_list.index(min_num)\n",
    "# print(\"Index of the largest number {} is: {}\".format(max_num,max_index))\n",
    "# print(\"Index of the smallest number {} is: {}\".format(min_num,min_index))"
   ]
  },
  {
   "cell_type": "code",
   "execution_count": null,
   "metadata": {},
   "outputs": [],
   "source": [
    "matrix_array = np.array(matrix_list)\n",
    "print(matrix_array)\n",
    "print(np.max(matrix_array))\n",
    "np.where(matrix_array==np.max(matrix_array))"
   ]
  },
  {
   "cell_type": "code",
   "execution_count": null,
   "metadata": {},
   "outputs": [],
   "source": [
    "# 609 矩陣相加\n",
    "matrix1 = [[0 for i in range(2)] for j in range(2)]\n",
    "matrix2 = [[0 for i in range(2)] for j in range(2)]\n",
    "\n",
    "print('Enter matrix 1:')\n",
    "for i in range(2):\n",
    "    for j in range(2):\n",
    "        num1 = int(input('[{}, {}]: '.format(i+1,j+1)))\n",
    "        matrix1[i][j] = num1\n",
    "print('Enter matrix 2:')\n",
    "for i in range(2):\n",
    "    for j in range(2):\n",
    "        num1 = int(input('[{}, {}]: '.format(i+1,j+1)))\n",
    "        matrix2[i][j] = num1\n",
    "print('Matrix 1:')\n",
    "for i in range(2):\n",
    "    for j in range(2):\n",
    "        print(matrix1[i][j],end=' ')\n",
    "    print()\n",
    "print('Matrix 2:')\n",
    "for i in range(2):\n",
    "    for j in range(2):\n",
    "        print(matrix2[i][j],end=' ')\n",
    "    print()\n",
    "print('Sum of 2 matrices:')\n",
    "for i in range(2):\n",
    "    for j in range(2):\n",
    "        print((matrix1[i][j]+matrix2[i][j]),end=' ')\n",
    "    print()"
   ]
  },
  {
   "cell_type": "code",
   "execution_count": null,
   "metadata": {},
   "outputs": [],
   "source": [
    "# 610 平均溫度\n",
    "temp_list = [[0 for i in range(3)] for j in range(4)]\n",
    "highest_temp,lowest_temp,sum_temp = [],[],[]\n",
    "for i in range(1,5):\n",
    "    print('Week {}:'.format(i))\n",
    "    for j in range(1,4):\n",
    "        temp = eval(input('Day {}:'.format(j)))\n",
    "        temp_list[i-1][j-1] = temp\n",
    "    sum_temp.append(sum(temp_list[i-1]))\n",
    "    highest_temp.append(max(temp_list[i-1]))\n",
    "    lowest_temp.append(min(temp_list[i-1]))\n",
    "print('Average: {:.2f}'.format(sum(sum_temp)/12))\n",
    "print('Highest:',max(highest_temp))\n",
    "print('Lowest:',min(lowest_temp))"
   ]
  },
  {
   "cell_type": "code",
   "execution_count": null,
   "metadata": {},
   "outputs": [],
   "source": [
    "print('Average: {:.2f}'.format(sum(sum_temp)/12))\n",
    "print('Highest:',max(highest_temp))\n",
    "print('Lowest:',min(lowest_temp))"
   ]
  }
 ],
 "metadata": {
  "kernelspec": {
   "display_name": "Python 3",
   "language": "python",
   "name": "python3"
  },
  "language_info": {
   "codemirror_mode": {
    "name": "ipython",
    "version": 3
   },
   "file_extension": ".py",
   "mimetype": "text/x-python",
   "name": "python",
   "nbconvert_exporter": "python",
   "pygments_lexer": "ipython3",
   "version": "3.6.5"
  }
 },
 "nbformat": 4,
 "nbformat_minor": 2
}
