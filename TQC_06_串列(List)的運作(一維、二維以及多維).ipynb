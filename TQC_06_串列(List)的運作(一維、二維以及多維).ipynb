{
 "cells": [
  {
   "cell_type": "code",
   "execution_count": null,
   "metadata": {},
   "outputs": [],
   "source": [
    "# 601 偶數索引值加總\n",
    "numList = []\n",
    "total= 0\n",
    "for i in range(12):\n",
    "    num = int(input())\n",
    "    numList.append(num)\n",
    "    if i %2 == 0: total += numList[i]\n",
    "\n",
    "for j in range(12):\n",
    "    print('{:3d}'.format(numList[j]),end='')\n",
    "    if j %3 == 2: print()\n",
    "        \n",
    "print(total)"
   ]
  },
  {
   "cell_type": "code",
   "execution_count": null,
   "metadata": {},
   "outputs": [],
   "source": [
    "# 602 撲克牌總和\n",
    "pokLi,pokDic = [],{\"A\":1,\"J\":11,\"Q\":12,\"K\":13}\n",
    "# total = 0\n",
    "for i in range(5): \n",
    "    pok=input()\n",
    "    if pok in pokDic: \n",
    "        pok=pokDic[pok]\n",
    "    pokLi.append(int(pok))\n",
    "print(sum(pokLi))"
   ]
  },
  {
   "cell_type": "code",
   "execution_count": 3,
   "metadata": {},
   "outputs": [
    {
     "name": "stdout",
     "output_type": "stream",
     "text": [
      "5\n",
      "10\n",
      "K\n",
      "3\n",
      "A\n",
      "32\n"
     ]
    }
   ],
   "source": [
    "pokLi1 = [\"A\",\"J\",\"Q\",\"K\"]\n",
    "pokLi2 = [1,11,12,13]\n",
    "total = 0\n",
    "\n",
    "for i in range(5):\n",
    "    pok = input()\n",
    "    if pok in pokLi1:\n",
    "        total += pokLi2[pokLi1.index(pok)]\n",
    "    else: \n",
    "        total += int(pok)\n",
    "\n",
    "print(total)"
   ]
  },
  {
   "cell_type": "code",
   "execution_count": null,
   "metadata": {},
   "outputs": [],
   "source": [
    "# 603 數字排序\n",
    "num_list = []\n",
    "for i in range(10):\n",
    "    num = int(input())\n",
    "    num_list.append(num)\n",
    "sort_list = sorted(num_list)\n",
    "print ('{} {} {}'.format(sort_list[-1],sort_list[-2],sort_list[-3]))"
   ]
  },
  {
   "cell_type": "code",
   "execution_count": null,
   "metadata": {},
   "outputs": [],
   "source": [
    "# 604 眾數\n",
    "sample = []\n",
    "count = [0]*10\n",
    "\n",
    "for i in range(10):\n",
    "    num = int(input())\n",
    "    sample.append(num)\n",
    "    count[sample.index(num)] += 1\n",
    "\n",
    "num_occu = max(count)\n",
    "print(sample[count.index(num_occu)])\n",
    "print(num_occu)"
   ]
  },
  {
   "cell_type": "code",
   "execution_count": 5,
   "metadata": {},
   "outputs": [
    {
     "name": "stdout",
     "output_type": "stream",
     "text": [
      "34\n",
      "18\n",
      "22\n",
      "32\n",
      "18\n",
      "29\n",
      "30\n",
      "38\n",
      "42\n",
      "18\n",
      "18\n",
      "3\n"
     ]
    }
   ],
   "source": [
    "numLi = []\n",
    "countLi = []\n",
    "\n",
    "for i in range(10):\n",
    "    numLi.append( int(input()) )\n",
    "\n",
    "for i in range(10):\n",
    "    countLi.append( numLi.count( numLi[i] ) )\n",
    "\n",
    "print( numLi[ countLi.index( max( countLi ) ) ] )\n",
    "print( max( countLi) )"
   ]
  },
  {
   "cell_type": "code",
   "execution_count": null,
   "metadata": {},
   "outputs": [],
   "source": [
    "# 605 成績計算\n",
    "gradeLi = []\n",
    "for i in range(10):\n",
    "    grade = int(input())\n",
    "    gradeLi.append(grade)\n",
    "\n",
    "gradeLi.remove(max(gradeLi))\n",
    "gradeLi.remove(min(gradeLi))\n",
    "print(sum(gradeLi))\n",
    "print('{:.2f}'.format(sum(gradeLi)/len(gradeLi)))"
   ]
  },
  {
   "cell_type": "code",
   "execution_count": null,
   "metadata": {},
   "outputs": [],
   "source": [
    "# 606 二維串列行列數\n",
    "def compute(a, b):\n",
    "    for i in range(a):\n",
    "        for j in range(b):\n",
    "            print(\"{:4d}\".format(j - i), end='')\n",
    "        print()\n",
    "\n",
    "\n",
    "rows, cols = int(input()), int(input())\n",
    "compute(rows, cols)"
   ]
  },
  {
   "cell_type": "code",
   "execution_count": null,
   "metadata": {},
   "outputs": [],
   "source": [
    "rows, cols = int(input()), int(input())\n",
    "num_list = [[0 for i in range(cols)] for j in range(rows)]\n",
    "for i in range(0,rows):\n",
    "    for j in range(0,cols):\n",
    "        num_list[i][j] = j-i\n",
    "        print('{:4d}'.format(num_list[i][j]),end='')\n",
    "    print()"
   ]
  },
  {
   "cell_type": "code",
   "execution_count": null,
   "metadata": {},
   "outputs": [],
   "source": [
    "# 607 成績計算\n",
    "gradeList = [[0 for i in range(5)] for j in range(3)]\n",
    "a = [\"1st\",\"2nd\",\"3rd\"]\n",
    "for i in range(3):\n",
    "    print('The {} student:'.format(a[i]))\n",
    "    for j in range(5): gradeList[i][j] = int(input())\n",
    "        \n",
    "for i in range(3):\n",
    "    sumGrade = sum(gradeList[i])\n",
    "    print(\"Student {}\\n#Sum {}\\n#Average {:.2f}\".format((i+1),sumGrade,(sumGrade/5)))"
   ]
  },
  {
   "cell_type": "code",
   "execution_count": null,
   "metadata": {},
   "outputs": [],
   "source": [
    "# 608 最大最小值索引\n",
    "matrix=[[0 for i in range(3)] for j in range(3)]\n",
    "maxNumList,minNumList=[],[]\n",
    "for i in range(3):\n",
    "    for j in range(3): matrix[i][j]=eval(input())\n",
    "\n",
    "for i in range(3):   \n",
    "    maxNumList.append(max(matrix[i]))\n",
    "    minNumList.append(min(matrix[i]))\n",
    "maxNum,minNum=max(maxNumList),min(minNumList)\n",
    "\n",
    "maxIndex1=maxNumList.index(maxNum)\n",
    "maxIndex2=matrix[maxIndex1].index(maxNum)\n",
    "minIndex1=minNumList.index(minNum)\n",
    "minIndex2=matrix[minIndex1].index(minNum)\n",
    "\n",
    "print(\"Index of the largest number {} is: ({}, {})\".format(maxNum,maxIndex1,maxIndex2))\n",
    "print(\"Index of the smallest number {} is: ({}, {})\".format(minNum,minIndex1,minIndex2))"
   ]
  },
  {
   "cell_type": "code",
   "execution_count": null,
   "metadata": {},
   "outputs": [],
   "source": [
    "# 609 矩陣相加\n",
    "matrix1 = [[0 for i in range(2)] for j in range(2)]\n",
    "matrix2 = [[0 for i in range(2)] for j in range(2)]\n",
    "\n",
    "print('Enter matrix 1:')\n",
    "for i in range(2):\n",
    "    for j in range(2):\n",
    "        num1 = int(input('[{}, {}]: '.format(i+1,j+1)))\n",
    "        matrix1[i][j] = num1\n",
    "print('Enter matrix 2:')\n",
    "for i in range(2):\n",
    "    for j in range(2):\n",
    "        num1 = int(input('[{}, {}]: '.format(i+1,j+1)))\n",
    "        matrix2[i][j] = num1\n",
    "print('Matrix 1:')\n",
    "for i in range(2):\n",
    "    for j in range(2):\n",
    "        print(matrix1[i][j],end=' ')\n",
    "    print()\n",
    "print('Matrix 2:')\n",
    "for i in range(2):\n",
    "    for j in range(2):\n",
    "        print(matrix2[i][j],end=' ')\n",
    "    print()\n",
    "print('Sum of 2 matrices:')\n",
    "for i in range(2):\n",
    "    for j in range(2):\n",
    "        print((matrix1[i][j]+matrix2[i][j]),end=' ')\n",
    "    print()"
   ]
  },
  {
   "cell_type": "code",
   "execution_count": null,
   "metadata": {},
   "outputs": [],
   "source": [
    "# 610 平均溫度\n",
    "temp_list = [[0 for i in range(3)] for j in range(4)]\n",
    "highest_temp,lowest_temp,sum_temp = [],[],[]\n",
    "for i in range(1,5):\n",
    "    print('Week {}:'.format(i))\n",
    "    for j in range(1,4):\n",
    "        temp = eval(input('Day {}:'.format(j)))\n",
    "        temp_list[i-1][j-1] = temp\n",
    "    sum_temp.append(sum(temp_list[i-1]))\n",
    "    highest_temp.append(max(temp_list[i-1]))\n",
    "    lowest_temp.append(min(temp_list[i-1]))\n",
    "print('Average: {:.2f}'.format(sum(sum_temp)/12))\n",
    "print('Highest:',max(highest_temp))\n",
    "print('Lowest:',min(lowest_temp))"
   ]
  }
 ],
 "metadata": {
  "kernelspec": {
   "display_name": "Python 3",
   "language": "python",
   "name": "python3"
  },
  "language_info": {
   "codemirror_mode": {
    "name": "ipython",
    "version": 3
   },
   "file_extension": ".py",
   "mimetype": "text/x-python",
   "name": "python",
   "nbconvert_exporter": "python",
   "pygments_lexer": "ipython3",
   "version": "3.6.5"
  }
 },
 "nbformat": 4,
 "nbformat_minor": 2
}
