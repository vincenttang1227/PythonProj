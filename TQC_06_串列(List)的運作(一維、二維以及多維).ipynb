{
 "cells": [
  {
   "cell_type": "code",
   "execution_count": null,
   "metadata": {
    "code_folding": []
   },
   "outputs": [],
   "source": [
    "# 601 偶數索引值加總\n",
    "numList = []\n",
    "total = 0\n",
    "\n",
    "for i in range(12):\n",
    "    num = int(input())\n",
    "    numList.append(num)\n",
    "    if i % 2 == 0: total += numList[i]\n",
    "\n",
    "for j in range(12):\n",
    "    print('{:3d}'.format(numList[j]), end='')\n",
    "    if j % 3 == 2: print()\n",
    "\n",
    "print(total)"
   ]
  },
  {
   "cell_type": "code",
   "execution_count": 1,
   "metadata": {
    "code_folding": []
   },
   "outputs": [
    {
     "name": "stdout",
     "output_type": "stream",
     "text": [
      "5\n",
      "10\n",
      "K\n",
      "3\n",
      "A\n",
      "32\n"
     ]
    }
   ],
   "source": [
    "# 602 撲克牌總和\n",
    "pokerList = []\n",
    "\n",
    "for i in range(5):\n",
    "    char = input()\n",
    "    if char == 'A': pokerList.append(1)\n",
    "    elif char == 'J': pokerList.append(11)\n",
    "    elif char == 'Q': pokerList.append(12)\n",
    "    elif char == 'K': pokerList.append(13)\n",
    "    else: pokerList.append(int(char))\n",
    "\n",
    "print(sum(pokerList))"
   ]
  },
  {
   "cell_type": "code",
   "execution_count": null,
   "metadata": {
    "code_folding": []
   },
   "outputs": [],
   "source": [
    "# 603 數字排序\n",
    "numList = []\n",
    "\n",
    "for i in range(10):\n",
    "    num = int(input())\n",
    "    numList.append(num)\n",
    "\n",
    "numList.sort(reverse=True)\n",
    "print('{} {} {}'.format(numList[0], numList[1], numList[2]))"
   ]
  },
  {
   "cell_type": "code",
   "execution_count": null,
   "metadata": {},
   "outputs": [],
   "source": [
    "# 604 眾數\n",
    "numList = []\n",
    "count = [0 for i in range(10)]\n",
    "\n",
    "for i in range(10):\n",
    "    num = int(input())\n",
    "    numList.append(num)\n",
    "    count[numList.index(num)] += 1\n",
    "\n",
    "numOccu = max(count)\n",
    "print(numList[count.index(numOccu)])\n",
    "print(numOccu)"
   ]
  },
  {
   "cell_type": "code",
   "execution_count": null,
   "metadata": {
    "code_folding": [
     0
    ]
   },
   "outputs": [],
   "source": [
    "# 605 成績計算\n",
    "gradeList = []\n",
    "\n",
    "for i in range(10):\n",
    "    grade = int(input())\n",
    "    gradeList.append(grade)\n",
    "\n",
    "gradeList.remove(max(gradeList))\n",
    "gradeList.remove(min(gradeList))\n",
    "\n",
    "print(sum(gradeList))\n",
    "print('{:.2f}'.format(sum(gradeList) / len(gradeList)))"
   ]
  },
  {
   "cell_type": "code",
   "execution_count": 4,
   "metadata": {},
   "outputs": [
    {
     "name": "stdout",
     "output_type": "stream",
     "text": [
      "3\n",
      "5\n",
      "   0   1   2   3   4\n",
      "  -1   0   1   2   3\n",
      "  -2  -1   0   1   2\n"
     ]
    }
   ],
   "source": [
    "# 606 二維串列行列數\n",
    "# test = [[0 for i in range(m)] for j in range(n)]\n",
    "# n -> rows , m -> cols\n",
    "\n",
    "def compute(row, col):\n",
    "    numList = [[0 for i in range(col)] for j in range(row)]\n",
    "    for i in range(rows):\n",
    "        for j in range(cols):\n",
    "            numList[i][j] = j - i\n",
    "            print('{:4d}'.format(numList[i][j]), end='')\n",
    "        print()\n",
    "\n",
    "\n",
    "rows, cols = int(input()), int(input())\n",
    "compute(rows, cols)"
   ]
  },
  {
   "cell_type": "code",
   "execution_count": 2,
   "metadata": {},
   "outputs": [
    {
     "name": "stdout",
     "output_type": "stream",
     "text": [
      "The 1st student:\n",
      "35\n",
      "86\n",
      "36\n",
      "96\n",
      "86\n",
      "The 2nd student:\n",
      "94\n",
      "75\n",
      "34\n",
      "68\n",
      "97\n",
      "The 3rd student:\n",
      "46\n",
      "95\n",
      "97\n",
      "84\n",
      "89\n"
     ]
    },
    {
     "ename": "TypeError",
     "evalue": "must be str, not int",
     "output_type": "error",
     "traceback": [
      "\u001b[1;31m---------------------------------------------------------------------------\u001b[0m",
      "\u001b[1;31mTypeError\u001b[0m                                 Traceback (most recent call last)",
      "\u001b[1;32m<ipython-input-2-fddb8627fef2>\u001b[0m in \u001b[0;36m<module>\u001b[1;34m()\u001b[0m\n\u001b[0;32m     13\u001b[0m \u001b[1;32mfor\u001b[0m \u001b[0mi\u001b[0m \u001b[1;32min\u001b[0m \u001b[0mrange\u001b[0m\u001b[1;33m(\u001b[0m\u001b[1;36m3\u001b[0m\u001b[1;33m)\u001b[0m\u001b[1;33m:\u001b[0m\u001b[1;33m\u001b[0m\u001b[0m\n\u001b[0;32m     14\u001b[0m     \u001b[0msumGrade\u001b[0m \u001b[1;33m=\u001b[0m \u001b[0msum\u001b[0m\u001b[1;33m(\u001b[0m\u001b[0mgradeList\u001b[0m\u001b[1;33m[\u001b[0m\u001b[0mi\u001b[0m\u001b[1;33m]\u001b[0m\u001b[1;33m)\u001b[0m\u001b[1;33m\u001b[0m\u001b[0m\n\u001b[1;32m---> 15\u001b[1;33m     \u001b[0mprint\u001b[0m\u001b[1;33m(\u001b[0m\u001b[1;34m\"Student \"\u001b[0m\u001b[1;33m+\u001b[0m\u001b[1;33m(\u001b[0m\u001b[0mi\u001b[0m\u001b[1;33m+\u001b[0m\u001b[1;36m1\u001b[0m\u001b[1;33m)\u001b[0m\u001b[1;33m+\u001b[0m\u001b[1;34m\"\\n#Sum \"\u001b[0m\u001b[1;33m+\u001b[0m\u001b[0msumGrade\u001b[0m\u001b[1;33m+\u001b[0m\u001b[1;34m\"\\n#Average \"\u001b[0m\u001b[1;33m+\u001b[0m\u001b[1;33m(\u001b[0m\u001b[0msumGrade\u001b[0m\u001b[1;33m/\u001b[0m\u001b[1;36m5\u001b[0m\u001b[1;33m)\u001b[0m\u001b[1;33m)\u001b[0m\u001b[1;33m\u001b[0m\u001b[0m\n\u001b[0m",
      "\u001b[1;31mTypeError\u001b[0m: must be str, not int"
     ]
    }
   ],
   "source": [
    "# 607 成績計算\n",
    "\n",
    "gradeList = [[0 for i in range(5)] for j in range(3)]\n",
    "\n",
    "for i in range(3):\n",
    "    if i == 0: print('The 1st student:')\n",
    "    elif i == 1: print('The 2nd student:')\n",
    "    elif i == 2: print('The 3rd student:')\n",
    "    for j in range(5):\n",
    "        grade = int(input())\n",
    "        gradeList[i][j] = grade\n",
    "        \n",
    "for i in range(3):\n",
    "    sumGrade = sum(gradeList[i])\n",
    "    print(\"Student {}\\n#Sum {}\\n#Average {:.2f}\".format((i+1),sumGrade,(sumGrade/5)))"
   ]
  },
  {
   "cell_type": "code",
   "execution_count": 4,
   "metadata": {},
   "outputs": [
    {
     "name": "stdout",
     "output_type": "stream",
     "text": [
      "6\n",
      "4\n",
      "8\n",
      "39\n",
      "12\n",
      "3\n",
      "-3\n",
      "49\n",
      "33\n"
     ]
    }
   ],
   "source": [
    "# 608 最大最小值索引\n",
    "import numpy as np\n",
    "matrix_list = [[0 for i in range(3)] for j in range(3)]\n",
    "\n",
    "for i in range(3):\n",
    "    for j in range(3):\n",
    "        num = eval(input())\n",
    "        matrix_list[i][j] = num\n",
    "        \n",
    "matrix_array = np.array(matrix_list)\n",
    "max_num = np.amax(matrix_array)\n",
    "min_num = np.amin(matrix_array)\n",
    "\n",
    "for i in range(3):\n",
    "    for j in range(3):\n",
    "        if matrix_list[i][j]==max_num:\n",
    "            print(\"Index of the largest number {} is: ({}, {})\".format(max_num,i,j))\n",
    "for i in range(3):\n",
    "    for j in range(3):\n",
    "        if matrix_list[i][j]==min_num:\n",
    "            print(\"Index of the smallest number {} is: ({}, {})\".format(min_num,i,j))"
   ]
  },
  {
   "cell_type": "code",
   "execution_count": 3,
   "metadata": {},
   "outputs": [
    {
     "name": "stdout",
     "output_type": "stream",
     "text": [
      "Enter matrix 1:\n",
      "[1, 1]: 3\n",
      "[1, 2]: 5\n",
      "[2, 1]: 7\n",
      "[2, 2]: 5\n",
      "Enter matrix 2:\n",
      "[1, 1]: 6\n",
      "[1, 2]: 9\n",
      "[2, 1]: 8\n",
      "[2, 2]: 3\n",
      "Matrix 1:\n",
      "3 5 \n",
      "7 5 \n",
      "Matrix 2:\n",
      "6 9 \n",
      "8 3 \n",
      "Sum of 2 matrices:\n",
      "9 14 \n",
      "15 8 \n"
     ]
    }
   ],
   "source": [
    "# 609 矩陣相加\n",
    "matrix1 = [[0 for i in range(2)] for j in range(2)]\n",
    "matrix2 = [[0 for i in range(2)] for j in range(2)]\n",
    "\n",
    "print('Enter matrix 1:')\n",
    "for i in range(2):\n",
    "    for j in range(2):\n",
    "        num1 = int(input('[{}, {}]: '.format(i+1,j+1)))\n",
    "        matrix1[i][j] = num1\n",
    "        \n",
    "print('Enter matrix 2:')\n",
    "for i in range(2):\n",
    "    for j in range(2):\n",
    "        num1 = int(input('[{}, {}]: '.format(i+1,j+1)))\n",
    "        matrix2[i][j] = num1\n",
    "        \n",
    "print('Matrix 1:')\n",
    "for i in range(2):\n",
    "    for j in range(2):\n",
    "        print(matrix1[i][j],end=' ')\n",
    "    print()\n",
    "    \n",
    "print('Matrix 2:')\n",
    "for i in range(2):\n",
    "    for j in range(2):\n",
    "        print(matrix2[i][j],end=' ')\n",
    "    print()\n",
    "    \n",
    "print('Sum of 2 matrices:')\n",
    "for i in range(2):\n",
    "    for j in range(2):\n",
    "        print((matrix1[i][j]+matrix2[i][j]),end=' ')\n",
    "    print()"
   ]
  },
  {
   "cell_type": "code",
   "execution_count": null,
   "metadata": {},
   "outputs": [],
   "source": [
    "# 610 平均溫度\n",
    "temp_list = [[0 for i in range(3)] for j in range(4)]\n",
    "highest_temp,lowest_temp,sum_temp = [],[],[]\n",
    "\n",
    "for i in range(1,5):\n",
    "    print('Week {}:'.format(i))\n",
    "    for j in range(1,4):\n",
    "        temp = eval(input('Day {}:'.format(j)))\n",
    "        temp_list[i-1][j-1] = temp\n",
    "    sum_temp.append(sum(temp_list[i-1]))\n",
    "    highest_temp.append(max(temp_list[i-1]))\n",
    "    lowest_temp.append(min(temp_list[i-1]))\n",
    "\n",
    "print('Average: {:.2f}'.format(sum(sum_temp)/12))\n",
    "print('Highest:',max(highest_temp))\n",
    "print('Lowest:',min(lowest_temp))"
   ]
  }
 ],
 "metadata": {
  "kernelspec": {
   "display_name": "Python 3",
   "language": "python",
   "name": "python3"
  },
  "language_info": {
   "codemirror_mode": {
    "name": "ipython",
    "version": 3
   },
   "file_extension": ".py",
   "mimetype": "text/x-python",
   "name": "python",
   "nbconvert_exporter": "python",
   "pygments_lexer": "ipython3",
   "version": "3.6.5"
  }
 },
 "nbformat": 4,
 "nbformat_minor": 2
}
