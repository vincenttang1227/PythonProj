{
 "cells": [
  {
   "cell_type": "code",
   "execution_count": null,
   "metadata": {},
   "outputs": [],
   "source": [
    "# 601 偶數索引值加總\n",
    "num_list = []\n",
    "for i in range(12):\n",
    "    num = int(input())\n",
    "    num_list.append(num)\n",
    "list_sum = 0\n",
    "for j in num_list[::2]:\n",
    "    list_sum += j\n",
    "count = 0\n",
    "for k in num_list:\n",
    "    print('{:3d}'.format(k),end='')\n",
    "    count += 1\n",
    "    if count %3 == 0:\n",
    "        print()\n",
    "print(list_sum)"
   ]
  },
  {
   "cell_type": "code",
   "execution_count": null,
   "metadata": {},
   "outputs": [],
   "source": [
    "# 602 撲克牌總和\n",
    "poker_list = []\n",
    "for i in range(0,5):\n",
    "    char = input()\n",
    "    if char == 'A':\n",
    "        poker_list.append(1)\n",
    "    elif char == 'J':\n",
    "        poker_list.append(11)\n",
    "    elif char == 'Q':\n",
    "        poker_list.append(12)\n",
    "    elif char == 'K':\n",
    "        poker_list.append(13)\n",
    "    else:\n",
    "        poker_list.append(int(char))\n",
    "print(sum(poker_list))"
   ]
  },
  {
   "cell_type": "code",
   "execution_count": null,
   "metadata": {},
   "outputs": [],
   "source": [
    "# 603 數字排序\n",
    "num_list = []\n",
    "for i in range(10):\n",
    "    num = int(input())\n",
    "    num_list.append(num)\n",
    "sort_list = sorted(num_list)\n",
    "print ('{} {} {}'.format(sort_list[-1],sort_list[-2],sort_list[-3]))"
   ]
  },
  {
   "cell_type": "code",
   "execution_count": null,
   "metadata": {},
   "outputs": [],
   "source": [
    "# 604 眾數\n",
    "num_list = []\n",
    "for i in range(10):\n",
    "    num = int(input())\n",
    "    num_list.append(num)\n",
    "import numpy as np\n",
    "num_nplist = np.array(num_list)\n",
    "# np.bincount(list) 將list的值當成索引，出現的次數當成值\n",
    "counts = np.bincount(num_nplist)\n",
    "# print (counts)\n",
    "# np.argmax(list) 返回list裡最大值的索引\n",
    "print (np.argmax(counts))\n",
    "print(np.max(counts))"
   ]
  },
  {
   "cell_type": "code",
   "execution_count": null,
   "metadata": {},
   "outputs": [],
   "source": [
    "# 605 成績計算\n",
    "grade_list = []\n",
    "for i in range(10):\n",
    "    grade = int(input())\n",
    "    grade_list.append(grade)\n",
    "grade_list.remove(max(grade_list))\n",
    "grade_list.remove(min(grade_list))\n",
    "print(sum(grade_list))\n",
    "print('{:.2f}'.format(sum(grade_list)/len(grade_list)))"
   ]
  },
  {
   "cell_type": "code",
   "execution_count": null,
   "metadata": {},
   "outputs": [],
   "source": [
    "# 606 二維串列行列數\n",
    "# test = [[0 for i in range(m)] for j in range(n)]\n",
    "# n -> rows , m -> cols \n",
    "\n",
    "def compute(row,col):\n",
    "    num_list = [[0 for i in range(col)] for j in range(row)]\n",
    "    for i in range(rows):\n",
    "        for j in range(cols):\n",
    "            num_list[i][j] = j-i\n",
    "            print('{:4d}'.format(num_list[i][j]),end='')\n",
    "        print()\n",
    "\n",
    "rows, cols = int(input()), int(input())\n",
    "compute(rows,cols)"
   ]
  },
  {
   "cell_type": "code",
   "execution_count": 22,
   "metadata": {},
   "outputs": [
    {
     "name": "stdout",
     "output_type": "stream",
     "text": [
      "The 1st student:\n",
      "78\n",
      "89\n",
      "88\n",
      "70\n",
      "60\n",
      "The 2nd student:\n",
      "90\n",
      "78\n",
      "66\n",
      "68\n",
      "78\n",
      "The 3rd student:\n",
      "69\n",
      "97\n",
      "70\n",
      "89\n",
      "90\n",
      "Student 1\n",
      "#Sum 385\n",
      "#Average 77.00\n",
      "Student 2\n",
      "#Sum 380\n",
      "#Average 76.00\n",
      "Student 3\n",
      "#Sum 415\n",
      "#Average 83.00\n"
     ]
    }
   ],
   "source": [
    "# 607 成績計算\n",
    "\n",
    "grade_list = [[0 for i in range(5)] for j in range(3)]\n",
    "for i in range(3):\n",
    "    if i == 0:\n",
    "        print('The 1st student:')\n",
    "    elif i == 1:\n",
    "        print('The 2nd student:')\n",
    "    elif i == 2:\n",
    "        print('The 3rd student:')\n",
    "    for j in range(5):\n",
    "        grade = int(input())\n",
    "        grade_list[i][j] = grade\n",
    "for i in range(3):\n",
    "    sum_grade = sum(grade_list[i])\n",
    "    print('Student {}'.format(i+1))\n",
    "    print('#Sum {}'.format(sum_grade))\n",
    "    print('#Average {:.2f}'.format(sum_grade/5))"
   ]
  },
  {
   "cell_type": "code",
   "execution_count": null,
   "metadata": {
    "scrolled": true
   },
   "outputs": [],
   "source": [
    "# 608 最大最小值索引 --未完成\n",
    "import numpy as np\n",
    "matrix_list = [[0 for i in range(3)] for j in range(3)]\n",
    "max_list , min_list = [],[]\n",
    "for i in range(3):\n",
    "    for j in range(3):\n",
    "        num = int(input())\n",
    "        matrix_list[i][j] = num\n",
    "matrix_array = np.array(matrix_list)\n",
    "matrix_array\n",
    "#     max_list.append(max(matrix_list[i]))\n",
    "#     min_list.append(min(matrix_list[i]))\n",
    "# max_num = max(max_list)\n",
    "# min_num = min(min_list)\n",
    "# 如何找出最大值的索引\n",
    "# max_index = matrix_list.index(max_num)\n",
    "# min_index = matrix_list.index(min_num)\n",
    "# print(\"Index of the largest number {} is: {}\".format(max_num,max_index))\n",
    "# print(\"Index of the smallest number {} is: {}\".format(min_num,min_index))"
   ]
  },
  {
   "cell_type": "code",
   "execution_count": null,
   "metadata": {},
   "outputs": [],
   "source": [
    "matrix_array = np.array(matrix_list)\n",
    "print(matrix_array)\n",
    "print(np.max(matrix_array))\n",
    "np.where(matrix_array==np.max(matrix_array))"
   ]
  },
  {
   "cell_type": "code",
   "execution_count": null,
   "metadata": {},
   "outputs": [],
   "source": [
    "# 609 矩陣相加\n",
    "matrix1 = [[0 for i in range(2)] for j in range(2)]\n",
    "matrix2 = [[0 for i in range(2)] for j in range(2)]\n",
    "\n",
    "print('Enter matrix 1:')\n",
    "for i in range(2):\n",
    "    for j in range(2):\n",
    "        num1 = int(input('[{}, {}]: '.format(i+1,j+1)))\n",
    "        matrix1[i][j] = num1\n",
    "print('Enter matrix 2:')\n",
    "for i in range(2):\n",
    "    for j in range(2):\n",
    "        num1 = int(input('[{}, {}]: '.format(i+1,j+1)))\n",
    "        matrix2[i][j] = num1\n",
    "print('Matrix 1:')\n",
    "for i in range(2):\n",
    "    for j in range(2):\n",
    "        print(matrix1[i][j],end=' ')\n",
    "    print()\n",
    "print('Matrix 2:')\n",
    "for i in range(2):\n",
    "    for j in range(2):\n",
    "        print(matrix2[i][j],end=' ')\n",
    "    print()\n",
    "print('Sum of 2 matrices:')\n",
    "for i in range(2):\n",
    "    for j in range(2):\n",
    "        print((matrix1[i][j]+matrix2[i][j]),end=' ')\n",
    "    print()"
   ]
  },
  {
   "cell_type": "code",
   "execution_count": 20,
   "metadata": {},
   "outputs": [
    {
     "name": "stdout",
     "output_type": "stream",
     "text": [
      "Week 1:\n",
      "Day 1:23.1\n",
      "Day 2:24\n",
      "Day 3:23.5\n",
      "Week 2:\n",
      "Day 1:32\n",
      "Day 2:33\n",
      "Day 3:35.3\n",
      "Week 3:\n",
      "Day 1:29\n",
      "Day 2:30\n",
      "Day 3:26\n",
      "Week 4:\n",
      "Day 1:27.6\n",
      "Day 2:25\n",
      "Day 3:28.8\n",
      "Average: 28.11\n",
      "Highest: 35.3\n",
      "Lowest: 23.1\n"
     ]
    }
   ],
   "source": [
    "# 610 平均溫度\n",
    "temp_list = [[0 for i in range(3)] for j in range(4)]\n",
    "highest_temp,lowest_temp,sum_temp = [],[],[]\n",
    "for i in range(1,5):\n",
    "    print('Week {}:'.format(i))\n",
    "    for j in range(1,4):\n",
    "        temp = eval(input('Day {}:'.format(j)))\n",
    "        temp_list[i-1][j-1] = temp\n",
    "    sum_temp.append(sum(temp_list[i-1]))\n",
    "    highest_temp.append(max(temp_list[i-1]))\n",
    "    lowest_temp.append(min(temp_list[i-1]))\n",
    "print('Average: {:.2f}'.format(sum(sum_temp)/12))\n",
    "print('Highest:',max(highest_temp))\n",
    "print('Lowest:',min(lowest_temp))"
   ]
  },
  {
   "cell_type": "code",
   "execution_count": 17,
   "metadata": {},
   "outputs": [
    {
     "name": "stdout",
     "output_type": "stream",
     "text": [
      "Average: 28.11\n",
      "Highest: 35.3\n",
      "Lowest: 23.1\n"
     ]
    }
   ],
   "source": [
    "print('Average: {:.2f}'.format(sum(sum_temp)/12))\n",
    "print('Highest:',max(highest_temp))\n",
    "print('Lowest:',min(lowest_temp))"
   ]
  }
 ],
 "metadata": {
  "kernelspec": {
   "display_name": "Python 3",
   "language": "python",
   "name": "python3"
  },
  "language_info": {
   "codemirror_mode": {
    "name": "ipython",
    "version": 3
   },
   "file_extension": ".py",
   "mimetype": "text/x-python",
   "name": "python",
   "nbconvert_exporter": "python",
   "pygments_lexer": "ipython3",
   "version": "3.6.5"
  }
 },
 "nbformat": 4,
 "nbformat_minor": 2
}
