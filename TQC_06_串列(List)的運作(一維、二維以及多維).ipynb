{
 "cells": [
  {
   "cell_type": "code",
   "execution_count": null,
   "metadata": {
    "code_folding": []
   },
   "outputs": [],
   "source": [
    "# 601 偶數索引值加總\n",
    "numList,total = [],0\n",
    "\n",
    "for i in range(12):\n",
    "    numList.append(int(input()))\n",
    "    if i % 2 == 0: total += numList[i]\n",
    "\n",
    "for j in range(12):\n",
    "    print('{:3d}'.format(numList[j]), end='')\n",
    "    if j % 3 == 2: print()\n",
    "\n",
    "print(total)"
   ]
  },
  {
   "cell_type": "code",
   "execution_count": null,
   "metadata": {
    "code_folding": []
   },
   "outputs": [],
   "source": [
    "# 602 撲克牌總和\n",
    "pokerList = []\n",
    "\n",
    "for i in range(5):\n",
    "    char = input()\n",
    "    if char == 'A': pokerList.append(1)\n",
    "    elif char == 'J': pokerList.append(11)\n",
    "    elif char == 'Q': pokerList.append(12)\n",
    "    elif char == 'K': pokerList.append(13)\n",
    "    else: pokerList.append(int(char))\n",
    "\n",
    "print(sum(pokerList))"
   ]
  },
  {
   "cell_type": "code",
   "execution_count": null,
   "metadata": {
    "code_folding": []
   },
   "outputs": [],
   "source": [
    "# 603 數字排序\n",
    "numList = []\n",
    "\n",
    "for i in range(10): numList.append(int(input()))\n",
    "\n",
    "numList.sort(reverse=True)\n",
    "print(numList[0], numList[1], numList[2])"
   ]
  },
  {
   "cell_type": "code",
   "execution_count": null,
   "metadata": {},
   "outputs": [],
   "source": [
    "# 604 眾數\n",
    "numList,count = [],[]\n",
    "\n",
    "for i in range(10):\n",
    "    numList.append(int(input()))\n",
    "    count.append(numList.count(numList[i]))\n",
    "\n",
    "numOccu = max(count)\n",
    "print(numList[count.index(numOccu)])\n",
    "print(numOccu)"
   ]
  },
  {
   "cell_type": "code",
   "execution_count": null,
   "metadata": {
    "code_folding": []
   },
   "outputs": [],
   "source": [
    "# 605 成績計算\n",
    "gradeList = []\n",
    "\n",
    "for i in range(10): gradeList.append(int(input()))\n",
    "\n",
    "# del gradeList[gradeList.index(max(gradeList))]\n",
    "# del gradeList[gradeList.index(min(gradeList))]\n",
    "gradeList.remove(max(gradeList))\n",
    "gradeList.remove(min(gradeList))\n",
    "\n",
    "print(sum(gradeList))\n",
    "print('{:.2f}'.format(sum(gradeList) / len(gradeList)))"
   ]
  },
  {
   "cell_type": "code",
   "execution_count": null,
   "metadata": {},
   "outputs": [],
   "source": [
    "# 606 二維串列行列數\n",
    "# test = [[0 for i in range(m)] for j in range(n)]\n",
    "# n -> rows , m -> cols\n",
    "\n",
    "\n",
    "def compute(a):\n",
    "    for i in range(row):\n",
    "        for j in range(col):\n",
    "            numList[i][j] = j - i\n",
    "            print('{:4d}'.format(numList[i][j]), end='')\n",
    "        print()\n",
    "\n",
    "\n",
    "row, col = int(input()), int(input())\n",
    "numList = [[0 for i in range(col)] for j in range(row)]\n",
    "compute(numList)"
   ]
  },
  {
   "cell_type": "code",
   "execution_count": null,
   "metadata": {},
   "outputs": [],
   "source": [
    "a,b=[],[]\n",
    "for i in range(3):\n",
    "    for j in range(5):\n",
    "        b\n",
    "        "
   ]
  },
  {
   "cell_type": "code",
   "execution_count": null,
   "metadata": {},
   "outputs": [],
   "source": [
    "# 607 成績計算\n",
    "\n",
    "gL = [[0 for i in range(5)] for j in range(3)]\n",
    "a = [\"1st\",\"2nd\",\"3rd\"]\n",
    "for i in range(3):\n",
    "    print('The {} student:'.format(a[i]))\n",
    "    for j in range(5):\n",
    "        gL[i][j] = int(input())\n",
    "        \n",
    "for i in range(3):\n",
    "    sG = sum(gL[i])\n",
    "    print(\"Student {}\\n#Sum {}\\n#Average {:.2f}\".format((i+1),sG,(sG/5)))"
   ]
  },
  {
   "cell_type": "code",
   "execution_count": null,
   "metadata": {},
   "outputs": [],
   "source": [
    "# 608 最大最小值索引\n",
    "matrix = [[0 for i in range(3)] for j in range(3)]\n",
    "maxList, minList = [], []\n",
    "\n",
    "for i in range(3):\n",
    "    for j in range(3):\n",
    "        matrix[i][j] = eval(input())\n",
    "    maxList.append(max(matrix[i]))\n",
    "    minList.append(min(matrix[i]))\n",
    "\n",
    "maxNum, minNum = max(maxList), min(minList)\n",
    "maxIndex1 = maxList.index(maxNum)\n",
    "maxIndex2 = matrix[maxIndex1].index(maxNum)\n",
    "minIndex1 = minList.index(minNum)\n",
    "minIndex2 = matrix[minIndex1].index(minNum)\n",
    "\n",
    "print(\"Index of the largest number {} is: ({}, {})\".format(maxNum, maxIndex1, maxIndex2))\n",
    "print(\"Index of the smallest number {} is: ({}, {})\".format(minNum, minIndex1, minIndex2))"
   ]
  },
  {
   "cell_type": "code",
   "execution_count": null,
   "metadata": {},
   "outputs": [],
   "source": [
    "# 609 矩陣相加\n",
    "matrix1 = [[0 for i in range(2)] for j in range(2)]\n",
    "matrix2 = [[0 for i in range(2)] for j in range(2)]\n",
    "\n",
    "print('Enter matrix 1:')\n",
    "for i in range(2):\n",
    "    for j in range(2):\n",
    "        num1 = int(input('[{}, {}]: '.format(i+1,j+1)))\n",
    "        matrix1[i][j] = num1\n",
    "        \n",
    "print('Enter matrix 2:')\n",
    "for i in range(2):\n",
    "    for j in range(2):\n",
    "        num1 = int(input('[{}, {}]: '.format(i+1,j+1)))\n",
    "        matrix2[i][j] = num1\n",
    "        \n",
    "print('Matrix 1:')\n",
    "for i in range(2):\n",
    "    for j in range(2):\n",
    "        print(matrix1[i][j],end=' ')\n",
    "    print()\n",
    "    \n",
    "print('Matrix 2:')\n",
    "for i in range(2):\n",
    "    for j in range(2):\n",
    "        print(matrix2[i][j],end=' ')\n",
    "    print()\n",
    "    \n",
    "print('Sum of 2 matrices:')\n",
    "for i in range(2):\n",
    "    for j in range(2):\n",
    "        print((matrix1[i][j]+matrix2[i][j]),end=' ')\n",
    "    print()"
   ]
  },
  {
   "cell_type": "code",
   "execution_count": null,
   "metadata": {},
   "outputs": [],
   "source": [
    "# 610 平均溫度\n",
    "tempList = [[0 for i in range(3)] for j in range(4)]\n",
    "hiTemp,lowTemp,sumTemp = [],[],[]\n",
    "\n",
    "for i in range(4):\n",
    "    print('Week {}:'.format(i+1))\n",
    "    for j in range(3):\n",
    "        temp = eval(input('Day {}:'.format(j+1)))\n",
    "        tempList[i][j] = temp\n",
    "    sumTemp.append(sum(tempList[i]))\n",
    "    hiTemp.append(max(tempList[i]))\n",
    "    lowTemp.append(min(tempList[i]))\n",
    "\n",
    "print('Average: {:.2f}\\nHighest: {}\\nLowest: {}'.format(sum(sumTemp)/12,max(hiTemp),min(lowTemp)))"
   ]
  },
  {
   "cell_type": "code",
   "execution_count": null,
   "metadata": {},
   "outputs": [],
   "source": [
    "tempList=[]\n",
    "\n",
    "for i in range(4):\n",
    "    print('Week {}:'.format(i+1))\n",
    "    for j in range(3):\n",
    "        temp = eval(input('Day {}:'.format(j+1)))\n",
    "        tempList.append(temp)\n",
    "print('Average: {:.2f}\\nHighest: {}\\nLowest: {}'.format(sum(tempList)/len(tempList(tempList))),max(hiTemp),min(lowTemp)))"
   ]
<<<<<<< .mine






























































































=======
  },
  {
   "cell_type": "code",
   "execution_count": 36,
   "metadata": {},
   "outputs": [
    {
     "name": "stdout",
     "output_type": "stream",
     "text": [
      "[10, 27, 36, 43, 46, 50]\n"
     ]
    }
   ],
   "source": [
    "# 運用random.randint()的解法\n",
    "import random\n",
    "\n",
    "rList = []                       #建立空串列\n",
    "\n",
    "for j in range(6):\n",
    "    n= random.randint(1, 49)     #從 1~49之間亂數產生一個整數 n\n",
    "    while n in rList:            #檢查 n 是否為 rList 的元素之一，若是，則再次產生亂數 n\n",
    "        n= random.randint(1, 49)\n",
    "    rList.append(n)              #將不重複的 n 加入 rList\n",
    "\n",
    "print(sorted(rList))             #排序 rList"
   ]
  },
  {
   "cell_type": "code",
   "execution_count": 5,
   "metadata": {},
   "outputs": [
    {
     "name": "stdout",
     "output_type": "stream",
     "text": [
      "[3, 5, 11, 16, 30, 35]\n"
     ]
    }
   ],
   "source": [
    "# 運用random.sample()的解法\n",
    "import random\n",
    "\n",
    "# rList = [i for i in range(1,50)] -- 一行建立一個 1~49 串列的寫法\n",
    "rList = []\n",
    "for i in range(1, 50):          #建立一個 1~49 的串列 rList\n",
    "    rList.append(i)\n",
    "\n",
    "li = random.sample(rList,6)     #random.sample(rList,6)\n",
    "                                #從 rList 裡亂數挑選 6 個不重複的元素，並形成一個新的串列\n",
    "print(sorted(li))               #排序 rList"
   ]
  },
  {
   "cell_type": "code",
   "execution_count": 13,
   "metadata": {},
   "outputs": [
    {
     "name": "stdout",
     "output_type": "stream",
     "text": [
      "[19, 30, 33, 38, 39, 42]\n"
     ]
    }
   ],
   "source": [
    "import random\n",
    "\n",
    "print(sorted(random.sample([i for i in range(1,50)],6)))"
   ]
  },
  {
   "cell_type": "code",
   "execution_count": 13,
   "metadata": {},
   "outputs": [
    {
     "name": "stdout",
     "output_type": "stream",
     "text": [
      "[9, 18, 19, 23, 31, 44]\n"
     ]
    }
   ],
   "source": [
    "# Pythonic的寫法--有興趣的同學可以嘗試一下\n",
    "\n",
    "import random\n",
    "print(sorted(random.sample(range(1,50),6)))"
   ]
>>>>>>> .theirs
  }
 ],
 "metadata": {
  "kernelspec": {
   "display_name": "Python 3",
   "language": "python",
   "name": "python3"
  },
  "language_info": {
   "codemirror_mode": {
    "name": "ipython",
    "version": 3
   },
   "file_extension": ".py",
   "mimetype": "text/x-python",
   "name": "python",
   "nbconvert_exporter": "python",
   "pygments_lexer": "ipython3",
   "version": "3.6.5"
  }
 },
 "nbformat": 4,
 "nbformat_minor": 2
}
