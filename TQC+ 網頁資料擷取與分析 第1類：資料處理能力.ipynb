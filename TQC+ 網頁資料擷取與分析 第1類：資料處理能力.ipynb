{
 "cells": [
  {
   "cell_type": "code",
   "execution_count": null,
   "metadata": {},
   "outputs": [],
   "source": [
    "# 101 文化部展覽資訊 -- 讀取 json寫入 csv\n",
    "import json\n",
    "\n",
    "with open('read.json', 'r', encoding='utf-8') as fp:\n",
    "    Dict1 = json.loads(fp.readline())\n",
    "with open('write.csv', 'w', encoding='utf-8') as fp:\n",
    "    for i in range(len(Dict1)):\n",
    "        fp.write(Dict1[i][\"title\"]+','+Dict1[i][\"showUnit\"]+','+Dict1[i][\"startDate\"]+','+Dict1[i][\"endDate\"]+'\\n')"
   ]
  },
  {
   "cell_type": "code",
   "execution_count": 6,
   "metadata": {},
   "outputs": [],
   "source": [
    "# 102 新北市公共自行車即時資訊 -- 讀取 xml寫入 csv\n",
    "import xml.etree.ElementTree as ET\n",
    "\n",
    "tree = ET.ElementTree(file='read.xml')\n",
    "root = tree.getroot()\n",
    "\n",
    "with open('write.csv', 'w', encoding='utf-8') as fp:\n",
    "    for row in root:\n",
    "        sno = row.find('sno').text\n",
    "        sna = row.find('sna').text\n",
    "        tot = row.find('tot').text\n",
    "        fp.write('{},{},{}\\n'.format(sno,sna,tot))"
   ]
  },
  {
   "cell_type": "code",
   "execution_count": null,
   "metadata": {},
   "outputs": [],
   "source": [
    "# 103 勞保投保薪資分級表 -- 讀取 json寫入 yaml\n",
    "import json\n",
    "\n",
    "with open('read.json','r',encoding='utf-8') as fp:\n",
    "    Dict1 = json.loads(fp.readline())\n",
    "with open('write.yaml','w',encoding='utf-8') as fp:\n",
    "    for i in range(len(Dict1)):\n",
    "        fp.write('- 投保薪資等級: {}\\n'.format(Dict1[i]['投保薪資等級']))\n",
    "        fp.write('  月投保薪資: {}\\n'.format(Dict1[i]['月投保薪資']))\n",
    "        fp.write('  月薪資總額: {}\\n'.format(Dict1[i]['月薪資總額']))\n",
    "        fp.write('  身分別: {}\\n'.format(Dict1[i]['身分別']))"
   ]
  },
  {
   "cell_type": "code",
   "execution_count": null,
   "metadata": {},
   "outputs": [],
   "source": [
    "# 104 JSON檔案輸出處理 -- 寫入 json\n",
    "import json\n",
    "\n",
    "dict1 = {\n",
    "  'people' :[{'id': '1','name': 'Peter','country': 'Taiwan'},\n",
    "             {'id': '2','name': 'Jack','country': 'USA'},\n",
    "             {'id': '3','name': 'Cindy','country': 'Japan'}]\n",
    "}\n",
    "\n",
    "with open('write.json','w',encoding='utf-8')as fp:\n",
    "    fp.write(json.dumps(dict1))"
   ]
  },
  {
   "cell_type": "code",
   "execution_count": 2,
   "metadata": {},
   "outputs": [
    {
     "name": "stdout",
     "output_type": "stream",
     "text": [
      "(1, '小陳', 1997, '新北市', 58000)\n",
      "(2, '小范', 2000, '臺北市', 50000)\n",
      "(3, '小施', 1999, '高雄市', 47000)\n",
      "(4, '小吳', 1998, '台中市', 52000)\n"
     ]
    }
   ],
   "source": [
    "# 105 受僱員工資料表 -- 沒有檔案\n",
    "import sqlite3\n",
    "\n",
    "# 建立資料庫連結\n",
    "con = sqlite3.connect('read.db')\n",
    "# 建立cursor物件\n",
    "cursor = con.cursor()\n",
    "\n",
    "# 查詢Employee資料表\n",
    "cursor.execute(\"SELECT * FROM Employee\")\n",
    "\n",
    "# 印出查詢結果\n",
    "for i in cursor:\n",
    "    print(i)\n",
    "\n",
    "# 關閉與資料庫的連結\n",
    "con.close()"
   ]
  }
 ],
 "metadata": {
  "kernelspec": {
   "display_name": "Python 3",
   "language": "python",
   "name": "python3"
  },
  "language_info": {
   "codemirror_mode": {
    "name": "ipython",
    "version": 3
   },
   "file_extension": ".py",
   "mimetype": "text/x-python",
   "name": "python",
   "nbconvert_exporter": "python",
   "pygments_lexer": "ipython3",
   "version": "3.6.5"
  }
 },
 "nbformat": 4,
 "nbformat_minor": 2
}
