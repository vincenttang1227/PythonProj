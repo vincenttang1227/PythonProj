{
 "cells": [
  {
   "cell_type": "code",
   "execution_count": null,
   "metadata": {},
   "outputs": [],
   "source": [
    "# 901 成績資料 -- open(file,'w') -- 建立新檔案，若已有檔案則清空檔案內容(可寫入)\n",
    "with open('write.txt','w',encoding = 'UTF-8') as fp:\n",
    "    for i in range(5): fp.write('{}'.format(input())+'\\n')"
   ]
  },
  {
   "cell_type": "code",
   "execution_count": null,
   "metadata": {},
   "outputs": [],
   "source": [
    "conte=\"\"\n",
    "for i in range(5): conte = conte+input()+'\\n'\n",
    "with open('write.txt','w',encoding = 'UTF-8') as fp: fp.write(conte)"
   ]
  },
  {
   "cell_type": "code",
   "execution_count": null,
   "metadata": {},
   "outputs": [],
   "source": [
    "# 902 資料加總 -- open(file,'r') -- 開啟已存在的檔案(不可寫入)\n",
    "with open('read.txt','r',encoding = 'UTF-8') as fp:\n",
    "    print(sum(list(map(int,(fp.read().split())))))"
   ]
  },
  {
   "cell_type": "code",
   "execution_count": null,
   "metadata": {},
   "outputs": [],
   "source": [
    "# 903 成績資料 -- open(file,'a') -- 開啟已存在檔案(可寫入)\n",
    "with open('data.txt','a',encoding = 'UTF-8') as fp:\n",
    "# 檔案最後一筆資料沒換行時，寫入資料如果想換行，'\\n'要加在前面\n",
    "    for i in range(5): fp.write('\\n'+input())\n",
    "print('Append completed!\\nContent of \"data.txt\":')\n",
    "with open('data.txt','r',encoding = 'UTF-8') as fp:\n",
    "    for i in fp: print(i,end='')"
   ]
  },
  {
   "cell_type": "code",
   "execution_count": null,
   "metadata": {},
   "outputs": [],
   "source": [
    "content = \"\"\n",
    "\n",
    "for i in range(5): content = content + \"\\n\" + input() \n",
    "\n",
    "with open('data.txt', 'a', encoding=\"utf-8\") as fp:\n",
    "    fp.write( content )\n",
    "print(\"Append completed!\")\n",
    "\n",
    "with open('data.txt', 'r', encoding=\"utf-8\") as fp:\n",
    "    content = fp.read()\n",
    "print('Content of \"data.txt\":')\n",
    "\n",
    "print( content )"
   ]
  },
  {
   "cell_type": "code",
   "execution_count": null,
   "metadata": {},
   "outputs": [],
   "source": [
    "# 904 資料計算\n",
    "# 逐行讀取檔案轉成字串，會執行空字符(空格、换行(\\n)、制表符(\\t))換行符號\n",
    "# 若不想有空行，可用print(i,end='')\n",
    "# list = string.split() -- 將string以空字符(空格、换行(\\n)、制表符(\\t))為分隔，轉成list\n",
    "heightLi,weightLi,maxHei,maxWei = [],[],0,0\n",
    "with open('read.txt','r',encoding = 'UTF-8') as fp:\n",
    "    for i in fp: \n",
    "        print(i)\n",
    "        \n",
    "        lt = i.split()\n",
    "        heightLi.append(eval(lt[1]))\n",
    "        weightLi.append(eval(lt[2]))\n",
    "        \n",
    "        if eval(lt[1]) > maxHeit:\n",
    "            maxHei = eval(lt[1])\n",
    "            heiName = lt[0]\n",
    "        if eval(lt[2]) > maxWei:\n",
    "            maxWei = eval(lt[2])\n",
    "            weiName = lt[0]\n",
    "        \n",
    "print('Average height: {:.2f}'.format(sum(heightLi)/len(heightLi)))\n",
    "print('Average weight: {:.2f}'.format(sum(weightLi)/len(weightLi)))\n",
    "print('The tallest is {} with {:.2f}cm'.format(heiName,maxHei))\n",
    "print('The heaviest is {} with {:.2f}kg'.format(weiName,maxWei))"
   ]
  },
  {
   "cell_type": "code",
   "execution_count": null,
   "metadata": {},
   "outputs": [],
   "source": [
    "nameList = []\n",
    "heightList = []\n",
    "weightList = []\n",
    "\n",
    "file1 = open('read.txt','r',encoding='utf-8')\n",
    "for line in file1:\n",
    "    print(line)\n",
    "    temp = line.replace('\\n','').split(' ')\n",
    "    nameList.append( temp[0] )\n",
    "    heightList.append( int(temp[1]) )\n",
    "    weightList.append( int(temp[2]) )\n",
    "file1.close()\n",
    "\n",
    "print(\"Average height: {:.2f}\".format(sum(heightList)/len(nameList)))\n",
    "print(\"Average weight: {:.2f}\".format(sum(weightList)/len(nameList)))\n",
    "tallistValue = max(heightList)\n",
    "tallistName = nameList[heightList.index( tallistValue )]\n",
    "print(\"The tallest is {:s} with {:.2f}cm\".format(tallistName,tallistValue))\n",
    "\n",
    "weightistValue = max(weightList)\n",
    "weightistName = nameList[weightList.index(weightistValue)]\n",
    "print(\"The heaviest is {:s} with {:.2f}kg\".format(weightistName,weightistValue))\n",
    "\n",
    "'''\n",
    "print(nameList)\n",
    "print(heightList)\n",
    "print(weightList)\n",
    "'''"
   ]
  },
  {
   "cell_type": "code",
   "execution_count": null,
   "metadata": {},
   "outputs": [],
   "source": [
    "# 905 字串資料刪除\n",
    "fn,str1 = input(),input()\n",
    "with open(fn,'r',encoding = 'UTF-8') as fp:\n",
    "# fp.read() -- 讀取檔案所有內容，去除空字符形成字串型態\n",
    "    fpStr = fp.read()\n",
    "    \n",
    "print('=== Before the deletion')\n",
    "print(fpStr)\n",
    "fpStr = fpStr.replace(str1,'')\n",
    "print('=== After the deletion')\n",
    "print(fpStr)\n",
    "\n",
    "# 將新內容寫入檔案\n",
    "with open(fn,'w',encoding = 'UTF-8') as fp:\n",
    "    fp.write(fpStr)"
   ]
  },
  {
   "cell_type": "code",
   "execution_count": null,
   "metadata": {},
   "outputs": [],
   "source": [
    "# 906 字串資料取代\n",
    "fn,str1,str2 = input(),input(),input()\n",
    "with open(fn,'r',encoding='UTF-8') as fp:\n",
    "    fpStr = fp.read()\n",
    "    \n",
    "print('=== Before the replacement')\n",
    "print(fpStr)\n",
    "fpStr = fpStr.replace(str1,str2)\n",
    "print('=== After the replacement')\n",
    "print(fpStr)"
   ]
  },
  {
   "cell_type": "code",
   "execution_count": null,
   "metadata": {},
   "outputs": [],
   "source": [
    "# 907 詳細資料顯示\n",
    "fn,fpWord,wordNum,charNum = input(),[],0,0\n",
    "with open(fn,'r',encoding = 'UTF-8') as fp:\n",
    "    fpLine = fp.readlines()\n",
    "    \n",
    "for i in range(len(fpLine)):\n",
    "    fpWord.append(fpLine[i].split())\n",
    "    wordNum += len(fpWord[i])\n",
    "    for j in range(len(fpWord[i])): charNum += len(fpWord[i][j])\n",
    "print(len(fpLine),'line(s)')\n",
    "print(wordNum,'word(s)')\n",
    "print(charNum,'character(s)')"
   ]
  },
  {
   "cell_type": "code",
   "execution_count": null,
   "metadata": {},
   "outputs": [],
   "source": [
    "filename = input()\n",
    "\n",
    "file1 = open(filename, 'r', encoding='utf-8')\n",
    "content = file1.read()\n",
    "file1.close()\n",
    "\n",
    "print(content.count('\\n'),\"line(s)\")\n",
    "print( len(content.split(' '))-1,\"word(s)\")\n",
    "print( len(content.replace(' ','').replace('\\n','')), \"character(s)\" )"
   ]
  },
  {
   "cell_type": "code",
   "execution_count": null,
   "metadata": {},
   "outputs": [],
   "source": [
    "# 908 單字次數計算\n",
    "fn,num = input(),int(input())\n",
    "with open(fn,'r',encoding='UTF-8') as fp:\n",
    "    lt = sorted(fp.read().split())\n",
    "    \n",
    "setLt = sorted(set(lt))\n",
    "\n",
    "for i in setLt:\n",
    "    if lt.count(i) == num:\n",
    "        print(i,end='\\n')"
   ]
  },
  {
   "cell_type": "code",
   "execution_count": null,
   "metadata": {
    "scrolled": true
   },
   "outputs": [],
   "source": [
    "# 909 聯絡人資料\n",
    "with open('data.dat','a',encoding='UTF-8') as fp:\n",
    "    for i in range(5):\n",
    "        fp.write(input()+'\\n')\n",
    "        \n",
    "print('The content of \"data.dat\":') \n",
    "\n",
    "with open('data.dat','r',encoding='UTF-8') as fp:\n",
    "    for i in fp:\n",
    "        print(i)"
   ]
  },
  {
   "cell_type": "code",
   "execution_count": 1,
   "metadata": {},
   "outputs": [
    {
     "name": "stdout",
     "output_type": "stream",
     "text": [
      "學號 姓名 性別 科系\n",
      "\n",
      "101 陳小華 0 餐旅管理\n",
      "\n",
      "202 李小安 1 廣告\n",
      "\n",
      "303 張小威 1 英文\n",
      "\n",
      "404 羅小美 0 法文\n",
      "\n",
      "505 陳小凱 1 日文\n",
      "Number of males: 3\n",
      "Number of females: 2\n"
     ]
    }
   ],
   "source": [
    "# 910 學生基本資料\n",
    "with open('read.dat','r',encoding='UTF-8') as fp:\n",
    "    content = fp.readlines()\n",
    "    \n",
    "for i in content: print(i)\n",
    "\n",
    "with open('read.dat','r',encoding='UTF-8') as fp:\n",
    "    fpList = fp.read().split()\n",
    "    \n",
    "print('Number of males:',fpList.count('1'))\n",
    "print('Number of females:',fpList.count('0'))"
   ]
  }
 ],
 "metadata": {
  "kernelspec": {
   "display_name": "Python 3",
   "language": "python",
   "name": "python3"
  },
  "language_info": {
   "codemirror_mode": {
    "name": "ipython",
    "version": 3
   },
   "file_extension": ".py",
   "mimetype": "text/x-python",
   "name": "python",
   "nbconvert_exporter": "python",
   "pygments_lexer": "ipython3",
   "version": "3.6.5"
  }
 },
 "nbformat": 4,
 "nbformat_minor": 2
}
