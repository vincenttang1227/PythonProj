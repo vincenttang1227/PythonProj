{
 "cells": [
  {
   "cell_type": "code",
   "execution_count": null,
   "metadata": {},
   "outputs": [],
   "source": [
    "# 901 成績資料 -- open(file,'w') -- 建立新檔案，若已有檔案則清空檔案內容(可寫入)\n",
    "with open('write.txt','w',encoding = 'UTF-8') as fp:\n",
    "    for i in range(5): fp.write('{}'.format(input())+'\\n')"
   ]
  },
  {
   "cell_type": "code",
   "execution_count": null,
   "metadata": {},
   "outputs": [],
   "source": [
    "conte=\"\"\n",
    "for i in range(5): conte = conte+input()+'\\n'\n",
    "with open('write.txt','w',encoding = 'UTF-8') as fp: fp.write(conte)"
   ]
  },
  {
   "cell_type": "code",
   "execution_count": 1,
   "metadata": {},
   "outputs": [
    {
     "name": "stdout",
     "output_type": "stream",
     "text": [
      "660\n"
     ]
    }
   ],
   "source": [
    "# 902 資料加總 -- open(file,'r') -- 開啟已存在的檔案(不可寫入)\n",
    "with open('read.txt','r',encoding = 'UTF-8') as fp:\n",
    "    print(sum(list(map(int,(fp.read().split())))))"
   ]
  },
  {
   "cell_type": "code",
   "execution_count": null,
   "metadata": {},
   "outputs": [],
   "source": [
    "# 903 成績資料 -- open(file,'a') -- 開啟已存在檔案(可寫入)\n",
    "with open('data.txt','a',encoding = 'UTF-8') as fp:\n",
    "# 檔案最後一筆資料沒換行時，寫入資料如果想換行，'\\n'要加在前面\n",
    "    for i in range(5): fp.write('\\n'+input())\n",
    "print('Append completed!\\nContent of \"data.txt\":')\n",
    "with open('data.txt','r',encoding = 'UTF-8') as fp:\n",
    "    for i in fp: print(i,end='')"
   ]
  },
  {
   "cell_type": "code",
   "execution_count": 3,
   "metadata": {},
   "outputs": [
    {
     "name": "stdout",
     "output_type": "stream",
     "text": [
      "a\n",
      "b\n",
      "c\n",
      "d\n",
      "e\n",
      "Append completed!\n",
      "Content of \"data.txt\":\n",
      "Ben\n",
      "Cathy\n",
      "Tony\n",
      "a\n",
      "b\n",
      "c\n",
      "d\n",
      "e\n"
     ]
    }
   ],
   "source": [
    "content = \"\"\n",
    "\n",
    "for i in range(5): content = content + \"\\n\" + input() \n",
    "\n",
    "with open('data.txt', 'a', encoding=\"utf-8\") as fp:\n",
    "    fp.write( content )\n",
    "print(\"Append completed!\")\n",
    "\n",
    "with open('data.txt', 'r', encoding=\"utf-8\") as fp:\n",
    "    content = fp.read()\n",
    "print('Content of \"data.txt\":')\n",
    "\n",
    "print( content )"
   ]
  },
  {
   "cell_type": "code",
   "execution_count": 4,
   "metadata": {},
   "outputs": [
    {
     "name": "stdout",
     "output_type": "stream",
     "text": [
      "Ben 175 65\n",
      "\n",
      "Cathy 155 55\n",
      "\n",
      "Tony 172 75\n",
      "Average height: 167.33\n",
      "Average weight: 65.00\n",
      "The tallest is Ben with 175.00cm\n",
      "The heaviest is Tony with 75.00kg\n"
     ]
    }
   ],
   "source": [
    "# 904 資料計算\n",
    "# 逐行讀取檔案轉成字串，會執行空字符(空格、换行(\\n)、制表符(\\t))換行符號\n",
    "# 若不想有空行，可用print(i,end='')\n",
    "# list = string.split() -- 將string以空字符(空格、换行(\\n)、制表符(\\t))為分隔，轉成list\n",
    "heightLi,weightLi,maxHei,maxWei = [],[],0,0\n",
    "with open('read.txt','r',encoding = 'UTF-8') as fp:\n",
    "    for i in fp: \n",
    "        print(i)\n",
    "        \n",
    "        lt = i.split()\n",
    "        heightLi.append(eval(lt[1]))\n",
    "        weightLi.append(eval(lt[2]))\n",
    "        \n",
    "        if eval(lt[1]) > maxHeit:\n",
    "            maxHei = eval(lt[1])\n",
    "            heiName = lt[0]\n",
    "        if eval(lt[2]) > maxWei:\n",
    "            maxWei = eval(lt[2])\n",
    "            weiName = lt[0]\n",
    "        \n",
    "print('Average height: {:.2f}'.format(sum(heightLi)/len(heightLi)))\n",
    "print('Average weight: {:.2f}'.format(sum(weightLi)/len(weightLi)))\n",
    "print('The tallest is {} with {:.2f}cm'.format(heiName,maxHei))\n",
    "print('The heaviest is {} with {:.2f}kg'.format(weiName,maxWei))"
   ]
  },
  {
   "cell_type": "code",
   "execution_count": null,
   "metadata": {},
   "outputs": [],
   "source": [
    "# 905 字串資料刪除\n",
    "fn,str1 = input(),input()\n",
    "with open(fn,'r',encoding = 'UTF-8') as fp:\n",
    "    print('=== Before the deletion')\n",
    "# fp.read() -- 讀取檔案所有內容，去除空字符形成字串型態\n",
    "    fp_str = fp.read()\n",
    "    print(fp_str)\n",
    "    fp_str1 = fp_str.replace(str1,'')\n",
    "    print('=== After the deletion')\n",
    "    print(fp_str1)\n",
    "# 將新內容寫入檔案\n",
    "with open(fn,'w',encoding = 'UTF-8') as fp:\n",
    "    fp.write(fp_str1)"
   ]
  },
  {
   "cell_type": "code",
   "execution_count": 18,
   "metadata": {},
   "outputs": [
    {
     "name": "stdout",
     "output_type": "stream",
     "text": [
      "data.txt\n",
      "Tomato\n",
      "=== Before the deletion\n",
      "Apple Kiwi Banana \n",
      "Tomato Pear Durian \n",
      "\n",
      "=== After the deletion\n",
      "Apple Kiwi Banana \n",
      " Pear Durian \n",
      "\n"
     ]
    }
   ],
   "source": [
    "fn,str1 = input(),input()\n",
    "with open(fn,'r',encoding = 'UTF-8') as fp:\n",
    "    print('=== Before the deletion')\n",
    "# fp.read() -- 讀取檔案所有內容，去除空字符形成字串型態\n",
    "    fpStr = fp.read()\n",
    "    print(fpStr)\n",
    "    fpStrNew = fpStr.replace(str1,'')\n",
    "    print('=== After the deletion')\n",
    "    print(fpStrNew)\n",
    "# 將新內容寫入檔案\n",
    "with open(fn,'w',encoding = 'UTF-8') as fp:\n",
    "    fp.write(fpStrNew)"
   ]
  },
  {
   "cell_type": "code",
   "execution_count": null,
   "metadata": {},
   "outputs": [],
   "source": [
    "# 906 字串資料取代\n",
    "fn,str1,str2 = input(),input(),input()\n",
    "with open(fn,'r',encoding='UTF-8') as fp:\n",
    "    fp_str = fp.read()\n",
    "    print('=== Before the replacement')\n",
    "    print(fp_str)\n",
    "    fp_str1 = fp_str.replace(str1,str2)\n",
    "    print('=== After the replacement')\n",
    "    print(fp_str1)"
   ]
  },
  {
   "cell_type": "code",
   "execution_count": null,
   "metadata": {},
   "outputs": [],
   "source": [
    "# 907 詳細資料顯示\n",
    "fn,fp_word,word_num,char_num = input(),[],0,0\n",
    "with open(fn,'r',encoding = 'UTF-8') as fp:\n",
    "    fp_line = fp.readlines()\n",
    "    for i in range(len(fp_line)):\n",
    "        fp_word.append(fp_line[i].split())\n",
    "        word_num += len(fp_word[i])\n",
    "        for j in range(len(fp_word[i])): char_num += len(fp_word[i][j])\n",
    "    print(len(fp_line),'line(s)')\n",
    "    print(word_num,'word(s)')\n",
    "    print(char_num,'character(s)')"
   ]
  },
  {
   "cell_type": "code",
   "execution_count": null,
   "metadata": {},
   "outputs": [],
   "source": [
    "# 908 單字次數計算\n",
    "fn,nums,word_list = input(),int(input()),[]\n",
    "with open(fn,'r',encoding='UTF-8') as fp:\n",
    "    lt = sorted(fp.read().split())\n",
    "    for i in lt:\n",
    "        if i not in word_list:\n",
    "            if lt.count(i) == nums:\n",
    "                word_list.append(i)\n",
    "                print(word_list[-1],end='\\n')"
   ]
  },
  {
   "cell_type": "code",
   "execution_count": null,
   "metadata": {},
   "outputs": [],
   "source": [
    "# 909 聯絡人資料\n",
    "with open('data.dat','a',encoding='UTF-8') as fp:\n",
    "    for i in range(5):\n",
    "        data = input()\n",
    "        fp.write(data+'\\n')\n",
    "with open('data.dat','r',encoding='UTF-8') as fp:\n",
    "    print('The content of \"data.dat\":')\n",
    "    for i in fp: print(i)"
   ]
  },
  {
   "cell_type": "code",
   "execution_count": null,
   "metadata": {},
   "outputs": [],
   "source": [
    "# 910 學生基本資料\n",
    "with open('read.dat','r',encoding='UTF-8') as fp:\n",
    "    for i in fp: print(i)\n",
    "with open('read.dat','r',encoding='UTF-8') as fp:\n",
    "    fp_list = fp.read().split()\n",
    "    print('Number of males: {}\\nNumber of females: {}'.format(fp_list.count('1'),fp_list.count('0')))"
   ]
  }
 ],
 "metadata": {
  "kernelspec": {
   "display_name": "Python 3",
   "language": "python",
   "name": "python3"
  },
  "language_info": {
   "codemirror_mode": {
    "name": "ipython",
    "version": 3
   },
   "file_extension": ".py",
   "mimetype": "text/x-python",
   "name": "python",
   "nbconvert_exporter": "python",
   "pygments_lexer": "ipython3",
   "version": "3.6.5"
  }
 },
 "nbformat": 4,
 "nbformat_minor": 2
}
