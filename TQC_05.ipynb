{
 "cells": [
  {
   "cell_type": "code",
   "execution_count": null,
   "metadata": {},
   "outputs": [],
   "source": [
    "# 501 訊息顯示\n",
    "dep,stu,name = input(),input(),input()\n",
    "def compute(x,y,z):\n",
    "    print('Department:',x)\n",
    "    print('Student ID:',y)\n",
    "    print('Name:',z)\n",
    "compute(dep,stu,name)"
   ]
  },
  {
   "cell_type": "code",
   "execution_count": null,
   "metadata": {},
   "outputs": [],
   "source": [
    "# 502 乘積\n",
    "num1,num2 = int(input()),int(input())\n",
    "compute = lambda x,y : x*y\n",
    "print(compute(num1,num2))"
   ]
  },
  {
   "cell_type": "code",
   "execution_count": null,
   "metadata": {},
   "outputs": [],
   "source": [
    "# 503 連加計算\n",
    "# 連加公式 => (首項 + 末項) * (末項 - 首項 + 1) / 2 \n",
    "compute = lambda a,b : (a+b)*(b-a+1)/2\n",
    "\n",
    "num1,num2 = int(input()),int(input())\n",
    "print(int(compute(num1,num2)))"
   ]
  },
  {
   "cell_type": "code",
   "execution_count": null,
   "metadata": {},
   "outputs": [],
   "source": [
    "# 504 次方計算\n",
    "compute = lambda a,b : a**b\n",
    "\n",
    "num1,num2 = int(input()),int(input())\n",
    "print(int(compute(num1,num2)))"
   ]
  },
  {
   "cell_type": "code",
   "execution_count": null,
   "metadata": {},
   "outputs": [],
   "source": [
    "# 505 依參數格式化輸出\n",
    "def compute(a,x,y):\n",
    "    for i in range(y):\n",
    "        for j in range(x):\n",
    "            print(a,end=' ')\n",
    "        print()\n",
    "cha , num1 , num2 = input(), int(input()) , int(input())\n",
    "compute(cha,num1,num2)"
   ]
  },
  {
   "cell_type": "code",
   "execution_count": null,
   "metadata": {},
   "outputs": [],
   "source": [
    "# 506 一元二次方程式\n",
    "def compute(a,b,c):\n",
    "# 一元二次方程式公式\n",
    "    y = (b**2)-(4*a*c)\n",
    "    x1 = (-b+(y**0.5))/(2*a)\n",
    "    x2 = (-b-(y**0.5))/(2*a)\n",
    "# y>0兩個解，y=0一個解，y<0無解\n",
    "    if y > 0:\n",
    "        print('{}, {}'.format(x1,x2))\n",
    "    elif y == 0:\n",
    "        print(x1)\n",
    "    else:  \n",
    "        print('Your equation has no root.')\n",
    "num1 , num2 , num3 = eval(input()),eval(input()),eval(input())\n",
    "compute(num1,num2,num3)"
   ]
  },
  {
   "cell_type": "code",
   "execution_count": null,
   "metadata": {},
   "outputs": [],
   "source": [
    "# 507 質數\n",
    "# 1以下(包含1)皆不為質數\n",
    "def compute(x):\n",
    "    if x > 1:\n",
    "        for i in range(2,x):\n",
    "            if x%i != 0:\n",
    "                print('Prime')\n",
    "                break\n",
    "            else:\n",
    "                print('Not Prime')\n",
    "                break\n",
    "    else:\n",
    "        print('Not Prime')\n",
    "num = int(input())\n",
    "compute(num)"
   ]
  },
  {
   "cell_type": "code",
   "execution_count": null,
   "metadata": {},
   "outputs": [],
   "source": [
    "# 508 最大公因數\n",
    "\n",
    "def compute(num1,num2):\n",
    "    num1_list , num2_list = [] , []\n",
    "    for i in range(2,num1+1):\n",
    "        if num1 %i == 0:\n",
    "            num1_list.append(i)\n",
    "    for j in range(2,num2+1):\n",
    "        if num2 %j == 0:\n",
    "            num2_list.append(j)\n",
    "# 兩個清單比較相同元素->intersection，比較不同元素->difference\n",
    "    factor = set(num1_list).intersection(set(num2_list))\n",
    "    print(max(factor))\n",
    "# 輸入一行整數(12,8)，以,為分隔，並分別設定為變數\n",
    "x,y = map(int,input().split(','))\n",
    "compute(x,y)"
   ]
  },
  {
   "cell_type": "code",
   "execution_count": null,
   "metadata": {},
   "outputs": [],
   "source": [
    "# 509 最簡分數\n",
    "\n",
    "def compute(a,b):\n",
    "    num1_list , num2_list = [] , []\n",
    "    for i in range(2,a+1):\n",
    "        if a %i == 0:\n",
    "            num1_list.append(i)\n",
    "    for j in range(2,b+1):\n",
    "        if b %j == 0:\n",
    "            num2_list.append(j)\n",
    "    factor = set(num1_list).intersection(set(num2_list))\n",
    "    return max(factor)\n",
    "\n",
    "x,y = map(int,input().split(','))\n",
    "m,n = map(int,input().split(','))\n",
    "p,q = (x*n)+(m*y) , y*n\n",
    "r = compute(p,q)\n",
    "sum1,sum2 = int(p/r) , int(q/r)\n",
    "print('{}/{} + {}/{} = {}/{}'.format(x,y,m,n,sum1,sum2))"
   ]
  },
  {
   "cell_type": "code",
   "execution_count": 66,
   "metadata": {},
   "outputs": [
    {
     "name": "stdout",
     "output_type": "stream",
     "text": [
      "10\n",
      "0 1 1 2 3 5 8 13 21 34 "
     ]
    }
   ],
   "source": [
    "# 510 費氏數列 -- 某一項數字是其前兩項的和，而且第0項為0，第一項為1\n",
    "def compute(x):\n",
    "    fib = []\n",
    "    if x == 0:\n",
    "        print('0 ')\n",
    "    elif x == 1:\n",
    "        print('0 1',end=' ')\n",
    "    elif x > 1:\n",
    "        fib = [0,1]\n",
    "        print('0 1',end=' ')\n",
    "        for i in range(2,x):\n",
    "            y = int(fib[-1])+int(fib[-2])\n",
    "            fib.append(y)\n",
    "            print('{}'.format(y),end=' ')\n",
    "\n",
    "num = int(input())\n",
    "compute(num)"
   ]
  }
 ],
 "metadata": {
  "kernelspec": {
   "display_name": "Python 3",
   "language": "python",
   "name": "python3"
  },
  "language_info": {
   "codemirror_mode": {
    "name": "ipython",
    "version": 3
   },
   "file_extension": ".py",
   "mimetype": "text/x-python",
   "name": "python",
   "nbconvert_exporter": "python",
   "pygments_lexer": "ipython3",
   "version": "3.6.5"
  }
 },
 "nbformat": 4,
 "nbformat_minor": 2
}
