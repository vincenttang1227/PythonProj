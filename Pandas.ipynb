{
 "cells": [
  {
   "cell_type": "code",
   "execution_count": 24,
   "metadata": {},
   "outputs": [
    {
     "name": "stdout",
     "output_type": "stream",
     "text": [
      "0     1.0\n",
      "1     3.0\n",
      "2     6.0\n",
      "3     NaN\n",
      "4    44.0\n",
      "5     1.0\n",
      "dtype: float64\n",
      "                   a         b         c         d\n",
      "2016-01-01  1.656765 -0.357767 -0.244355 -0.368932\n",
      "2016-01-02  2.002696  0.436870 -0.541347 -0.057081\n",
      "2016-01-03  1.345868  1.745751 -0.844973 -1.367223\n",
      "2016-01-04 -0.551543  1.241922 -0.116349 -0.043726\n",
      "2016-01-05  0.295536 -1.356509 -1.154054 -0.676133\n",
      "2016-01-06  0.700882 -0.933886 -0.443621 -2.130916\n",
      "   0  1   2   3\n",
      "0  0  1   2   3\n",
      "1  4  5   6   7\n",
      "2  8  9  10  11\n"
     ]
    }
   ],
   "source": [
    "import pandas as pd\n",
    "import numpy as np\n",
    "\n",
    "s=pd.Series([1,3,6,np.nan,44,1])\n",
    "print(s,end='\\n')\n",
    "\n",
    "dates=pd.date_range(\"20160101\",periods=6)\n",
    "df=pd.DataFrame(np.random.randn(6,4),index=dates,columns=['a','b','c','d'])\n",
    "print(df)\n",
    "df1=pd.DataFrame(np.arange(12).reshape((3,4)))\n",
    "print(df1)"
   ]
  },
  {
   "cell_type": "code",
   "execution_count": null,
   "metadata": {},
   "outputs": [],
   "source": []
  }
 ],
 "metadata": {
  "kernelspec": {
   "display_name": "Python 3",
   "language": "python",
   "name": "python3"
  },
  "language_info": {
   "codemirror_mode": {
    "name": "ipython",
    "version": 3
   },
   "file_extension": ".py",
   "mimetype": "text/x-python",
   "name": "python",
   "nbconvert_exporter": "python",
   "pygments_lexer": "ipython3",
   "version": "3.6.5"
  }
 },
 "nbformat": 4,
 "nbformat_minor": 2
}
