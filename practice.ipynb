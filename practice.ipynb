{
 "cells": [
  {
   "cell_type": "code",
   "execution_count": null,
   "metadata": {},
   "outputs": [],
   "source": [
    "import random\n",
    "\n",
    "pw = random.randint(1,100)\n",
    "minNum,maxNum = 1,100\n",
    "ans = int(input(\"請輸入1到100之間的數字：\"))\n",
    "\n",
    "while ans != pw:\n",
    "    if ans>maxNum or ans<minNum:\n",
    "        print(\"數字錯囉，請重新輸入\")\n",
    "    else:\n",
    "        if ans>pw:\n",
    "            maxNum = ans\n",
    "        else:\n",
    "            minNum = ans\n",
    "        print(\"答案介於\",minNum,\"和\",maxNum,\"之間\")\n",
    "    ans = int(input(\"請輸入1到100之間的數字：\"))\n",
    "\n",
    "print(\"答對了，答案是\",pw)"
   ]
  },
  {
   "cell_type": "code",
   "execution_count": null,
   "metadata": {},
   "outputs": [],
   "source": [
    "num = int(input())\n",
    "\n",
    "for i in range(1,10):\n",
    "    print(\"{} * {} = {}\".format(num,i,num*i))"
   ]
  },
  {
   "cell_type": "code",
   "execution_count": null,
   "metadata": {},
   "outputs": [],
   "source": [
    "for i in range(1, 10):\n",
    "    for j in range(2, 6):\n",
    "        print('{} * {} = {:<3}'.format(j,i,(j*i)),end=' ')\n",
    "    print()\n",
    "print()\n",
    "for i in range(1, 10):\n",
    "    for k in range(6, 10):\n",
    "        print('{} * {} = {:<3}'.format(k,i,(k*i)),end=' ')\n",
    "    print()"
   ]
  },
  {
   "cell_type": "code",
   "execution_count": null,
   "metadata": {},
   "outputs": [],
   "source": [
    "for i in range(1, 10):\n",
    "    for j in range(2, 10):\n",
    "        if j<6:\n",
    "            print('{} * {} = {:<3}'.format(j,i,(j*i)),end=' ')\n",
    "        elif j<10:\n",
    "            print('{} * {} = {:<3}'.format(j,i,(j*i)),end=' ')\n",
    "        print()"
   ]
  },
  {
   "cell_type": "code",
   "execution_count": 24,
   "metadata": {},
   "outputs": [
    {
     "name": "stdout",
     "output_type": "stream",
     "text": [
      "6\n",
      "      *\n",
      "      **\n",
      "      ***\n",
      "      ****\n",
      "      *****\n",
      "     *\n",
      "     **\n",
      "     ***\n",
      "     ****\n",
      "     *****\n",
      "    *\n",
      "    **\n",
      "    ***\n",
      "    ****\n",
      "    *****\n",
      "   *\n",
      "   **\n",
      "   ***\n",
      "   ****\n",
      "   *****\n",
      "  *\n",
      "  **\n",
      "  ***\n",
      "  ****\n",
      "  *****\n",
      " *\n",
      " **\n",
      " ***\n",
      " ****\n",
      " *****\n",
      "\n"
     ]
    }
   ],
   "source": [
    "num = int(input())\n",
    "for i in range(num,0,-1):\n",
    "    for j in range(1,num):\n",
    "        print(\" \"*i+\"*\"*j,end=\"\\n\")\n",
    "print()"
   ]
  }
 ],
 "metadata": {
  "kernelspec": {
   "display_name": "Python 3",
   "language": "python",
   "name": "python3"
  },
  "language_info": {
   "codemirror_mode": {
    "name": "ipython",
    "version": 3
   },
   "file_extension": ".py",
   "mimetype": "text/x-python",
   "name": "python",
   "nbconvert_exporter": "python",
   "pygments_lexer": "ipython3",
   "version": "3.6.5"
  }
 },
 "nbformat": 4,
 "nbformat_minor": 2
}
