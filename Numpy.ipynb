{
 "cells": [
  {
   "cell_type": "code",
   "execution_count": null,
   "metadata": {},
   "outputs": [],
   "source": [
    "# numpy陣列建立方式\n",
    "import numpy as np\n",
    "\n",
    "a = np.array([2, 23, 4])\n",
    "print(a)\n",
    "a = np.array([2, 23, 4], dtype=np.float)\n",
    "print(\"\\n\", a.dtype)\n",
    "a = np.array([[2, 23, 4], [2, 32, 4]])\n",
    "print(\"\\n\", a)\n",
    "a = np.zeros((3, 4))\n",
    "print(\"\\n\", a)\n",
    "a = np.ones((3, 4), dtype=np.int)\n",
    "print(\"\\n\", a)\n",
    "a = np.empty((3, 4))\n",
    "print(\"\\n\", a)\n",
    "a = np.arange(10, 20, 2)\n",
    "print(\"\\n\", a)\n",
    "a = np.arange(1, 13)\n",
    "print(\"\\n\", a)\n",
    "print(a.reshape((3, 4)))\n",
    "a = np.linspace(1, 10, 20)\n",
    "print(\"\\n\", a)\n",
    "\n",
    "# reshape--改變維度的大小\n",
    "a = np.arange(12).reshape(2, 6) #二維\n",
    "print(a)\n",
    "a = np.arange(24).reshape(2,4,3) #三維\n",
    "print(a)"
   ]
  },
  {
   "cell_type": "code",
   "execution_count": 2,
   "metadata": {},
   "outputs": [
    {
     "name": "stdout",
     "output_type": "stream",
     "text": [
      "[[[ 0  1  2]\n",
      "  [ 3  4  5]\n",
      "  [ 6  7  8]\n",
      "  [ 9 10 11]]\n",
      "\n",
      " [[12 13 14]\n",
      "  [15 16 17]\n",
      "  [18 19 20]\n",
      "  [21 22 23]]]\n",
      "[ 0  1  2  3  4  5  6  7  8  9 10 11 12 13 14 15 16 17 18 19]\n",
      "[ 0  1  2 ... 17 18 19]\n"
     ]
    }
   ],
   "source": [
    "import numpy as np\n",
    "a=np.arange(24).reshape(2,4,3)\n",
    "print(a)\n",
    "np.set_printoptions(threshold=20)\n",
    "print(np.arange(20))\n",
    "np.set_printoptions(threshold=15)\n",
    "print(np.arange(20))"
   ]
  },
  {
   "cell_type": "code",
   "execution_count": null,
   "metadata": {},
   "outputs": [],
   "source": [
    "# numpy陣列基本運算\n",
    "import numpy as np\n",
    "a = np.array([10, 20, 30, 40])\n",
    "b = np.arange(1, 5)\n",
    "\n",
    "c = a + b\n",
    "print(c, \"\\n\")\n",
    "c = a - b\n",
    "print(c, \"\\n\")\n",
    "c = a * b\n",
    "print(c, \"\\n\")\n",
    "c = a / b\n",
    "print(c, \"\\n\")\n",
    "c = b**2\n",
    "print(c, \"\\n\")\n",
    "c = 10 * np.sin(a)\n",
    "print(c, \"\\n\")\n",
    "print(b < 3)"
   ]
  },
  {
   "cell_type": "code",
   "execution_count": null,
   "metadata": {},
   "outputs": [],
   "source": [
    "# numppy二維矩陣的dot乘法 -- 不理解\n",
    "a = np.array([[1, 1], [0, 1]])\n",
    "b = np.arange(4).reshape((2, 2))\n",
    "print(a, \"\\n\", b, sep=\"\")\n",
    "\n",
    "c_dot = np.dot(a, b)\n",
    "print(\"\\n\", c_dot, sep=\"\")\n",
    "\n",
    "c_dot = a.dot(b)\n",
    "print(\"\\n\", c_dot, sep=\"\")"
   ]
  },
  {
   "cell_type": "code",
   "execution_count": null,
   "metadata": {},
   "outputs": [],
   "source": [
    "import numpy as np\n",
    "\n",
    "a = np.random.random((2, 4))\n",
    "b = np.random.randn(2, 4)\n",
    "print(a, \"\\n\")\n",
    "print(b, \"\\n\")\n",
    "print(a.sum(), \"\\n\")\n",
    "print(a.min(), \"\\n\")\n",
    "print(a.max(), \"\\n\")\n",
    "\n",
    "# axis=0，以列为查找单元，axis=1，以行为查找单元\n",
    "print(\"a=\", a)\n",
    "print(\"sum=\", a.sum(axis=1))\n",
    "print(\"min=\", a.min(axis=0))\n",
    "print(\"max=\", a.max(axis=1))"
   ]
  },
  {
   "cell_type": "code",
   "execution_count": null,
   "metadata": {},
   "outputs": [],
   "source": [
    "import numpy as np\n",
    "A = np.arange(2, 17).reshape((3, 5))\n",
    "\n",
    "# array([[ 2, 3, 4, 5]\n",
    "#        [ 6, 7, 8, 9]\n",
    "#        [10,11,12,13]])\n",
    "print(A)\n",
    "print(A.argmin())  # 0\n",
    "print(A.argmax())  # 11\n",
    "print(A.mean())  #平均數(sum/個數)\n",
    "print(np.median(A))  #中位數\n",
    "print(np.average(A))  #加權平均數"
   ]
  },
  {
   "cell_type": "code",
   "execution_count": null,
   "metadata": {},
   "outputs": [],
   "source": [
    "# numpy矩陣的轉置\n",
    "import numpy as np\n",
    "A = np.arange(14, 2, -1).reshape((3, 4))\n",
    "\n",
    "# array([[14, 13, 12, 11],\n",
    "#       [10,  9,  8,  7],\n",
    "#       [ 6,  5,  4,  3]])\n",
    "\n",
    "print(np.sort(A))\n",
    "\n",
    "# array([[11,12,13,14]\n",
    "#        [ 7, 8, 9,10]\n",
    "#        [ 3, 4, 5, 6]])\n",
    "print(np.transpose(A))\n",
    "print(A.T)\n",
    "# array([[14,10, 6]\n",
    "#        [13, 9, 5]\n",
    "#        [12, 8, 4]\n",
    "#        [11, 7, 3]])\n",
    "# array([[14,10, 6]\n",
    "#        [13, 9, 5]\n",
    "#        [12, 8, 4]\n",
    "#        [11, 7, 3]])"
   ]
  },
  {
   "cell_type": "code",
   "execution_count": null,
   "metadata": {},
   "outputs": [],
   "source": [
    "import numpy as np\n",
    "A = np.array([1, 1, 1])\n",
    "B = np.array([2, 2, 2])\n",
    "\n",
    "# vstack--vertical(垂直合併)\n",
    "print(np.vstack((A, B)))\n",
    "print(np.stack(np.vstack((A, B)), axis=1))\n",
    "# print(np.stack(np.vstack((A,B)),axis=0))\n",
    "\n",
    "# hstack--herizontal(水平合併)\n",
    "print(np.hstack((A, B)))"
   ]
  },
  {
   "cell_type": "code",
   "execution_count": null,
   "metadata": {},
   "outputs": [],
   "source": [
    "import numpy as np\n",
    "\n",
    "a = np.arange(4)\n",
    "b = a\n",
    "c = a\n",
    "d = b\n",
    "a[0] = 11\n",
    "print(a, b, c, d)\n",
    "d[1:3] = [22, 33]\n",
    "print(a, b, c, \"\\n\")\n",
    "\n",
    "# a.copy會複製一個全新而沒有關聯性的陣列\n",
    "b = a.copy()\n",
    "print(a, b)\n",
    "a[3] = 44\n",
    "print(a, b)"
   ]
  }
 ],
 "metadata": {
  "kernelspec": {
   "display_name": "Python 3",
   "language": "python",
   "name": "python3"
  },
  "language_info": {
   "codemirror_mode": {
    "name": "ipython",
    "version": 3
   },
   "file_extension": ".py",
   "mimetype": "text/x-python",
   "name": "python",
   "nbconvert_exporter": "python",
   "pygments_lexer": "ipython3",
   "version": "3.6.5"
  }
 },
 "nbformat": 4,
 "nbformat_minor": 2
}
