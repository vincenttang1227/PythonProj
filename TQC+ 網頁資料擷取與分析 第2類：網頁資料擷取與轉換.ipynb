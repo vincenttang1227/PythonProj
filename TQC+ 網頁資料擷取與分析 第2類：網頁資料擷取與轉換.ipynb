{
 "cells": [
  {
   "cell_type": "code",
   "execution_count": null,
   "metadata": {},
   "outputs": [],
   "source": [
    "# 201 搜尋字詞\n",
    "import requests\n",
    "import re\n",
    "\n",
    "doc = requests.get(\"http://tqc.codejudger.com:3000/target/5201.html\")\n",
    "\n",
    "str1 = input(\"請輸入欲搜尋的字串 : \")\n",
    "strCount = re.findall(str1,doc.text)\n",
    "\n",
    "print(str1,\"搜尋成功\")\n",
    "print(str1,\"出現\",len(strCount),\"次\")"
   ]
  },
  {
   "cell_type": "code",
   "execution_count": 15,
   "metadata": {},
   "outputs": [
    {
     "data": {
      "text/plain": [
       "0     NTD/USD\n",
       "1      30.412\n",
       "2      30.403\n",
       "3      30.307\n",
       "4      30.302\n",
       "5      30.170\n",
       "6      30.186\n",
       "7      30.002\n",
       "8      29.938\n",
       "9      29.890\n",
       "10     29.860\n",
       "11     29.821\n",
       "12     29.816\n",
       "13     29.740\n",
       "14     29.738\n",
       "15     29.815\n",
       "16     29.820\n",
       "17     29.864\n",
       "18     29.980\n",
       "19     30.050\n",
       "20     29.988\n",
       "21     29.928\n",
       "22     29.945\n",
       "23     29.930\n",
       "24     29.960\n",
       "25     29.922\n",
       "26     29.992\n",
       "27     29.912\n",
       "28     29.906\n",
       "29     29.892\n",
       "30     29.848\n",
       "31     29.742\n",
       "32     29.773\n",
       "33     29.872\n",
       "34     29.928\n",
       "35     29.783\n",
       "36     29.763\n",
       "37     29.716\n",
       "38     29.742\n",
       "39     29.758\n",
       "40     29.605\n",
       "41     29.636\n",
       "42     29.705\n",
       "43     29.660\n",
       "44     29.616\n",
       "45     29.528\n",
       "46     29.407\n",
       "47     29.340\n",
       "48     29.366\n",
       "49     29.362\n",
       "50     29.425\n",
       "Name: 1, dtype: object"
      ]
     },
     "execution_count": 15,
     "metadata": {},
     "output_type": "execute_result"
    }
   ],
   "source": [
    "from bs4 import BeautifulSoup\n",
    "import requests\n",
    "nameLi=[]\n",
    "\n",
    "data = pd.read_html('read.html')\n",
    "data[1][1]"
   ]
  },
  {
   "cell_type": "code",
   "execution_count": 8,
   "metadata": {},
   "outputs": [],
   "source": [
    "import pandas as pd\n",
    "import requests\n",
    "\n",
    "with open('read.html','r',encoding='UTF-8') as fp:"
   ]
  }
 ],
 "metadata": {
  "kernelspec": {
   "display_name": "Python 3",
   "language": "python",
   "name": "python3"
  },
  "language_info": {
   "codemirror_mode": {
    "name": "ipython",
    "version": 3
   },
   "file_extension": ".py",
   "mimetype": "text/x-python",
   "name": "python",
   "nbconvert_exporter": "python",
   "pygments_lexer": "ipython3",
   "version": "3.6.5"
  }
 },
 "nbformat": 4,
 "nbformat_minor": 2
}
