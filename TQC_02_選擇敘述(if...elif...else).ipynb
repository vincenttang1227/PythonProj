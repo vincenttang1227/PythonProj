{
 "cells": [
  {
   "cell_type": "code",
   "execution_count": 2,
   "metadata": {},
   "outputs": [
    {
     "name": "stdout",
     "output_type": "stream",
     "text": [
      "6\n",
      "6 is an even number.\n"
     ]
    }
   ],
   "source": [
    "# 201.偶數判斷\n",
    "num = int(input())\n",
    "print(num,\"is an even number.\") if num%2 == 0 else print(num,\"is not an even number.\")"
   ]
  },
  {
   "cell_type": "code",
   "execution_count": 11,
   "metadata": {},
   "outputs": [
    {
     "name": "stdout",
     "output_type": "stream",
     "text": [
      "14\n",
      "14 is not a multiple of 3 or 5.\n"
     ]
    }
   ],
   "source": [
    "# 202.倍數判斷\n",
    "num = int(input())\n",
    "if num%3 == 0 and num%5 == 0: print(num,\"is a multiple of 3 and 5.\")\n",
    "elif num%3 == 0: print(num,\"is a multiple of 3.\")\n",
    "elif num%5 == 0: print(num,\"is a multiple of 5.\")\n",
    "else: print(num,\"is not a multiple of 3 or 5.\")"
   ]
  },
  {
   "cell_type": "code",
   "execution_count": 30,
   "metadata": {},
   "outputs": [
    {
     "name": "stdout",
     "output_type": "stream",
     "text": [
      "2010\n",
      "2010 is not a leap year.\n"
     ]
    }
   ],
   "source": [
    "# 203.閏年判斷\n",
    "num = int(input())\n",
    "\n",
    "if num%400 == 0: print(num,\"is a leap year.\")\n",
    "elif num%100 == 0: print(num,\"is not a leap year.\")\n",
    "elif num%4 == 0: print(num,\"is a leap year.\")\n",
    "else: print(num,\"is not a leap year.\")"
   ]
  },
  {
   "cell_type": "code",
   "execution_count": null,
   "metadata": {},
   "outputs": [],
   "source": [
    "# 204.算術判斷\n",
    "num1,num2,cal = int(input()),int(input()),input()\n",
    "\n",
    "if cal==\"+\": print (num1+num2)\n",
    "elif cal==\"-\" : print (num1-num2)\n",
    "elif cal==\"*\" : print (num1*num2)\n",
    "elif cal==\"/\" : print (num1/num2)\n",
    "elif cal==\"//\" : print (num1//num2)\n",
    "else cal==\"%\" : print (num1%num2)"
   ]
  },
  {
   "cell_type": "code",
   "execution_count": 14,
   "metadata": {},
   "outputs": [
    {
     "name": "stdout",
     "output_type": "stream",
     "text": [
      "7\n",
      "7 is a number.\n"
     ]
    }
   ],
   "source": [
    "# 205.字元判斷\n",
    "text = input()\n",
    "\n",
    "if text.isalpha(): print (text,\"is an alphabet.\")\n",
    "elif text.isdigit(): print (text,\"is a number.\")\n",
    "else: print (text,\"is a symbol.\")"
   ]
  },
  {
   "cell_type": "code",
   "execution_count": 9,
   "metadata": {},
   "outputs": [
    {
     "name": "stdout",
     "output_type": "stream",
     "text": [
      "79\n",
      "B\n"
     ]
    }
   ],
   "source": [
    "# 206.等級判斷\n",
    "score = int(input())\n",
    "\n",
    "if score>=80 and score<=100 : print (\"A\")\n",
    "elif score>=70 : print (\"B\")\n",
    "elif score>=60 : print (\"C\")\n",
    "else: print (\"F\")"
   ]
  },
  {
   "cell_type": "code",
   "execution_count": 33,
   "metadata": {},
   "outputs": [
    {
     "name": "stdout",
     "output_type": "stream",
     "text": [
      "1500\n",
      "1500\n"
     ]
    }
   ],
   "source": [
    "# 207.折扣方案\n",
    "amount = int(input())\n",
    "\n",
    "if amount<8000: print (amount)\n",
    "elif amount<18000: print (amount*95/100)\n",
    "elif amount<28000: print (amount*90/100)\n",
    "elif amount<38000: print (amount*80/100)\n",
    "else: print (amount*70/100)"
   ]
  },
  {
   "cell_type": "code",
   "execution_count": null,
   "metadata": {},
   "outputs": [],
   "source": [
    "# 208.十進位換算\n",
    "num = int(input())\n",
    "if num==10 : print('A')\n",
    "elif num==11 : print('B')\n",
    "elif num==12 : print('C')\n",
    "elif num==13 : print('D')\n",
    "elif num==14 : print('E')\n",
    "elif num==15 : print('F')\n",
    "else: print(num)"
   ]
  },
  {
   "cell_type": "code",
   "execution_count": 5,
   "metadata": {},
   "outputs": [
    {
     "name": "stdout",
     "output_type": "stream",
     "text": [
      "30\n",
      "35\n",
      "Outside\n"
     ]
    }
   ],
   "source": [
    "# 209.距離判斷\n",
    "\n",
    "coor1,coor2 = int(input()),int(input())\n",
    "distance = ((coor1-5)**2+(coor2-6)**2)**0.5\n",
    "\n",
    "print (\"Inside\") if distance <= 15 else print (\"Outside\")"
   ]
  },
  {
   "cell_type": "code",
   "execution_count": 31,
   "metadata": {},
   "outputs": [
    {
     "name": "stdout",
     "output_type": "stream",
     "text": [
      "1\n",
      "2\n",
      "3\n",
      "Invalid\n"
     ]
    }
   ],
   "source": [
    "# 210.三角形判斷\n",
    "\n",
    "tri1,tri2,tri3 = int(input()),int(input()),int(input())\n",
    "\n",
    "if (tri1>=tri2+tri3) or (tri2>=tri1+tri3) or (tri3>=tri1+tri2): print('Invalid')\n",
    "else: print (tri1+tri2+tri3)"
   ]
  }
 ],
 "metadata": {
  "kernelspec": {
   "display_name": "Python 3",
   "language": "python",
   "name": "python3"
  },
  "language_info": {
   "codemirror_mode": {
    "name": "ipython",
    "version": 3
   },
   "file_extension": ".py",
   "mimetype": "text/x-python",
   "name": "python",
   "nbconvert_exporter": "python",
   "pygments_lexer": "ipython3",
   "version": "3.6.5"
  }
 },
 "nbformat": 4,
 "nbformat_minor": 2
}
