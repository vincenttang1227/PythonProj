{
 "cells": [
  {
   "cell_type": "code",
   "execution_count": null,
   "metadata": {},
   "outputs": [],
   "source": [
    "a = float(input())\n",
    "b = float(input())\n",
    "c = float(input())\n",
    "d = float(input())\n",
    "\n",
    "print(\"|{:>7.2f} {:>7.2f}|\".format(a,b))\n",
    "print(\"|{:>7.2f} {:>7.2f}|\".format(c,d))\n",
    "print(\"|{:<7.2f} {:<7.2f}|\".format(a,b))\n",
    "print(\"|{:<7.2f} {:<7.2f}|\".format(c,d))"
   ]
  },
  {
   "cell_type": "code",
   "execution_count": 1,
   "metadata": {},
   "outputs": [
    {
     "name": "stdout",
     "output_type": "stream",
     "text": [
      "10\n",
      "Radius = 10.00\n",
      "Perimeter = 62.83\n",
      "Area = 314.16\n"
     ]
    }
   ],
   "source": [
    "import math\n",
    "\n",
    "a = float(input())\n",
    "\n",
    "print(\"Radius = {:.2f}\".format(a))\n",
    "print(\"Perimeter = {:.2f}\".format(2*a*math.pi))\n",
    "print(\"Area = {:.2f}\".format(a**2*math.pi))"
   ]
  },
  {
   "cell_type": "code",
   "execution_count": 17,
   "metadata": {},
   "outputs": [
    {
     "name": "stdout",
     "output_type": "stream",
     "text": [
      "10\n",
      "25\n",
      "3\n",
      "Speed = 10.8\n"
     ]
    }
   ],
   "source": [
    "x =  int(input())\n",
    "y =  int (input())\n",
    "z =  int(input())\n",
    "\n",
    "speed = (z/(x*60+y))*3600/1.6\n",
    "print(\"Speed = {:.1f}\".format(speed))"
   ]
  }
 ],
 "metadata": {
  "kernelspec": {
   "display_name": "Python 3",
   "language": "python",
   "name": "python3"
  },
  "language_info": {
   "codemirror_mode": {
    "name": "ipython",
    "version": 3
   },
   "file_extension": ".py",
   "mimetype": "text/x-python",
   "name": "python",
   "nbconvert_exporter": "python",
   "pygments_lexer": "ipython3",
   "version": "3.6.5"
  }
 },
 "nbformat": 4,
 "nbformat_minor": 2
}
