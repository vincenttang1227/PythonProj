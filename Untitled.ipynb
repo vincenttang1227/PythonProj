{
 "cells": [
  {
   "cell_type": "code",
   "execution_count": null,
   "metadata": {},
   "outputs": [],
   "source": [
    "a = float(input())\n",
    "b = float(input())\n",
    "c = float(input())\n",
    "d = float(input())\n",
    "\n",
    "print(\"|{:>7.2f} {:>7.2f}|\".format(a,b))\n",
    "print(\"|{:>7.2f} {:>7.2f}|\".format(c,d))\n",
    "print(\"|{:<7.2f} {:<7.2f}|\".format(a,b))\n",
    "print(\"|{:<7.2f} {:<7.2f}|\".format(c,d))"
   ]
  },
  {
   "cell_type": "code",
   "execution_count": 1,
   "metadata": {},
   "outputs": [
    {
     "name": "stdout",
     "output_type": "stream",
     "text": [
      "10\n",
      "Radius = 10.00\n",
      "Perimeter = 62.83\n",
      "Area = 314.16\n"
     ]
    }
   ],
   "source": [
    "import math\n",
    "\n",
    "a = float(input())\n",
    "\n",
    "print(\"Radius = {:.2f}\".format(a))\n",
    "print(\"Perimeter = {:.2f}\".format(2*a*math.pi))b\n",
    "print(\"Area = {:.2f}\".format(a**2*math.pi))"
   ]
  },
  {
   "cell_type": "code",
   "execution_count": 9,
   "metadata": {},
   "outputs": [
    {
     "name": "stdout",
     "output_type": "stream",
     "text": [
      "5\n",
      "10\n",
      "   0   1   2   3   4   5   6   7   8   9\n",
      "  -1   0   1   2   3   4   5   6   7   8\n",
      "  -2  -1   0   1   2   3   4   5   6   7\n",
      "  -3  -2  -1   0   1   2   3   4   5   6\n",
      "  -4  -3  -2  -1   0   1   2   3   4   5\n"
     ]
    }
   ],
   "source": [
    "rows = int(input())\n",
    "cols = int(input())\n",
    "lis = [[0 for i in range(cols)] for j in range(rows)]\n",
    "\n",
    "for i in range(rows):\n",
    "    for j in range(cols):\n",
    "        lis[i][j] = j-i\n",
    "        print(\"{:4d}\".format(lis[i][j]),end='')\n",
    "    print()"
   ]
  },
  {
   "cell_type": "code",
   "execution_count": 8,
   "metadata": {},
   "outputs": [],
   "source": [
    "import turtle as tu\n",
    "tu.showturtle()\n",
    "tu.color('red')\n",
    "tu.pensize(3)\n",
    "tu.forward(150)\n",
    "tu.left(90)\n",
    "tu.forward(150)\n",
    "tu.left(90)\n",
    "tu.forward(150)\n",
    "tu.left(90)\n",
    "tu.forward(150)"
   ]
  }
 ],
 "metadata": {
  "kernelspec": {
   "display_name": "Python 3",
   "language": "python",
   "name": "python3"
  },
  "language_info": {
   "codemirror_mode": {
    "name": "ipython",
    "version": 3
   },
   "file_extension": ".py",
   "mimetype": "text/x-python",
   "name": "python",
   "nbconvert_exporter": "python",
   "pygments_lexer": "ipython3",
   "version": "3.6.5"
  }
 },
 "nbformat": 4,
 "nbformat_minor": 2
}
