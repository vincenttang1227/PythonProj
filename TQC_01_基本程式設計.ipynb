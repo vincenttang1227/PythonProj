{
 "cells": [
  {
   "cell_type": "code",
   "execution_count": 6,
   "metadata": {},
   "outputs": [
    {
     "name": "stdout",
     "output_type": "stream",
     "text": [
      "3\n",
      "6\n",
      "8\n",
      "4\n",
      "|    3     6|\n",
      "|    8     4|\n",
      "|3     6    |\n",
      "|8     4    |\n"
     ]
    }
   ],
   "source": [
    "# 101.整數格式化輸出\n",
    "a,b,c,d = int(input()),int(input()),int(input()),int(input())\n",
    "print(\"|{:>5d} {:>5d}|\" .format(a, b))\n",
    "print(\"|{:>5d} {:>5d}|\" .format(c, d))\n",
    "print(\"|{:<5d} {:<5d}|\" .format(a, b))\n",
    "print(\"|{:<5d} {:<5d}|\" .format(c, d))"
   ]
  },
  {
   "cell_type": "code",
   "execution_count": 7,
   "metadata": {},
   "outputs": [
    {
     "name": "stdout",
     "output_type": "stream",
     "text": [
      "3.5\n",
      "9.2\n",
      "234.76\n",
      "98.1\n",
      "|   3.50    9.20|\n",
      "| 234.76   98.10|\n",
      "|3.50    9.20   |\n",
      "|234.76  98.10  |\n"
     ]
    }
   ],
   "source": [
    "# 102.浮點數格式化輸出\n",
    "a,b,c,d = float(input()),float(input()),float(input()),float(input())\n",
    "print (\"|{:>7.2f} {:>7.2f}|\" .format (a , b))\n",
    "print (\"|{:>7.2f} {:>7.2f}|\" .format (c , d))\n",
    "print (\"|{:<7.2f} {:<7.2f}|\" .format (a , b))\n",
    "print (\"|{:<7.2f} {:<7.2f}|\" .format (c , d))"
   ]
  },
  {
   "cell_type": "code",
   "execution_count": 9,
   "metadata": {},
   "outputs": [
    {
     "name": "stdout",
     "output_type": "stream",
     "text": [
      "I\n",
      "enjoy\n",
      "python\n",
      "lanfuage\n",
      "|         I      enjoy|\n",
      "|    python   lanfuage|\n",
      "|I          enjoy     |\n",
      "|python     lanfuage  |\n"
     ]
    }
   ],
   "source": [
    "# 103.字串格式化輸出\n",
    "a,b,c,d = input(),input(),input(),input()\n",
    "print(\"|{:>10s} {:>10s}|\" .format(a, b))\n",
    "print(\"|{:>10s} {:>10s}|\" .format(c, d))\n",
    "print(\"|{:<10s} {:<10s}|\" .format(a, b))\n",
    "print(\"|{:<10s} {:<10s}|\" .format(c, d))"
   ]
  },
  {
   "cell_type": "code",
   "execution_count": 10,
   "metadata": {},
   "outputs": [
    {
     "name": "stdout",
     "output_type": "stream",
     "text": [
      "3\n",
      "Radius = 3.00\n",
      "Perimeter = 18.85\n",
      "Area = 28.27\n"
     ]
    }
   ],
   "source": [
    "# 104.圓形面積計算\n",
    "import math\n",
    "\n",
    "a = float(input())\n",
    "print(\"Radius = %.2f\" % a)\n",
    "print(\"Perimeter = %.2f\" % (a*2*math.pi))\n",
    "print(\"Area = %.2f\" % (a**2*math.pi))"
   ]
  },
  {
   "cell_type": "code",
   "execution_count": 11,
   "metadata": {},
   "outputs": [
    {
     "name": "stdout",
     "output_type": "stream",
     "text": [
      "5\n",
      "7\n",
      "Height = 5.00\n",
      "Width = 7.00\n",
      "Perimeter = 24.00\n",
      "Area = 35.00\n"
     ]
    }
   ],
   "source": [
    "# 105.矩形面積計算\n",
    "h,w = input(),input()\n",
    "p,a = (float(h) + int(w))*2,float(h) * int(w)\n",
    "print(\"Height = %.2f\" % float(h))\n",
    "print(\"Width = %.2f\" % int(w))\n",
    "print(\"Perimeter = %.2f\" % int(p))\n",
    "print(\"Area = %.2f\" % float(a))"
   ]
  },
  {
   "cell_type": "code",
   "execution_count": null,
   "metadata": {},
   "outputs": [],
   "source": [
    "# 106.公里英哩換算\n",
    "x , y , z = int(input()) , int(input()) , int(input())\n",
    "print (\"Speed = %.1f\" % ((z/1.6)/((x*60+y)/3600)))"
   ]
  },
  {
   "cell_type": "code",
   "execution_count": 14,
   "metadata": {},
   "outputs": [
    {
     "name": "stdout",
     "output_type": "stream",
     "text": [
      "1\n",
      "2\n",
      "3\n",
      "4\n",
      "5\n",
      "1 2 3 4 5\n",
      "Sum = 15.0 \n",
      "Average = 3.0 \n"
     ]
    }
   ],
   "source": [
    "# 107.數值計算\n",
    "a,b,c,d,e = eval(input()),eval(input()),eval(input()),eval(input()),eval(input())\n",
    "print (a,b,c,d,e)\n",
    "print (\"Sum = {:.1f} \".format(a+b+c+d+e))\n",
    "print (\"Average = {:.1f} \".format((a+b+c+d+e)/5))"
   ]
  },
  {
   "cell_type": "code",
   "execution_count": 4,
   "metadata": {},
   "outputs": [
    {
     "name": "stdout",
     "output_type": "stream",
     "text": [
      "2\n",
      "1\n",
      "5.5\n",
      "8\n",
      "( 2 , 1 )\n",
      "( 5.5 , 8 )\n",
      "Distance = 7.826237921249264\n"
     ]
    }
   ],
   "source": [
    "# 108.座標距離計算 - 錯誤\n",
    "x1,y1,x2,y2 = eval(input()),eval(input()),eval(input()),eval(input())\n",
    "distance = ((x1 - x2)**2+(y1 - y2)**2)**0.5\n",
    "\n",
    "print(\"( {} , {} )\" .format(x1 , y1))\n",
    "print(\"( {} , {} )\" .format(x2 , y2))\n",
    "print(\"Distance =\",distance)"
   ]
  },
  {
   "cell_type": "code",
   "execution_count": 61,
   "metadata": {},
   "outputs": [
    {
     "name": "stdout",
     "output_type": "stream",
     "text": [
      "5\n",
      "Area = 43.0119\n"
     ]
    }
   ],
   "source": [
    "# 109.正五邊形面積計算\n",
    "import math\n",
    "s = int(input())\n",
    "a,b = 5 * (s**2) , 4 * math.tan(math.pi/5)\n",
    "print (\"Area = %.4f\" % (a/b))"
   ]
  },
  {
   "cell_type": "code",
   "execution_count": 5,
   "metadata": {},
   "outputs": [
    {
     "name": "stdout",
     "output_type": "stream",
     "text": [
      "8\n",
      "6\n",
      "Area = 173.8234\n"
     ]
    }
   ],
   "source": [
    "# 110.正n邊形面積計算\n",
    "import math\n",
    "n,s = int(input()),int(input())\n",
    "a,b = n * (s**2) , 4 * math.tan(math.pi/n)\n",
    "print (\"Area = %.4f\" % (a/b))"
   ]
  }
 ],
 "metadata": {
  "kernelspec": {
   "display_name": "Python 3",
   "language": "python",
   "name": "python3"
  },
  "language_info": {
   "codemirror_mode": {
    "name": "ipython",
    "version": 3
   },
   "file_extension": ".py",
   "mimetype": "text/x-python",
   "name": "python",
   "nbconvert_exporter": "python",
   "pygments_lexer": "ipython3",
   "version": "3.6.5"
  }
 },
 "nbformat": 4,
 "nbformat_minor": 2
}
