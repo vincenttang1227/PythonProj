{
 "cells": [
  {
   "cell_type": "code",
   "execution_count": null,
   "metadata": {},
   "outputs": [],
   "source": [
    "# 301 迴圈整數連加\n",
    "num1,num2,result = int(input()),int(input()),0\n",
    "\n",
    "for i in range(num1,num2+1): result += i\n",
    "print(result)"
   ]
  },
  {
   "cell_type": "code",
   "execution_count": null,
   "metadata": {},
   "outputs": [],
   "source": [
    "# 301 -- 程式自動判斷 (b-a)/abs(b-a)\n",
    "num1,num2,result = int(input()),int(input()),0\n",
    "\n",
    "for i in range(num1,num2+int((num2-num1)/abs(num2-num1)),int((num2-num1)/abs(num2-num1))): result += i\n",
    "print(result)"
   ]
  },
  {
   "cell_type": "code",
   "execution_count": null,
   "metadata": {},
   "outputs": [],
   "source": [
    "# 302 迴圈偶數連加\n",
    "num1,num2,result = int(input()),int(input()),0\n",
    "\n",
    "for i in range(num1,num2+1,2): \n",
    "    if num1 %2 == 0: result += i\n",
    "\n",
    "print(result)"
   ]
  },
  {
   "cell_type": "code",
   "execution_count": null,
   "metadata": {},
   "outputs": [],
   "source": [
    "# 304 迴圈倍數總和\n",
    "num,result = int(input()),0\n",
    "\n",
    "for i in range(1 , num+1): if i %5 == 0: result += i\n",
    "print(result)"
   ]
  },
  {
   "cell_type": "code",
   "execution_count": 10,
   "metadata": {},
   "outputs": [
    {
     "name": "stdout",
     "output_type": "stream",
     "text": [
      "0\n",
      "0\n"
     ]
    }
   ],
   "source": [
    "# 305 數字反轉\n",
    "num1 = input()\n",
    "print(num1[::-1])"
   ]
  },
  {
   "cell_type": "code",
   "execution_count": 2,
   "metadata": {},
   "outputs": [
    {
     "name": "stdout",
     "output_type": "stream",
     "text": [
      "38129\n",
      "92183\n"
     ]
    }
   ],
   "source": [
    "print(input()[::-1])"
   ]
  },
  {
   "cell_type": "code",
   "execution_count": 11,
   "metadata": {},
   "outputs": [
    {
     "name": "stdout",
     "output_type": "stream",
     "text": [
      "0\n",
      "0"
     ]
    }
   ],
   "source": [
    "# 305 -- 迴圈寫法\n",
    "num = input()\n",
    "for i in range(len(num)-1,-1,-1): print (num[i],end='')"
   ]
  },
  {
   "cell_type": "code",
   "execution_count": null,
   "metadata": {},
   "outputs": [],
   "source": [
    "# 305 -- 另一種迴圈寫法\n",
    "num,num1 = input(),\"\"\n",
    "for i in range(len(num)): \n",
    "    num1 = num[i]+num1\n",
    "print (num1)"
   ]
  },
  {
   "cell_type": "code",
   "execution_count": null,
   "metadata": {},
   "outputs": [],
   "source": [
    "# 306 迴圈階乘計算\n",
    "num,sum1 = int(input()),1\n",
    "\n",
    "for i in range(1,num+1): sum1 *= i\n",
    "print(sum1)"
   ]
  },
  {
   "cell_type": "code",
   "execution_count": 8,
   "metadata": {},
   "outputs": [
    {
     "name": "stdout",
     "output_type": "stream",
     "text": [
      "3\n",
      "32156\n",
      "Sum of all digits of 32156 is 17\n",
      "0\n",
      "Sum of all digits of 0 is 0\n",
      "769\n",
      "Sum of all digits of 769 is 22\n"
     ]
    }
   ],
   "source": [
    "# 308 迴圈位數加總\n",
    "num1 = int(input())\n",
    "\n",
    "for i in range(num1):\n",
    "    num2,sum1 = input(),0\n",
    "    for j in range(len(num2)): sum1 += int(num2[j])\n",
    "    print('Sum of all digits of {} is {}'.format(num2,sum1))"
   ]
  },
  {
   "cell_type": "code",
   "execution_count": 4,
   "metadata": {},
   "outputs": [
    {
     "name": "stdout",
     "output_type": "stream",
     "text": [
      "50000\n",
      "1.3\n",
      "5\n",
      "Month \t  Amount\n",
      "  1 \t 50054.17\n",
      "  2 \t 50108.39\n",
      "  3 \t 50162.68\n",
      "  4 \t 50217.02\n",
      "  5 \t 50271.42\n"
     ]
    }
   ],
   "source": [
    "# 309 存款總額\n",
    "amount,rate,month = eval(input()),abs(eval(input())),eval(input())\n",
    "\n",
    "print('Month \\t  Amount')\n",
    "for i in range(1, month+1):\n",
    "    total = amount+amount*rate/1200\n",
    "    amount = total\n",
    "    print('{:3d} \\t {:.2f}'.format(i, total))"
   ]
  },
  {
   "cell_type": "code",
   "execution_count": 14,
   "metadata": {},
   "outputs": [
    {
     "name": "stdout",
     "output_type": "stream",
     "text": [
      "8\n",
      "1.8284\n"
     ]
    }
   ],
   "source": [
    "# 310 迴圈公式計算\n",
    "num,sum1 = int(input()),0\n",
    "\n",
    "for i in range(1,num): sum1 += 1/(i**0.5+(i+1)**0.5)\n",
    "print('{:.4f}'.format(sum1))"
   ]
  },
  {
   "cell_type": "code",
   "execution_count": 1,
   "metadata": {},
   "outputs": [
    {
     "name": "stdout",
     "output_type": "stream",
     "text": [
      "5\n",
      "   1\n",
      "   2   4\n",
      "   3   6   9\n",
      "   4   8  12  16\n",
      "   5  10  15  20  25\n"
     ]
    }
   ],
   "source": [
    "# 303 迴圈數值相乘\n",
    "num = int(input())\n",
    "for i in range(1, num+1):\n",
    "    for j in range(1,i+1): \n",
    "        print('{:4d}'.format(i*j),end='')\n",
    "    print()"
   ]
  },
  {
   "cell_type": "code",
   "execution_count": 3,
   "metadata": {},
   "outputs": [
    {
     "name": "stdout",
     "output_type": "stream",
     "text": [
      "5\n",
      "   1   2   3   4   5\n",
      "   2   4   6   8\n",
      "   3   6   9\n",
      "   4   8\n",
      "   5\n"
     ]
    }
   ],
   "source": [
    "# 303 迴圈數值相乘(變化題)\n",
    "num = int(input())\n",
    "for i in range(1,num+1):\n",
    "    for j in range(1,num+2-i):\n",
    "        print('{:4d}'.format(i*j),end='')\n",
    "    print()"
   ]
  },
  {
   "cell_type": "code",
   "execution_count": 12,
   "metadata": {},
   "outputs": [
    {
     "name": "stdout",
     "output_type": "stream",
     "text": [
      "9\n",
      "1 * 1 = 1   2 * 1 = 2   3 * 1 = 3   4 * 1 = 4   5 * 1 = 5   6 * 1 = 6   7 * 1 = 7   8 * 1 = 8   9 * 1 = 9   \n",
      "1 * 2 = 2   2 * 2 = 4   3 * 2 = 6   4 * 2 = 8   5 * 2 = 10  6 * 2 = 12  7 * 2 = 14  8 * 2 = 16  9 * 2 = 18  \n",
      "1 * 3 = 3   2 * 3 = 6   3 * 3 = 9   4 * 3 = 12  5 * 3 = 15  6 * 3 = 18  7 * 3 = 21  8 * 3 = 24  9 * 3 = 27  \n",
      "1 * 4 = 4   2 * 4 = 8   3 * 4 = 12  4 * 4 = 16  5 * 4 = 20  6 * 4 = 24  7 * 4 = 28  8 * 4 = 32  9 * 4 = 36  \n",
      "1 * 5 = 5   2 * 5 = 10  3 * 5 = 15  4 * 5 = 20  5 * 5 = 25  6 * 5 = 30  7 * 5 = 35  8 * 5 = 40  9 * 5 = 45  \n",
      "1 * 6 = 6   2 * 6 = 12  3 * 6 = 18  4 * 6 = 24  5 * 6 = 30  6 * 6 = 36  7 * 6 = 42  8 * 6 = 48  9 * 6 = 54  \n",
      "1 * 7 = 7   2 * 7 = 14  3 * 7 = 21  4 * 7 = 28  5 * 7 = 35  6 * 7 = 42  7 * 7 = 49  8 * 7 = 56  9 * 7 = 63  \n",
      "1 * 8 = 8   2 * 8 = 16  3 * 8 = 24  4 * 8 = 32  5 * 8 = 40  6 * 8 = 48  7 * 8 = 56  8 * 8 = 64  9 * 8 = 72  \n",
      "1 * 9 = 9   2 * 9 = 18  3 * 9 = 27  4 * 9 = 36  5 * 9 = 45  6 * 9 = 54  7 * 9 = 63  8 * 9 = 72  9 * 9 = 81  \n"
     ]
    }
   ],
   "source": [
    "# 307 乘法表   \n",
    "num = int(input())\n",
    "for i in range(1, num+1):\n",
    "    for j in range(1, num+1): print('{} * {} = {:<4}'.format(j,i,(j*i)),end='')\n",
    "    print()"
   ]
  }
 ],
 "metadata": {
  "kernelspec": {
   "display_name": "Python 3",
   "language": "python",
   "name": "python3"
  },
  "language_info": {
   "codemirror_mode": {
    "name": "ipython",
    "version": 3
   },
   "file_extension": ".py",
   "mimetype": "text/x-python",
   "name": "python",
   "nbconvert_exporter": "python",
   "pygments_lexer": "ipython3",
   "version": "3.6.5"
  }
 },
 "nbformat": 4,
 "nbformat_minor": 2
}
