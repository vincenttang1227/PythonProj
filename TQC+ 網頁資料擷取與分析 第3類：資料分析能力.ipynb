{
 "cells": [
  {
   "cell_type": "code",
   "execution_count": 31,
   "metadata": {},
   "outputs": [
    {
     "name": "stdout",
     "output_type": "stream",
     "text": [
      "行標題為科目，列題標為個人的所有學生成績\n",
      "    國語  數學  英文  自然  社會\n",
      "小林  75  62  85  73  60\n",
      "小黃  91  53  56  63  65\n",
      "小陳  71  88  51  69  87\n",
      "小美  69  53  87  74  70\n",
      "\n",
      "後二位的成績\n",
      "    國語  數學  英文  自然  社會\n",
      "小陳  71  88  51  69  87\n",
      "小美  69  53  87  74  70\n",
      "\n",
      "以自然遞減排序\n",
      "小美    74\n",
      "小林    73\n",
      "小陳    69\n",
      "小黃    63\n",
      "Name: 自然, dtype: int64\n",
      "\n",
      "小黃的成績\n",
      "國語    91\n",
      "數學    53\n",
      "英文    80\n",
      "自然    63\n",
      "社會    65\n",
      "Name: 小黃, dtype: int64\n"
     ]
    }
   ],
   "source": [
    "# 301 學生成績\n",
    "# -*- coding: utf-8 -*-\n",
    "# 載入 pandas 模組縮寫為 pd\n",
    "import pandas as pd\n",
    "\n",
    "# 資料輸入\n",
    "datas = [[75, 62, 85, 73, 60], [91, 53, 56, 63, 65],\n",
    "         [71, 88, 51, 69, 87], [69, 53, 87, 74, 70]]\n",
    "indexs = [\"小林\", \"小黃\", \"小陳\", \"小美\"]\n",
    "columns = [\"國語\", \"數學\", \"英文\", \"自然\", \"社會\"]\n",
    "df = pd.DataFrame(datas, columns=columns,  index=indexs)\n",
    "\n",
    "print('行標題為科目，列題標為個人的所有學生成績')\n",
    "print(df)\n",
    "print()\n",
    "\n",
    "# 輸出後二位學生的所有成績\n",
    "print('後二位的成績')\n",
    "print(df[-2:])\n",
    "print()\n",
    "\n",
    "# 將自然成績做遞減排序輸出\n",
    "df1 = df.sort_values(by=\"自然\", ascending=False)\n",
    "print('以自然遞減排序')\n",
    "print(df1['自然'])\n",
    "print()\n",
    "\n",
    "# 僅列小黃的成績，並將其英文成績改為80\n",
    "df.loc[\"小黃\", \"英文\"] = 80\n",
    "print('小黃的成績')\n",
    "print(df.loc['小黃'])"
   ]
  },
  {
   "cell_type": "code",
   "execution_count": 32,
   "metadata": {},
   "outputs": [
    {
     "data": {
      "text/html": [
       "<div>\n",
       "<style scoped>\n",
       "    .dataframe tbody tr th:only-of-type {\n",
       "        vertical-align: middle;\n",
       "    }\n",
       "\n",
       "    .dataframe tbody tr th {\n",
       "        vertical-align: top;\n",
       "    }\n",
       "\n",
       "    .dataframe thead th {\n",
       "        text-align: right;\n",
       "    }\n",
       "</style>\n",
       "<table border=\"1\" class=\"dataframe\">\n",
       "  <thead>\n",
       "    <tr style=\"text-align: right;\">\n",
       "      <th></th>\n",
       "      <th>name</th>\n",
       "      <th>year</th>\n",
       "      <th>month</th>\n",
       "      <th>day</th>\n",
       "    </tr>\n",
       "  </thead>\n",
       "  <tbody>\n",
       "    <tr>\n",
       "      <th>0</th>\n",
       "      <td>Bob</td>\n",
       "      <td>1996</td>\n",
       "      <td>8</td>\n",
       "      <td>11</td>\n",
       "    </tr>\n",
       "    <tr>\n",
       "      <th>1</th>\n",
       "      <td>Nancy</td>\n",
       "      <td>1997</td>\n",
       "      <td>8</td>\n",
       "      <td>23</td>\n",
       "    </tr>\n",
       "    <tr>\n",
       "      <th>2</th>\n",
       "      <td>Amy</td>\n",
       "      <td>1997</td>\n",
       "      <td>7</td>\n",
       "      <td>8</td>\n",
       "    </tr>\n",
       "    <tr>\n",
       "      <th>3</th>\n",
       "      <td>Elsa</td>\n",
       "      <td>1996</td>\n",
       "      <td>1</td>\n",
       "      <td>3</td>\n",
       "    </tr>\n",
       "    <tr>\n",
       "      <th>4</th>\n",
       "      <td>Jack</td>\n",
       "      <td>1997</td>\n",
       "      <td>12</td>\n",
       "      <td>11</td>\n",
       "    </tr>\n",
       "  </tbody>\n",
       "</table>\n",
       "</div>"
      ],
      "text/plain": [
       "    name  year  month  day\n",
       "0    Bob  1996      8   11\n",
       "1  Nancy  1997      8   23\n",
       "2    Amy  1997      7    8\n",
       "3   Elsa  1996      1    3\n",
       "4   Jack  1997     12   11"
      ]
     },
     "execution_count": 32,
     "metadata": {},
     "output_type": "execute_result"
    }
   ],
   "source": [
    "data = {'name': ['Bob', 'Nancy','Amy','Elsa','Jack'],\n",
    "        'year': [1996, 1997, 1997, 1996, 1997],\n",
    "        'month': [8, 8, 7, 1, 12],\n",
    "        'day':[11,23,8,3,11]}\n",
    "myframe = pd.DataFrame(data)\n",
    "myframe"
   ]
  },
  {
   "cell_type": "code",
   "execution_count": 35,
   "metadata": {},
   "outputs": [
    {
     "data": {
      "text/plain": [
       "a    0\n",
       "a    1\n",
       "b    2\n",
       "b    3\n",
       "b    4\n",
       "c    5\n",
       "c    6\n",
       "c    7\n",
       "c    8\n",
       "c    9\n",
       "dtype: int64"
      ]
     },
     "execution_count": 35,
     "metadata": {},
     "output_type": "execute_result"
    }
   ],
   "source": [
    "import pandas as pd\n",
    "\n",
    "seriesObj = pd.Series(range(10),index=['a', 'a', 'b', 'b', 'b','c','c','c','c','c'])\n",
    "seriesObj"
   ]
  }
 ],
 "metadata": {
  "kernelspec": {
   "display_name": "Python 3",
   "language": "python",
   "name": "python3"
  },
  "language_info": {
   "codemirror_mode": {
    "name": "ipython",
    "version": 3
   },
   "file_extension": ".py",
   "mimetype": "text/x-python",
   "name": "python",
   "nbconvert_exporter": "python",
   "pygments_lexer": "ipython3",
   "version": "3.6.5"
  }
 },
 "nbformat": 4,
 "nbformat_minor": 2
}
