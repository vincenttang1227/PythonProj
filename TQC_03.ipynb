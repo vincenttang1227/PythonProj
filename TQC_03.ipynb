{
 "cells": [
  {
   "cell_type": "code",
   "execution_count": 4,
   "metadata": {},
   "outputs": [
    {
     "name": "stdout",
     "output_type": "stream",
     "text": [
      "66\n",
      "666\n"
     ]
    },
    {
     "data": {
      "text/plain": [
       "219966"
      ]
     },
     "execution_count": 4,
     "metadata": {},
     "output_type": "execute_result"
    }
   ],
   "source": [
    "# 301\n",
    "num1 = int(input())\n",
    "num2 = int(input())\n",
    "result = 0\n",
    "\n",
    "for i in range(num1,num2+1):\n",
    "    result += i\n",
    "print(result)"
   ]
  },
  {
   "cell_type": "code",
   "execution_count": 16,
   "metadata": {},
   "outputs": [
    {
     "name": "stdout",
     "output_type": "stream",
     "text": [
      "1\n",
      "100\n",
      "2550\n"
     ]
    }
   ],
   "source": [
    "# 302\n",
    "num1 = int(input())\n",
    "num2 = int(input())\n",
    "result = 0\n",
    "\n",
    "if num1 %2 == 0:\n",
    "    for i in range(num1 , num2+1 , 2):\n",
    "        result += i\n",
    "else:\n",
    "    for i in range(num1+1 , num2+1 , 2):\n",
    "        result += i\n",
    "print(result)"
   ]
  },
  {
   "cell_type": "code",
   "execution_count": 31,
   "metadata": {},
   "outputs": [
    {
     "name": "stdout",
     "output_type": "stream",
     "text": [
      "21\n",
      "5\n",
      "15\n",
      "30\n",
      "50\n"
     ]
    }
   ],
   "source": [
    "# 304\n",
    "num1 = int(input())\n",
    "result = 0\n",
    "\n",
    "for i in range(5 , num1+1 , 5):\n",
    "    result += i\n",
    "    print(result)"
   ]
  },
  {
   "cell_type": "code",
   "execution_count": 49,
   "metadata": {},
   "outputs": [
    {
     "name": "stdout",
     "output_type": "stream",
     "text": [
      "31283\n",
      "38213\n"
     ]
    }
   ],
   "source": [
    "# 305\n",
    "num1 = input()\n",
    "print(num1[::-1])"
   ]
  },
  {
   "cell_type": "code",
   "execution_count": 52,
   "metadata": {},
   "outputs": [
    {
     "name": "stdout",
     "output_type": "stream",
     "text": [
      "15\n",
      "1307674368000\n"
     ]
    }
   ],
   "source": [
    "# 306\n",
    "num1 = int(input())\n",
    "result = 1\n",
    "\n",
    "for i in range(1,num1+1):\n",
    "    result *= i\n",
    "print(result)"
   ]
  },
  {
   "cell_type": "code",
   "execution_count": 9,
   "metadata": {},
   "outputs": [
    {
     "name": "stdout",
     "output_type": "stream",
     "text": [
      "3\n",
      "32412\n",
      "Sum of all digits of 32412 is 12\n",
      "0\n",
      "Sum of all digits of 0 is 0\n",
      "769\n",
      "Sum of all digits of 769 is 22\n"
     ]
    }
   ],
   "source": [
    "# 308\n",
    "num1 = int(input())\n",
    "\n",
    "for i in range(1, num1+1 ):\n",
    "    num2 = input()\n",
    "    num_len = len(num2)\n",
    "    num_sum = 0\n",
    "    for i in range(0,num_len):\n",
    "        num_sum += int(num2[i])\n",
    "    print('Sum of all digits of {} is {}'.format(num2,num_sum))"
   ]
  },
  {
   "cell_type": "code",
   "execution_count": 22,
   "metadata": {},
   "outputs": [
    {
     "name": "stdout",
     "output_type": "stream",
     "text": [
      "50000\n",
      "1.3\n",
      "5\n",
      "Month \t  Amount\n",
      "  1  \t 50054.17\n",
      "  2  \t 50108.39\n",
      "  3  \t 50162.68\n",
      "  4  \t 50217.02\n",
      "  5  \t 50271.42\n"
     ]
    }
   ],
   "source": [
    "# 309 -- 錯誤\n",
    "amount = eval(input())\n",
    "rate = eval(input())\n",
    "month = eval(input())\n",
    "\n",
    "print('Month \\t  Amount')\n",
    "for i in range(1, month+1):\n",
    "    dep_amount = amount+amount*rate/1200\n",
    "    amount = dep_amount\n",
    "    print('{:^5d}\\t {:.2f}'.format(i,dep_amount))"
   ]
  },
  {
   "cell_type": "code",
   "execution_count": 34,
   "metadata": {},
   "outputs": [
    {
     "name": "stdout",
     "output_type": "stream",
     "text": [
      "8\n",
      "0.4142\n",
      "0.7321\n",
      "1.0000\n",
      "1.2361\n",
      "1.4495\n",
      "1.6458\n",
      "1.8284\n"
     ]
    }
   ],
   "source": [
    "# 310\n",
    "num = int(input())\n",
    "num_sum = 0\n",
    "\n",
    "for i in range(1,num):\n",
    "    num_sum += 1/(i**0.5+(i+1)**0.5)\n",
    "print('{:.4f}'.format(num_sum))"
   ]
  },
  {
   "cell_type": "code",
   "execution_count": 68,
   "metadata": {},
   "outputs": [
    {
     "name": "stdout",
     "output_type": "stream",
     "text": [
      "5\n",
      "   1\n",
      "   2   4\n",
      "   3   6   9\n",
      "   4   8  12  16\n",
      "   5  10  15  20  25\n"
     ]
    }
   ],
   "source": [
    "# 303\n",
    "num = int(input())\n",
    "for i in range(1, num+1):\n",
    "    for j in range(1,i+1):\n",
    "            print('{:4d}'.format(i*j),end='')\n",
    "    print()"
   ]
  },
  {
   "cell_type": "code",
   "execution_count": 78,
   "metadata": {},
   "outputs": [
    {
     "name": "stdout",
     "output_type": "stream",
     "text": [
      "5\n",
      "1 * 1 = 1   2 * 1 = 2   3 * 1 = 3   4 * 1 = 4   5 * 1 = 5   \n",
      "1 * 2 = 2   2 * 2 = 4   3 * 2 = 6   4 * 2 = 8   5 * 2 = 10  \n",
      "1 * 3 = 3   2 * 3 = 6   3 * 3 = 9   4 * 3 = 12  5 * 3 = 15  \n",
      "1 * 4 = 4   2 * 4 = 8   3 * 4 = 12  4 * 4 = 16  5 * 4 = 20  \n",
      "1 * 5 = 5   2 * 5 = 10  3 * 5 = 15  4 * 5 = 20  5 * 5 = 25  \n"
     ]
    }
   ],
   "source": [
    "# 307 1 * 1 = 1   \n",
    "num = int(input())\n",
    "for i in range(1, num+1):\n",
    "    for j in range(1, num+1):\n",
    "        print('{} * {} = {:<4}'.format(j,i,(j*i)),end='')\n",
    "    print()"
   ]
  }
 ],
 "metadata": {
  "kernelspec": {
   "display_name": "Python 3",
   "language": "python",
   "name": "python3"
  },
  "language_info": {
   "codemirror_mode": {
    "name": "ipython",
    "version": 3
   },
   "file_extension": ".py",
   "mimetype": "text/x-python",
   "name": "python",
   "nbconvert_exporter": "python",
   "pygments_lexer": "ipython3",
   "version": "3.6.5"
  }
 },
 "nbformat": 4,
 "nbformat_minor": 2
}
